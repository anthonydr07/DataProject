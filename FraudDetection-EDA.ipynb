{
 "cells": [
  {
   "cell_type": "markdown",
   "metadata": {
    "id": "x_qGB0dpg4NH"
   },
   "source": [
    "# <center> Fraud Detection\n",
    "    \n",
    "    \n",
    "https://www.kaggle.com/c/ieee-fraud-detection"
   ]
  },
  {
   "cell_type": "markdown",
   "metadata": {
    "id": "QFVhtpsHP8Yf"
   },
   "source": [
    "## Librairies"
   ]
  },
  {
   "cell_type": "code",
   "execution_count": 1,
   "metadata": {
    "id": "w_Y5k2eIgz0C"
   },
   "outputs": [],
   "source": [
    "import pandas as pd\n",
    "import numpy as np\n",
    "import matplotlib.pyplot as plt\n",
    "import seaborn as sns\n",
    "import pickle as pkl\n",
    "from scipy import stats\n",
    "from sklearn.decomposition import PCA\n",
    "import time\n",
    "import warnings\n",
    "warnings.filterwarnings(\"ignore\")"
   ]
  },
  {
   "cell_type": "markdown",
   "metadata": {
    "id": "s6tTOWqdQAfS"
   },
   "source": [
    "## Data"
   ]
  },
  {
   "cell_type": "code",
   "execution_count": 2,
   "metadata": {
    "colab": {
     "base_uri": "https://localhost:8080/",
     "height": 355
    },
    "id": "63awrLlwg_LO",
    "outputId": "9b32b2d8-6e78-4114-988c-72a976ad936e"
   },
   "outputs": [
    {
     "data": {
      "text/html": [
       "<div>\n",
       "<style scoped>\n",
       "    .dataframe tbody tr th:only-of-type {\n",
       "        vertical-align: middle;\n",
       "    }\n",
       "\n",
       "    .dataframe tbody tr th {\n",
       "        vertical-align: top;\n",
       "    }\n",
       "\n",
       "    .dataframe thead th {\n",
       "        text-align: right;\n",
       "    }\n",
       "</style>\n",
       "<table border=\"1\" class=\"dataframe\">\n",
       "  <thead>\n",
       "    <tr style=\"text-align: right;\">\n",
       "      <th></th>\n",
       "      <th>TransactionID</th>\n",
       "      <th>id_01</th>\n",
       "      <th>id_02</th>\n",
       "      <th>id_03</th>\n",
       "      <th>id_04</th>\n",
       "      <th>id_05</th>\n",
       "      <th>id_06</th>\n",
       "      <th>id_07</th>\n",
       "      <th>id_08</th>\n",
       "      <th>id_09</th>\n",
       "      <th>...</th>\n",
       "      <th>id_31</th>\n",
       "      <th>id_32</th>\n",
       "      <th>id_33</th>\n",
       "      <th>id_34</th>\n",
       "      <th>id_35</th>\n",
       "      <th>id_36</th>\n",
       "      <th>id_37</th>\n",
       "      <th>id_38</th>\n",
       "      <th>DeviceType</th>\n",
       "      <th>DeviceInfo</th>\n",
       "    </tr>\n",
       "  </thead>\n",
       "  <tbody>\n",
       "    <tr>\n",
       "      <th>0</th>\n",
       "      <td>2987004</td>\n",
       "      <td>0.0</td>\n",
       "      <td>70787.0</td>\n",
       "      <td>NaN</td>\n",
       "      <td>NaN</td>\n",
       "      <td>NaN</td>\n",
       "      <td>NaN</td>\n",
       "      <td>NaN</td>\n",
       "      <td>NaN</td>\n",
       "      <td>NaN</td>\n",
       "      <td>...</td>\n",
       "      <td>samsung browser 6.2</td>\n",
       "      <td>32.0</td>\n",
       "      <td>2220x1080</td>\n",
       "      <td>match_status:2</td>\n",
       "      <td>T</td>\n",
       "      <td>F</td>\n",
       "      <td>T</td>\n",
       "      <td>T</td>\n",
       "      <td>mobile</td>\n",
       "      <td>SAMSUNG SM-G892A Build/NRD90M</td>\n",
       "    </tr>\n",
       "    <tr>\n",
       "      <th>1</th>\n",
       "      <td>2987008</td>\n",
       "      <td>-5.0</td>\n",
       "      <td>98945.0</td>\n",
       "      <td>NaN</td>\n",
       "      <td>NaN</td>\n",
       "      <td>0.0</td>\n",
       "      <td>-5.0</td>\n",
       "      <td>NaN</td>\n",
       "      <td>NaN</td>\n",
       "      <td>NaN</td>\n",
       "      <td>...</td>\n",
       "      <td>mobile safari 11.0</td>\n",
       "      <td>32.0</td>\n",
       "      <td>1334x750</td>\n",
       "      <td>match_status:1</td>\n",
       "      <td>T</td>\n",
       "      <td>F</td>\n",
       "      <td>F</td>\n",
       "      <td>T</td>\n",
       "      <td>mobile</td>\n",
       "      <td>iOS Device</td>\n",
       "    </tr>\n",
       "    <tr>\n",
       "      <th>2</th>\n",
       "      <td>2987010</td>\n",
       "      <td>-5.0</td>\n",
       "      <td>191631.0</td>\n",
       "      <td>0.0</td>\n",
       "      <td>0.0</td>\n",
       "      <td>0.0</td>\n",
       "      <td>0.0</td>\n",
       "      <td>NaN</td>\n",
       "      <td>NaN</td>\n",
       "      <td>0.0</td>\n",
       "      <td>...</td>\n",
       "      <td>chrome 62.0</td>\n",
       "      <td>NaN</td>\n",
       "      <td>NaN</td>\n",
       "      <td>NaN</td>\n",
       "      <td>F</td>\n",
       "      <td>F</td>\n",
       "      <td>T</td>\n",
       "      <td>T</td>\n",
       "      <td>desktop</td>\n",
       "      <td>Windows</td>\n",
       "    </tr>\n",
       "    <tr>\n",
       "      <th>3</th>\n",
       "      <td>2987011</td>\n",
       "      <td>-5.0</td>\n",
       "      <td>221832.0</td>\n",
       "      <td>NaN</td>\n",
       "      <td>NaN</td>\n",
       "      <td>0.0</td>\n",
       "      <td>-6.0</td>\n",
       "      <td>NaN</td>\n",
       "      <td>NaN</td>\n",
       "      <td>NaN</td>\n",
       "      <td>...</td>\n",
       "      <td>chrome 62.0</td>\n",
       "      <td>NaN</td>\n",
       "      <td>NaN</td>\n",
       "      <td>NaN</td>\n",
       "      <td>F</td>\n",
       "      <td>F</td>\n",
       "      <td>T</td>\n",
       "      <td>T</td>\n",
       "      <td>desktop</td>\n",
       "      <td>NaN</td>\n",
       "    </tr>\n",
       "    <tr>\n",
       "      <th>4</th>\n",
       "      <td>2987016</td>\n",
       "      <td>0.0</td>\n",
       "      <td>7460.0</td>\n",
       "      <td>0.0</td>\n",
       "      <td>0.0</td>\n",
       "      <td>1.0</td>\n",
       "      <td>0.0</td>\n",
       "      <td>NaN</td>\n",
       "      <td>NaN</td>\n",
       "      <td>0.0</td>\n",
       "      <td>...</td>\n",
       "      <td>chrome 62.0</td>\n",
       "      <td>24.0</td>\n",
       "      <td>1280x800</td>\n",
       "      <td>match_status:2</td>\n",
       "      <td>T</td>\n",
       "      <td>F</td>\n",
       "      <td>T</td>\n",
       "      <td>T</td>\n",
       "      <td>desktop</td>\n",
       "      <td>MacOS</td>\n",
       "    </tr>\n",
       "  </tbody>\n",
       "</table>\n",
       "<p>5 rows × 41 columns</p>\n",
       "</div>"
      ],
      "text/plain": [
       "   TransactionID  id_01     id_02  id_03  id_04  id_05  id_06  id_07  id_08  \\\n",
       "0        2987004    0.0   70787.0    NaN    NaN    NaN    NaN    NaN    NaN   \n",
       "1        2987008   -5.0   98945.0    NaN    NaN    0.0   -5.0    NaN    NaN   \n",
       "2        2987010   -5.0  191631.0    0.0    0.0    0.0    0.0    NaN    NaN   \n",
       "3        2987011   -5.0  221832.0    NaN    NaN    0.0   -6.0    NaN    NaN   \n",
       "4        2987016    0.0    7460.0    0.0    0.0    1.0    0.0    NaN    NaN   \n",
       "\n",
       "   id_09  ...                id_31  id_32      id_33           id_34  id_35  \\\n",
       "0    NaN  ...  samsung browser 6.2   32.0  2220x1080  match_status:2      T   \n",
       "1    NaN  ...   mobile safari 11.0   32.0   1334x750  match_status:1      T   \n",
       "2    0.0  ...          chrome 62.0    NaN        NaN             NaN      F   \n",
       "3    NaN  ...          chrome 62.0    NaN        NaN             NaN      F   \n",
       "4    0.0  ...          chrome 62.0   24.0   1280x800  match_status:2      T   \n",
       "\n",
       "  id_36 id_37  id_38  DeviceType                     DeviceInfo  \n",
       "0     F     T      T      mobile  SAMSUNG SM-G892A Build/NRD90M  \n",
       "1     F     F      T      mobile                     iOS Device  \n",
       "2     F     T      T     desktop                        Windows  \n",
       "3     F     T      T     desktop                            NaN  \n",
       "4     F     T      T     desktop                          MacOS  \n",
       "\n",
       "[5 rows x 41 columns]"
      ]
     },
     "execution_count": 2,
     "metadata": {},
     "output_type": "execute_result"
    }
   ],
   "source": [
    "train_identity = pd.read_csv('train_identity.csv')\n",
    "train_identity.head()"
   ]
  },
  {
   "cell_type": "code",
   "execution_count": 3,
   "metadata": {
    "colab": {
     "base_uri": "https://localhost:8080/",
     "height": 251
    },
    "id": "JoF6IRe-hlto",
    "outputId": "1e1eaef3-d331-4160-f11d-698ac56ba2c3"
   },
   "outputs": [
    {
     "data": {
      "text/html": [
       "<div>\n",
       "<style scoped>\n",
       "    .dataframe tbody tr th:only-of-type {\n",
       "        vertical-align: middle;\n",
       "    }\n",
       "\n",
       "    .dataframe tbody tr th {\n",
       "        vertical-align: top;\n",
       "    }\n",
       "\n",
       "    .dataframe thead th {\n",
       "        text-align: right;\n",
       "    }\n",
       "</style>\n",
       "<table border=\"1\" class=\"dataframe\">\n",
       "  <thead>\n",
       "    <tr style=\"text-align: right;\">\n",
       "      <th></th>\n",
       "      <th>TransactionID</th>\n",
       "      <th>isFraud</th>\n",
       "      <th>TransactionDT</th>\n",
       "      <th>TransactionAmt</th>\n",
       "      <th>ProductCD</th>\n",
       "      <th>card1</th>\n",
       "      <th>card2</th>\n",
       "      <th>card3</th>\n",
       "      <th>card4</th>\n",
       "      <th>card5</th>\n",
       "      <th>...</th>\n",
       "      <th>V330</th>\n",
       "      <th>V331</th>\n",
       "      <th>V332</th>\n",
       "      <th>V333</th>\n",
       "      <th>V334</th>\n",
       "      <th>V335</th>\n",
       "      <th>V336</th>\n",
       "      <th>V337</th>\n",
       "      <th>V338</th>\n",
       "      <th>V339</th>\n",
       "    </tr>\n",
       "  </thead>\n",
       "  <tbody>\n",
       "    <tr>\n",
       "      <th>0</th>\n",
       "      <td>2987000</td>\n",
       "      <td>0</td>\n",
       "      <td>86400</td>\n",
       "      <td>68.5</td>\n",
       "      <td>W</td>\n",
       "      <td>13926</td>\n",
       "      <td>NaN</td>\n",
       "      <td>150.0</td>\n",
       "      <td>discover</td>\n",
       "      <td>142.0</td>\n",
       "      <td>...</td>\n",
       "      <td>NaN</td>\n",
       "      <td>NaN</td>\n",
       "      <td>NaN</td>\n",
       "      <td>NaN</td>\n",
       "      <td>NaN</td>\n",
       "      <td>NaN</td>\n",
       "      <td>NaN</td>\n",
       "      <td>NaN</td>\n",
       "      <td>NaN</td>\n",
       "      <td>NaN</td>\n",
       "    </tr>\n",
       "    <tr>\n",
       "      <th>1</th>\n",
       "      <td>2987001</td>\n",
       "      <td>0</td>\n",
       "      <td>86401</td>\n",
       "      <td>29.0</td>\n",
       "      <td>W</td>\n",
       "      <td>2755</td>\n",
       "      <td>404.0</td>\n",
       "      <td>150.0</td>\n",
       "      <td>mastercard</td>\n",
       "      <td>102.0</td>\n",
       "      <td>...</td>\n",
       "      <td>NaN</td>\n",
       "      <td>NaN</td>\n",
       "      <td>NaN</td>\n",
       "      <td>NaN</td>\n",
       "      <td>NaN</td>\n",
       "      <td>NaN</td>\n",
       "      <td>NaN</td>\n",
       "      <td>NaN</td>\n",
       "      <td>NaN</td>\n",
       "      <td>NaN</td>\n",
       "    </tr>\n",
       "    <tr>\n",
       "      <th>2</th>\n",
       "      <td>2987002</td>\n",
       "      <td>0</td>\n",
       "      <td>86469</td>\n",
       "      <td>59.0</td>\n",
       "      <td>W</td>\n",
       "      <td>4663</td>\n",
       "      <td>490.0</td>\n",
       "      <td>150.0</td>\n",
       "      <td>visa</td>\n",
       "      <td>166.0</td>\n",
       "      <td>...</td>\n",
       "      <td>NaN</td>\n",
       "      <td>NaN</td>\n",
       "      <td>NaN</td>\n",
       "      <td>NaN</td>\n",
       "      <td>NaN</td>\n",
       "      <td>NaN</td>\n",
       "      <td>NaN</td>\n",
       "      <td>NaN</td>\n",
       "      <td>NaN</td>\n",
       "      <td>NaN</td>\n",
       "    </tr>\n",
       "    <tr>\n",
       "      <th>3</th>\n",
       "      <td>2987003</td>\n",
       "      <td>0</td>\n",
       "      <td>86499</td>\n",
       "      <td>50.0</td>\n",
       "      <td>W</td>\n",
       "      <td>18132</td>\n",
       "      <td>567.0</td>\n",
       "      <td>150.0</td>\n",
       "      <td>mastercard</td>\n",
       "      <td>117.0</td>\n",
       "      <td>...</td>\n",
       "      <td>NaN</td>\n",
       "      <td>NaN</td>\n",
       "      <td>NaN</td>\n",
       "      <td>NaN</td>\n",
       "      <td>NaN</td>\n",
       "      <td>NaN</td>\n",
       "      <td>NaN</td>\n",
       "      <td>NaN</td>\n",
       "      <td>NaN</td>\n",
       "      <td>NaN</td>\n",
       "    </tr>\n",
       "    <tr>\n",
       "      <th>4</th>\n",
       "      <td>2987004</td>\n",
       "      <td>0</td>\n",
       "      <td>86506</td>\n",
       "      <td>50.0</td>\n",
       "      <td>H</td>\n",
       "      <td>4497</td>\n",
       "      <td>514.0</td>\n",
       "      <td>150.0</td>\n",
       "      <td>mastercard</td>\n",
       "      <td>102.0</td>\n",
       "      <td>...</td>\n",
       "      <td>0.0</td>\n",
       "      <td>0.0</td>\n",
       "      <td>0.0</td>\n",
       "      <td>0.0</td>\n",
       "      <td>0.0</td>\n",
       "      <td>0.0</td>\n",
       "      <td>0.0</td>\n",
       "      <td>0.0</td>\n",
       "      <td>0.0</td>\n",
       "      <td>0.0</td>\n",
       "    </tr>\n",
       "  </tbody>\n",
       "</table>\n",
       "<p>5 rows × 394 columns</p>\n",
       "</div>"
      ],
      "text/plain": [
       "   TransactionID  isFraud  TransactionDT  TransactionAmt ProductCD  card1  \\\n",
       "0        2987000        0          86400            68.5         W  13926   \n",
       "1        2987001        0          86401            29.0         W   2755   \n",
       "2        2987002        0          86469            59.0         W   4663   \n",
       "3        2987003        0          86499            50.0         W  18132   \n",
       "4        2987004        0          86506            50.0         H   4497   \n",
       "\n",
       "   card2  card3       card4  card5  ... V330  V331  V332  V333  V334 V335  \\\n",
       "0    NaN  150.0    discover  142.0  ...  NaN   NaN   NaN   NaN   NaN  NaN   \n",
       "1  404.0  150.0  mastercard  102.0  ...  NaN   NaN   NaN   NaN   NaN  NaN   \n",
       "2  490.0  150.0        visa  166.0  ...  NaN   NaN   NaN   NaN   NaN  NaN   \n",
       "3  567.0  150.0  mastercard  117.0  ...  NaN   NaN   NaN   NaN   NaN  NaN   \n",
       "4  514.0  150.0  mastercard  102.0  ...  0.0   0.0   0.0   0.0   0.0  0.0   \n",
       "\n",
       "  V336  V337  V338  V339  \n",
       "0  NaN   NaN   NaN   NaN  \n",
       "1  NaN   NaN   NaN   NaN  \n",
       "2  NaN   NaN   NaN   NaN  \n",
       "3  NaN   NaN   NaN   NaN  \n",
       "4  0.0   0.0   0.0   0.0  \n",
       "\n",
       "[5 rows x 394 columns]"
      ]
     },
     "execution_count": 3,
     "metadata": {},
     "output_type": "execute_result"
    }
   ],
   "source": [
    "train_transaction = pd.read_csv('train_transaction.csv')\n",
    "train_transaction.head()"
   ]
  },
  {
   "cell_type": "code",
   "execution_count": 4,
   "metadata": {
    "colab": {
     "base_uri": "https://localhost:8080/"
    },
    "id": "LxSPaYj-hy0a",
    "outputId": "c9f21287-4bcc-4399-c727-a80414685799"
   },
   "outputs": [
    {
     "name": "stdout",
     "output_type": "stream",
     "text": [
      "train_identity shape : (144233, 41)\n",
      "train_transaction shape : (590540, 394)\n"
     ]
    }
   ],
   "source": [
    "print(f'train_identity shape : {train_identity.shape}')\n",
    "print(f'train_transaction shape : {train_transaction.shape}')"
   ]
  },
  {
   "cell_type": "code",
   "execution_count": 5,
   "metadata": {
    "colab": {
     "base_uri": "https://localhost:8080/"
    },
    "id": "KDU-yYgsh8FK",
    "outputId": "4c53ba13-d9cd-497c-cfd7-6ea98b688b92"
   },
   "outputs": [
    {
     "name": "stdout",
     "output_type": "stream",
     "text": [
      "Index(['TransactionID', 'id_01', 'id_02', 'id_03', 'id_04', 'id_05', 'id_06',\n",
      "       'id_07', 'id_08', 'id_09', 'id_10', 'id_11', 'id_12', 'id_13', 'id_14',\n",
      "       'id_15', 'id_16', 'id_17', 'id_18', 'id_19', 'id_20', 'id_21', 'id_22',\n",
      "       'id_23', 'id_24', 'id_25', 'id_26', 'id_27', 'id_28', 'id_29', 'id_30',\n",
      "       'id_31', 'id_32', 'id_33', 'id_34', 'id_35', 'id_36', 'id_37', 'id_38',\n",
      "       'DeviceType', 'DeviceInfo'],\n",
      "      dtype='object')\n"
     ]
    }
   ],
   "source": [
    "print(train_identity.columns)"
   ]
  },
  {
   "cell_type": "code",
   "execution_count": 6,
   "metadata": {
    "colab": {
     "base_uri": "https://localhost:8080/"
    },
    "id": "Qdyx8xAyiV0_",
    "outputId": "51c10581-3d5e-4327-a83c-37a6615bfa79"
   },
   "outputs": [
    {
     "name": "stdout",
     "output_type": "stream",
     "text": [
      "TransactionID\n",
      "isFraud\n",
      "TransactionDT\n",
      "TransactionAmt\n",
      "ProductCD\n",
      "card1\n",
      "card2\n",
      "card3\n",
      "card4\n",
      "card5\n",
      "card6\n",
      "addr1\n",
      "addr2\n",
      "dist1\n",
      "dist2\n",
      "P_emaildomain\n",
      "R_emaildomain\n",
      "C1\n",
      "C2\n",
      "C3\n",
      "C4\n",
      "C5\n",
      "C6\n",
      "C7\n",
      "C8\n",
      "C9\n",
      "C10\n",
      "C11\n",
      "C12\n",
      "C13\n",
      "C14\n",
      "D1\n",
      "D2\n",
      "D3\n",
      "D4\n",
      "D5\n",
      "D6\n",
      "D7\n",
      "D8\n",
      "D9\n",
      "D10\n",
      "D11\n",
      "D12\n",
      "D13\n",
      "D14\n",
      "D15\n",
      "M1\n",
      "M2\n",
      "M3\n",
      "M4\n",
      "M5\n",
      "M6\n",
      "M7\n",
      "M8\n",
      "M9\n",
      "V1\n",
      "V2\n",
      "V3\n",
      "V4\n",
      "V5\n",
      "V6\n",
      "V7\n",
      "V8\n",
      "V9\n",
      "V10\n",
      "V11\n",
      "V12\n",
      "V13\n",
      "V14\n",
      "V15\n",
      "V16\n",
      "V17\n",
      "V18\n",
      "V19\n",
      "V20\n",
      "V21\n",
      "V22\n",
      "V23\n",
      "V24\n",
      "V25\n",
      "V26\n",
      "V27\n",
      "V28\n",
      "V29\n",
      "V30\n",
      "V31\n",
      "V32\n",
      "V33\n",
      "V34\n",
      "V35\n",
      "V36\n",
      "V37\n",
      "V38\n",
      "V39\n",
      "V40\n",
      "V41\n",
      "V42\n",
      "V43\n",
      "V44\n",
      "V45\n",
      "V46\n",
      "V47\n",
      "V48\n",
      "V49\n",
      "V50\n",
      "V51\n",
      "V52\n",
      "V53\n",
      "V54\n",
      "V55\n",
      "V56\n",
      "V57\n",
      "V58\n",
      "V59\n",
      "V60\n",
      "V61\n",
      "V62\n",
      "V63\n",
      "V64\n",
      "V65\n",
      "V66\n",
      "V67\n",
      "V68\n",
      "V69\n",
      "V70\n",
      "V71\n",
      "V72\n",
      "V73\n",
      "V74\n",
      "V75\n",
      "V76\n",
      "V77\n",
      "V78\n",
      "V79\n",
      "V80\n",
      "V81\n",
      "V82\n",
      "V83\n",
      "V84\n",
      "V85\n",
      "V86\n",
      "V87\n",
      "V88\n",
      "V89\n",
      "V90\n",
      "V91\n",
      "V92\n",
      "V93\n",
      "V94\n",
      "V95\n",
      "V96\n",
      "V97\n",
      "V98\n",
      "V99\n",
      "V100\n",
      "V101\n",
      "V102\n",
      "V103\n",
      "V104\n",
      "V105\n",
      "V106\n",
      "V107\n",
      "V108\n",
      "V109\n",
      "V110\n",
      "V111\n",
      "V112\n",
      "V113\n",
      "V114\n",
      "V115\n",
      "V116\n",
      "V117\n",
      "V118\n",
      "V119\n",
      "V120\n",
      "V121\n",
      "V122\n",
      "V123\n",
      "V124\n",
      "V125\n",
      "V126\n",
      "V127\n",
      "V128\n",
      "V129\n",
      "V130\n",
      "V131\n",
      "V132\n",
      "V133\n",
      "V134\n",
      "V135\n",
      "V136\n",
      "V137\n",
      "V138\n",
      "V139\n",
      "V140\n",
      "V141\n",
      "V142\n",
      "V143\n",
      "V144\n",
      "V145\n",
      "V146\n",
      "V147\n",
      "V148\n",
      "V149\n",
      "V150\n",
      "V151\n",
      "V152\n",
      "V153\n",
      "V154\n",
      "V155\n",
      "V156\n",
      "V157\n",
      "V158\n",
      "V159\n",
      "V160\n",
      "V161\n",
      "V162\n",
      "V163\n",
      "V164\n",
      "V165\n",
      "V166\n",
      "V167\n",
      "V168\n",
      "V169\n",
      "V170\n",
      "V171\n",
      "V172\n",
      "V173\n",
      "V174\n",
      "V175\n",
      "V176\n",
      "V177\n",
      "V178\n",
      "V179\n",
      "V180\n",
      "V181\n",
      "V182\n",
      "V183\n",
      "V184\n",
      "V185\n",
      "V186\n",
      "V187\n",
      "V188\n",
      "V189\n",
      "V190\n",
      "V191\n",
      "V192\n",
      "V193\n",
      "V194\n",
      "V195\n",
      "V196\n",
      "V197\n",
      "V198\n",
      "V199\n",
      "V200\n",
      "V201\n",
      "V202\n",
      "V203\n",
      "V204\n",
      "V205\n",
      "V206\n",
      "V207\n",
      "V208\n",
      "V209\n",
      "V210\n",
      "V211\n",
      "V212\n",
      "V213\n",
      "V214\n",
      "V215\n",
      "V216\n",
      "V217\n",
      "V218\n",
      "V219\n",
      "V220\n",
      "V221\n",
      "V222\n",
      "V223\n",
      "V224\n",
      "V225\n",
      "V226\n",
      "V227\n",
      "V228\n",
      "V229\n",
      "V230\n",
      "V231\n",
      "V232\n",
      "V233\n",
      "V234\n",
      "V235\n",
      "V236\n",
      "V237\n",
      "V238\n",
      "V239\n",
      "V240\n",
      "V241\n",
      "V242\n",
      "V243\n",
      "V244\n",
      "V245\n",
      "V246\n",
      "V247\n",
      "V248\n",
      "V249\n",
      "V250\n",
      "V251\n",
      "V252\n",
      "V253\n",
      "V254\n",
      "V255\n",
      "V256\n",
      "V257\n",
      "V258\n",
      "V259\n",
      "V260\n",
      "V261\n",
      "V262\n",
      "V263\n",
      "V264\n",
      "V265\n",
      "V266\n",
      "V267\n",
      "V268\n",
      "V269\n",
      "V270\n",
      "V271\n",
      "V272\n",
      "V273\n",
      "V274\n",
      "V275\n",
      "V276\n",
      "V277\n",
      "V278\n",
      "V279\n",
      "V280\n",
      "V281\n",
      "V282\n",
      "V283\n",
      "V284\n",
      "V285\n",
      "V286\n",
      "V287\n",
      "V288\n",
      "V289\n",
      "V290\n",
      "V291\n",
      "V292\n",
      "V293\n",
      "V294\n",
      "V295\n",
      "V296\n",
      "V297\n",
      "V298\n",
      "V299\n",
      "V300\n",
      "V301\n",
      "V302\n",
      "V303\n",
      "V304\n",
      "V305\n",
      "V306\n",
      "V307\n",
      "V308\n",
      "V309\n",
      "V310\n",
      "V311\n",
      "V312\n",
      "V313\n",
      "V314\n",
      "V315\n",
      "V316\n",
      "V317\n",
      "V318\n",
      "V319\n",
      "V320\n",
      "V321\n",
      "V322\n",
      "V323\n",
      "V324\n",
      "V325\n",
      "V326\n",
      "V327\n",
      "V328\n",
      "V329\n",
      "V330\n",
      "V331\n",
      "V332\n",
      "V333\n",
      "V334\n",
      "V335\n",
      "V336\n",
      "V337\n",
      "V338\n",
      "V339\n"
     ]
    }
   ],
   "source": [
    "for col in train_transaction.columns:\n",
    "    print(col)"
   ]
  },
  {
   "cell_type": "code",
   "execution_count": 7,
   "metadata": {
    "id": "mw9gDdkWiYIh"
   },
   "outputs": [],
   "source": [
    "train = pd.merge(train_transaction,train_identity,how='left',on='TransactionID')"
   ]
  },
  {
   "cell_type": "code",
   "execution_count": 8,
   "metadata": {
    "colab": {
     "base_uri": "https://localhost:8080/"
    },
    "id": "KgmlY4pnirlI",
    "outputId": "7c9991cc-e3aa-4130-cc23-298412c626f9"
   },
   "outputs": [
    {
     "name": "stdout",
     "output_type": "stream",
     "text": [
      "train shape : (590540, 434)\n"
     ]
    }
   ],
   "source": [
    "print(f'train shape : {train.shape}')"
   ]
  },
  {
   "cell_type": "markdown",
   "metadata": {
    "id": "bBerR5QyQLmy"
   },
   "source": [
    "## Data exploration"
   ]
  },
  {
   "cell_type": "markdown",
   "metadata": {
    "id": "lcDOP4wyQfEj"
   },
   "source": [
    "### Label balance"
   ]
  },
  {
   "cell_type": "code",
   "execution_count": 9,
   "metadata": {
    "colab": {
     "base_uri": "https://localhost:8080/"
    },
    "id": "7WqxKsG5Xaml",
    "outputId": "539304a2-02d6-486a-94e4-ca99684d160a"
   },
   "outputs": [
    {
     "data": {
      "text/plain": [
       "<matplotlib.axes._subplots.AxesSubplot at 0x7f9f8ad7cf10>"
      ]
     },
     "execution_count": 9,
     "metadata": {},
     "output_type": "execute_result"
    },
    {
     "data": {
      "image/png": "[encoded data removed]",
      "text/plain": [
       "<Figure size 432x288 with 1 Axes>"
      ]
     },
     "metadata": {
      "needs_background": "light"
     },
     "output_type": "display_data"
    }
   ],
   "source": [
    "train.isFraud.value_counts().plot(kind = 'barh')"
   ]
  },
  {
   "cell_type": "code",
   "execution_count": 10,
   "metadata": {
    "colab": {
     "base_uri": "https://localhost:8080/"
    },
    "id": "_G105AzMUbWy",
    "outputId": "83bf9477-f6a2-46c9-89c1-b4305c30258f"
   },
   "outputs": [
    {
     "data": {
      "text/plain": [
       "0    569877\n",
       "1     20663\n",
       "Name: isFraud, dtype: int64"
      ]
     },
     "execution_count": 10,
     "metadata": {},
     "output_type": "execute_result"
    }
   ],
   "source": [
    "train.isFraud.value_counts()"
   ]
  },
  {
   "cell_type": "code",
   "execution_count": 11,
   "metadata": {
    "colab": {
     "base_uri": "https://localhost:8080/"
    },
    "id": "oEuJ_o8PXuau",
    "outputId": "bf14f083-b478-4164-fa95-afbf0fac687c"
   },
   "outputs": [
    {
     "data": {
      "text/plain": [
       "0    96.500999\n",
       "1     3.499001\n",
       "Name: isFraud, dtype: float64"
      ]
     },
     "execution_count": 11,
     "metadata": {},
     "output_type": "execute_result"
    }
   ],
   "source": [
    "(train.isFraud.value_counts()/train.shape[0])*100"
   ]
  },
  {
   "cell_type": "markdown",
   "metadata": {
    "id": "Q-522gUYQijW"
   },
   "source": [
    "### Missing data"
   ]
  },
  {
   "cell_type": "code",
   "execution_count": 12,
   "metadata": {
    "id": "kOz1v3Itiuhr"
   },
   "outputs": [],
   "source": [
    "n = train.shape[0]\n",
    "percentage_na = (train.isna().sum()/n)*100"
   ]
  },
  {
   "cell_type": "code",
   "execution_count": 13,
   "metadata": {
    "colab": {
     "base_uri": "https://localhost:8080/"
    },
    "id": "iOw42qfJmtyJ",
    "outputId": "9efbf78f-a953-4fa2-89d7-ae13e171e323"
   },
   "outputs": [
    {
     "name": "stdout",
     "output_type": "stream",
     "text": [
      "Number of columns with missing data : 414\n"
     ]
    }
   ],
   "source": [
    "col_with_na = [percentage_na.index[i] for i,j in enumerate(percentage_na) if j>0]\n",
    "print(f'Number of columns with missing data : {len(col_with_na)}')"
   ]
  },
  {
   "cell_type": "code",
   "execution_count": 14,
   "metadata": {
    "colab": {
     "base_uri": "https://localhost:8080/"
    },
    "id": "t6X5PsAao9ar",
    "outputId": "871e947a-23ea-4fd2-f5b1-283ba95ed5d9"
   },
   "outputs": [
    {
     "data": {
      "text/plain": [
       "0"
      ]
     },
     "execution_count": 14,
     "metadata": {},
     "output_type": "execute_result"
    }
   ],
   "source": [
    "# Check is the target has some missing labels\n",
    "train.isFraud.isna().sum()"
   ]
  },
  {
   "cell_type": "code",
   "execution_count": 15,
   "metadata": {
    "colab": {
     "base_uri": "https://localhost:8080/"
    },
    "id": "47vL8uemi98h",
    "outputId": "df545b60-a3b8-42e9-e0ff-f1bfbe98f707"
   },
   "outputs": [
    {
     "name": "stdout",
     "output_type": "stream",
     "text": [
      "dist2  :  93.63\n",
      "D7  :  93.41\n",
      "id_07  :  99.13\n",
      "id_08  :  99.13\n",
      "id_18  :  92.36\n",
      "id_21  :  99.13\n",
      "id_22  :  99.12\n",
      "id_23  :  99.12\n",
      "id_24  :  99.2\n",
      "id_25  :  99.13\n",
      "id_26  :  99.13\n",
      "id_27  :  99.12\n"
     ]
    }
   ],
   "source": [
    "col = percentage_na.index\n",
    "col_90_pct_na = []\n",
    "for i,j in enumerate(percentage_na):\n",
    "    if j>=90:\n",
    "        col_90_pct_na.append(col[i])\n",
    "        print(col[i], ' : ', round(j,2))"
   ]
  },
  {
   "cell_type": "code",
   "execution_count": 56,
   "metadata": {},
   "outputs": [
    {
     "data": {
      "text/plain": [
       "\"n_0 = train[train.isFraud==0].shape[0]\\npercentage_na = (train[train.isFraud==0].isna().sum()/n_0)*100\\ncol_with_na = [percentage_na.index[i] for i,j in enumerate(percentage_na) if j>0]\\nprint(f'Number of columns with missing data : {len(col_with_na)}')\\n\\ncol = percentage_na.index\\ncol_90_pct_na = []\\nfor i,j in enumerate(percentage_na):\\n    if j>=90:\\n        col_90_pct_na.append(col[i])\\n        print(col[i], ' : ', round(j,2))\\n\\nn_1 = train[train.isFraud==1].shape[0]\\npercentage_na = (train[train.isFraud==1].isna().sum()/n_1)*100\\ncol_with_na = [percentage_na.index[i] for i,j in enumerate(percentage_na) if j>0]\\nprint(f'Number of columns with missing data : {len(col_with_na)}')\\n\\ncol = percentage_na.index\\ncol_90_pct_na = []\\nfor i,j in enumerate(percentage_na):\\n    if j>=90:\\n        col_90_pct_na.append(col[i])\\n        print(col[i], ' : ', round(j,2))\""
      ]
     },
     "execution_count": 56,
     "metadata": {},
     "output_type": "execute_result"
    }
   ],
   "source": [
    "\"\"\"n_0 = train[train.isFraud==0].shape[0]\n",
    "percentage_na = (train[train.isFraud==0].isna().sum()/n_0)*100\n",
    "col_with_na = [percentage_na.index[i] for i,j in enumerate(percentage_na) if j>0]\n",
    "print(f'Number of columns with missing data : {len(col_with_na)}')\n",
    "\n",
    "col = percentage_na.index\n",
    "col_90_pct_na = []\n",
    "for i,j in enumerate(percentage_na):\n",
    "    if j>=90:\n",
    "        col_90_pct_na.append(col[i])\n",
    "        print(col[i], ' : ', round(j,2))\n",
    "\n",
    "n_1 = train[train.isFraud==1].shape[0]\n",
    "percentage_na = (train[train.isFraud==1].isna().sum()/n_1)*100\n",
    "col_with_na = [percentage_na.index[i] for i,j in enumerate(percentage_na) if j>0]\n",
    "print(f'Number of columns with missing data : {len(col_with_na)}')\n",
    "\n",
    "col = percentage_na.index\n",
    "col_90_pct_na = []\n",
    "for i,j in enumerate(percentage_na):\n",
    "    if j>=90:\n",
    "        col_90_pct_na.append(col[i])\n",
    "        print(col[i], ' : ', round(j,2))\"\"\""
   ]
  },
  {
   "cell_type": "markdown",
   "metadata": {},
   "source": [
    "<b> pas d'impact en fonction de la class "
   ]
  },
  {
   "cell_type": "markdown",
   "metadata": {},
   "source": [
    "<b> most columns from train identity"
   ]
  },
  {
   "cell_type": "code",
   "execution_count": 16,
   "metadata": {
    "colab": {
     "base_uri": "https://localhost:8080/"
    },
    "id": "DLGwFUovkjzu",
    "outputId": "6580c74a-3229-453f-9487-3d73cb0ad273"
   },
   "outputs": [
    {
     "name": "stdout",
     "output_type": "stream",
     "text": [
      "Number of columns with over 90% of missing variables : 12\n"
     ]
    }
   ],
   "source": [
    "print(f'Number of columns with over 90% of missing variables : {len(col_90_pct_na)}')"
   ]
  },
  {
   "cell_type": "code",
   "execution_count": 17,
   "metadata": {
    "id": "J6HbLB7skss7"
   },
   "outputs": [],
   "source": [
    "new_train = train.drop(col_90_pct_na,axis=1)"
   ]
  },
  {
   "cell_type": "code",
   "execution_count": 18,
   "metadata": {
    "colab": {
     "base_uri": "https://localhost:8080/"
    },
    "id": "ficSKUCElSdw",
    "outputId": "15460dcd-a377-4843-db9d-2c072ada47f4"
   },
   "outputs": [
    {
     "data": {
      "text/plain": [
       "(590540, 422)"
      ]
     },
     "execution_count": 18,
     "metadata": {},
     "output_type": "execute_result"
    }
   ],
   "source": [
    "new_train.shape"
   ]
  },
  {
   "cell_type": "code",
   "execution_count": 19,
   "metadata": {
    "id": "JIiDSI3tmKm-"
   },
   "outputs": [],
   "source": [
    "new_col_with_na = [col[i] for i,j in enumerate(percentage_na) if col[i] not in col_90_pct_na and j>0]"
   ]
  },
  {
   "cell_type": "code",
   "execution_count": 20,
   "metadata": {
    "colab": {
     "base_uri": "https://localhost:8080/"
    },
    "id": "s6EqK2ARmjvw",
    "outputId": "746d3242-831e-4c22-e4d2-69e2b257bd86"
   },
   "outputs": [
    {
     "name": "stdout",
     "output_type": "stream",
     "text": [
      "Number of col with na : 402\n"
     ]
    }
   ],
   "source": [
    "print(f'Number of col with na : {len(new_col_with_na)}')"
   ]
  },
  {
   "cell_type": "code",
   "execution_count": 21,
   "metadata": {
    "colab": {
     "base_uri": "https://localhost:8080/"
    },
    "id": "fp21OcFblUjg",
    "outputId": "ac045047-5654-434c-f5bc-ae77d1ca39f9"
   },
   "outputs": [
    {
     "data": {
      "text/plain": [
       "card2    24898.708581\n",
       "card3      128.514962\n",
       "card5     1701.104900\n",
       "addr1    10351.245683\n",
       "addr2        7.239455\n",
       "             ...     \n",
       "id_14     8778.847081\n",
       "id_17      922.662525\n",
       "id_19    19907.895822\n",
       "id_20    23152.765179\n",
       "id_32       13.968921\n",
       "Length: 374, dtype: float64"
      ]
     },
     "execution_count": 21,
     "metadata": {},
     "output_type": "execute_result"
    }
   ],
   "source": [
    "new_train[new_col_with_na].var()"
   ]
  },
  {
   "cell_type": "markdown",
   "metadata": {
    "id": "arIMQ3XlQzlZ"
   },
   "source": [
    "### Fill na with median and most occurence categorical feature"
   ]
  },
  {
   "cell_type": "code",
   "execution_count": 22,
   "metadata": {
    "id": "w5yxUhRklvEN"
   },
   "outputs": [],
   "source": [
    "train_tmp = new_train.fillna(new_train.median())\n",
    "train_fill = train_tmp.fillna(train_tmp.mode().iloc[0])"
   ]
  },
  {
   "cell_type": "code",
   "execution_count": 23,
   "metadata": {
    "colab": {
     "base_uri": "https://localhost:8080/"
    },
    "id": "c7We0Bkzo59T",
    "outputId": "6a806ae5-fad6-4937-ecd8-494a65527f13"
   },
   "outputs": [
    {
     "data": {
      "text/html": [
       "<div>\n",
       "<style scoped>\n",
       "    .dataframe tbody tr th:only-of-type {\n",
       "        vertical-align: middle;\n",
       "    }\n",
       "\n",
       "    .dataframe tbody tr th {\n",
       "        vertical-align: top;\n",
       "    }\n",
       "\n",
       "    .dataframe thead th {\n",
       "        text-align: right;\n",
       "    }\n",
       "</style>\n",
       "<table border=\"1\" class=\"dataframe\">\n",
       "  <thead>\n",
       "    <tr style=\"text-align: right;\">\n",
       "      <th></th>\n",
       "      <th>TransactionID</th>\n",
       "      <th>isFraud</th>\n",
       "      <th>TransactionDT</th>\n",
       "      <th>TransactionAmt</th>\n",
       "      <th>ProductCD</th>\n",
       "      <th>card1</th>\n",
       "      <th>card2</th>\n",
       "      <th>card3</th>\n",
       "      <th>card4</th>\n",
       "      <th>card5</th>\n",
       "      <th>...</th>\n",
       "      <th>id_31</th>\n",
       "      <th>id_32</th>\n",
       "      <th>id_33</th>\n",
       "      <th>id_34</th>\n",
       "      <th>id_35</th>\n",
       "      <th>id_36</th>\n",
       "      <th>id_37</th>\n",
       "      <th>id_38</th>\n",
       "      <th>DeviceType</th>\n",
       "      <th>DeviceInfo</th>\n",
       "    </tr>\n",
       "  </thead>\n",
       "  <tbody>\n",
       "    <tr>\n",
       "      <th>0</th>\n",
       "      <td>2987000</td>\n",
       "      <td>0</td>\n",
       "      <td>86400</td>\n",
       "      <td>68.5</td>\n",
       "      <td>W</td>\n",
       "      <td>13926</td>\n",
       "      <td>361.0</td>\n",
       "      <td>150.0</td>\n",
       "      <td>discover</td>\n",
       "      <td>142.0</td>\n",
       "      <td>...</td>\n",
       "      <td>chrome 63.0</td>\n",
       "      <td>24.0</td>\n",
       "      <td>1920x1080</td>\n",
       "      <td>match_status:2</td>\n",
       "      <td>T</td>\n",
       "      <td>F</td>\n",
       "      <td>T</td>\n",
       "      <td>F</td>\n",
       "      <td>desktop</td>\n",
       "      <td>Windows</td>\n",
       "    </tr>\n",
       "    <tr>\n",
       "      <th>1</th>\n",
       "      <td>2987001</td>\n",
       "      <td>0</td>\n",
       "      <td>86401</td>\n",
       "      <td>29.0</td>\n",
       "      <td>W</td>\n",
       "      <td>2755</td>\n",
       "      <td>404.0</td>\n",
       "      <td>150.0</td>\n",
       "      <td>mastercard</td>\n",
       "      <td>102.0</td>\n",
       "      <td>...</td>\n",
       "      <td>chrome 63.0</td>\n",
       "      <td>24.0</td>\n",
       "      <td>1920x1080</td>\n",
       "      <td>match_status:2</td>\n",
       "      <td>T</td>\n",
       "      <td>F</td>\n",
       "      <td>T</td>\n",
       "      <td>F</td>\n",
       "      <td>desktop</td>\n",
       "      <td>Windows</td>\n",
       "    </tr>\n",
       "    <tr>\n",
       "      <th>2</th>\n",
       "      <td>2987002</td>\n",
       "      <td>0</td>\n",
       "      <td>86469</td>\n",
       "      <td>59.0</td>\n",
       "      <td>W</td>\n",
       "      <td>4663</td>\n",
       "      <td>490.0</td>\n",
       "      <td>150.0</td>\n",
       "      <td>visa</td>\n",
       "      <td>166.0</td>\n",
       "      <td>...</td>\n",
       "      <td>chrome 63.0</td>\n",
       "      <td>24.0</td>\n",
       "      <td>1920x1080</td>\n",
       "      <td>match_status:2</td>\n",
       "      <td>T</td>\n",
       "      <td>F</td>\n",
       "      <td>T</td>\n",
       "      <td>F</td>\n",
       "      <td>desktop</td>\n",
       "      <td>Windows</td>\n",
       "    </tr>\n",
       "    <tr>\n",
       "      <th>3</th>\n",
       "      <td>2987003</td>\n",
       "      <td>0</td>\n",
       "      <td>86499</td>\n",
       "      <td>50.0</td>\n",
       "      <td>W</td>\n",
       "      <td>18132</td>\n",
       "      <td>567.0</td>\n",
       "      <td>150.0</td>\n",
       "      <td>mastercard</td>\n",
       "      <td>117.0</td>\n",
       "      <td>...</td>\n",
       "      <td>chrome 63.0</td>\n",
       "      <td>24.0</td>\n",
       "      <td>1920x1080</td>\n",
       "      <td>match_status:2</td>\n",
       "      <td>T</td>\n",
       "      <td>F</td>\n",
       "      <td>T</td>\n",
       "      <td>F</td>\n",
       "      <td>desktop</td>\n",
       "      <td>Windows</td>\n",
       "    </tr>\n",
       "    <tr>\n",
       "      <th>4</th>\n",
       "      <td>2987004</td>\n",
       "      <td>0</td>\n",
       "      <td>86506</td>\n",
       "      <td>50.0</td>\n",
       "      <td>H</td>\n",
       "      <td>4497</td>\n",
       "      <td>514.0</td>\n",
       "      <td>150.0</td>\n",
       "      <td>mastercard</td>\n",
       "      <td>102.0</td>\n",
       "      <td>...</td>\n",
       "      <td>samsung browser 6.2</td>\n",
       "      <td>32.0</td>\n",
       "      <td>2220x1080</td>\n",
       "      <td>match_status:2</td>\n",
       "      <td>T</td>\n",
       "      <td>F</td>\n",
       "      <td>T</td>\n",
       "      <td>T</td>\n",
       "      <td>mobile</td>\n",
       "      <td>SAMSUNG SM-G892A Build/NRD90M</td>\n",
       "    </tr>\n",
       "  </tbody>\n",
       "</table>\n",
       "<p>5 rows × 422 columns</p>\n",
       "</div>"
      ],
      "text/plain": [
       "   TransactionID  isFraud  TransactionDT  TransactionAmt ProductCD  card1  \\\n",
       "0        2987000        0          86400            68.5         W  13926   \n",
       "1        2987001        0          86401            29.0         W   2755   \n",
       "2        2987002        0          86469            59.0         W   4663   \n",
       "3        2987003        0          86499            50.0         W  18132   \n",
       "4        2987004        0          86506            50.0         H   4497   \n",
       "\n",
       "   card2  card3       card4  card5  ...                id_31  id_32  \\\n",
       "0  361.0  150.0    discover  142.0  ...          chrome 63.0   24.0   \n",
       "1  404.0  150.0  mastercard  102.0  ...          chrome 63.0   24.0   \n",
       "2  490.0  150.0        visa  166.0  ...          chrome 63.0   24.0   \n",
       "3  567.0  150.0  mastercard  117.0  ...          chrome 63.0   24.0   \n",
       "4  514.0  150.0  mastercard  102.0  ...  samsung browser 6.2   32.0   \n",
       "\n",
       "       id_33           id_34 id_35 id_36  id_37  id_38  DeviceType  \\\n",
       "0  1920x1080  match_status:2     T     F      T      F     desktop   \n",
       "1  1920x1080  match_status:2     T     F      T      F     desktop   \n",
       "2  1920x1080  match_status:2     T     F      T      F     desktop   \n",
       "3  1920x1080  match_status:2     T     F      T      F     desktop   \n",
       "4  2220x1080  match_status:2     T     F      T      T      mobile   \n",
       "\n",
       "                      DeviceInfo  \n",
       "0                        Windows  \n",
       "1                        Windows  \n",
       "2                        Windows  \n",
       "3                        Windows  \n",
       "4  SAMSUNG SM-G892A Build/NRD90M  \n",
       "\n",
       "[5 rows x 422 columns]"
      ]
     },
     "execution_count": 23,
     "metadata": {},
     "output_type": "execute_result"
    }
   ],
   "source": [
    "train_fill.head()"
   ]
  },
  {
   "cell_type": "markdown",
   "metadata": {
    "id": "BcTbYS9IQ7jr"
   },
   "source": [
    "## Data Analysis"
   ]
  },
  {
   "cell_type": "code",
   "execution_count": 24,
   "metadata": {},
   "outputs": [
    {
     "data": {
      "text/plain": [
       "<matplotlib.axes._subplots.AxesSubplot at 0x7f9df5e9a3d0>"
      ]
     },
     "execution_count": 24,
     "metadata": {},
     "output_type": "execute_result"
    },
    {
     "data": {
      "image/png": "[encoded data removed]",
      "text/plain": [
       "<Figure size 432x288 with 1 Axes>"
      ]
     },
     "metadata": {
      "needs_background": "light"
     },
     "output_type": "display_data"
    }
   ],
   "source": [
    "sns.boxplot(train_fill.isFraud, train_fill.TransactionAmt)"
   ]
  },
  {
   "cell_type": "code",
   "execution_count": 25,
   "metadata": {},
   "outputs": [
    {
     "data": {
      "text/plain": [
       "<matplotlib.axes._subplots.AxesSubplot at 0x7f9f9ad67c50>"
      ]
     },
     "execution_count": 25,
     "metadata": {},
     "output_type": "execute_result"
    },
    {
     "data": {
      "image/png": "[encoded data removed]",
      "text/plain": [
       "<Figure size 432x288 with 1 Axes>"
      ]
     },
     "metadata": {
      "needs_background": "light"
     },
     "output_type": "display_data"
    }
   ],
   "source": [
    "train_tmp = train_fill[train_fill['TransactionAmt']<5000]\n",
    "sns.boxplot(train_tmp.isFraud, train_tmp.TransactionAmt)"
   ]
  },
  {
   "cell_type": "code",
   "execution_count": 26,
   "metadata": {},
   "outputs": [
    {
     "data": {
      "text/plain": [
       "<matplotlib.axes._subplots.AxesSubplot at 0x7f9f9acc0c10>"
      ]
     },
     "execution_count": 26,
     "metadata": {},
     "output_type": "execute_result"
    },
    {
     "data": {
      "image/png": "[encoded data removed]",
      "text/plain": [
       "<Figure size 432x288 with 1 Axes>"
      ]
     },
     "metadata": {
      "needs_background": "light"
     },
     "output_type": "display_data"
    }
   ],
   "source": [
    "train_tmp = train_fill[train_fill['TransactionAmt']<1000]\n",
    "sns.boxplot(train_tmp.isFraud, train_tmp.TransactionAmt)"
   ]
  },
  {
   "cell_type": "code",
   "execution_count": 27,
   "metadata": {},
   "outputs": [
    {
     "data": {
      "text/plain": [
       "<matplotlib.axes._subplots.AxesSubplot at 0x7f9ad9541a50>"
      ]
     },
     "execution_count": 27,
     "metadata": {},
     "output_type": "execute_result"
    },
    {
     "data": {
      "image/png": "[encoded data removed]",
      "text/plain": [
       "<Figure size 432x288 with 1 Axes>"
      ]
     },
     "metadata": {
      "needs_background": "light"
     },
     "output_type": "display_data"
    }
   ],
   "source": [
    "train_tmp = train_fill[train_fill['TransactionAmt']<400]\n",
    "sns.boxplot(train_tmp.isFraud, train_tmp.TransactionAmt)"
   ]
  },
  {
   "cell_type": "markdown",
   "metadata": {},
   "source": [
    "<b> Keep the outliers because they can be usefull"
   ]
  },
  {
   "cell_type": "code",
   "execution_count": 28,
   "metadata": {},
   "outputs": [
    {
     "data": {
      "text/plain": [
       "visa                386344\n",
       "mastercard          189217\n",
       "american express      8328\n",
       "discover              6651\n",
       "Name: card4, dtype: int64"
      ]
     },
     "execution_count": 28,
     "metadata": {},
     "output_type": "execute_result"
    }
   ],
   "source": [
    "train_fill.card4.value_counts()"
   ]
  },
  {
   "cell_type": "code",
   "execution_count": 29,
   "metadata": {},
   "outputs": [
    {
     "data": {
      "text/plain": [
       "desktop    91.228283\n",
       "mobile      8.771717\n",
       "Name: DeviceType, dtype: float64"
      ]
     },
     "execution_count": 29,
     "metadata": {},
     "output_type": "execute_result"
    }
   ],
   "source": [
    "train_fill_0 = train_fill[train_fill['isFraud']==0]\n",
    "n_0 = train_fill_0.shape[0]\n",
    "train_fill_0.DeviceType.value_counts()/n_0*100"
   ]
  },
  {
   "cell_type": "code",
   "execution_count": 30,
   "metadata": {},
   "outputs": [
    {
     "data": {
      "text/plain": [
       "desktop    72.622562\n",
       "mobile     27.377438\n",
       "Name: DeviceType, dtype: float64"
      ]
     },
     "execution_count": 30,
     "metadata": {},
     "output_type": "execute_result"
    }
   ],
   "source": [
    "train_fill_1 = train_fill[train_fill['isFraud']==1]\n",
    "n_1 = train_fill_1.shape[0]\n",
    "train_fill_1.DeviceType.value_counts()/n_1*100"
   ]
  },
  {
   "cell_type": "markdown",
   "metadata": {},
   "source": [
    "<b> We can see that a transaction is more likely to be a fraud if it happen on a mobile "
   ]
  },
  {
   "cell_type": "code",
   "execution_count": 31,
   "metadata": {},
   "outputs": [
    {
     "name": "stdout",
     "output_type": "stream",
     "text": [
      "Windows 73.45012824856023\n",
      "iOS Device 6.001064705028311\n",
      "MacOS 1.3453999903208633\n",
      "hi6210sft Build/MRA58K 0.8711222958912066\n",
      "SM-A300H Build/LRX22G 0.8178870444756329\n"
     ]
    }
   ],
   "source": [
    "device_info_tmp = train_fill_1.DeviceInfo.value_counts()/n_1*100\n",
    "for name,perc in zip(device_info_tmp.index,device_info_tmp):\n",
    "    if perc>0.7:\n",
    "        print(name, perc)"
   ]
  },
  {
   "cell_type": "code",
   "execution_count": 32,
   "metadata": {},
   "outputs": [
    {
     "name": "stdout",
     "output_type": "stream",
     "text": [
      "Windows 88.5136617199852\n",
      "iOS Device 3.2536845670206023\n",
      "MacOS 2.157483106003576\n",
      "Trident/7.0 1.2886991403408103\n"
     ]
    }
   ],
   "source": [
    "device_info_tmp = train_fill_0.DeviceInfo.value_counts()/n_0*100\n",
    "for name,perc in zip(device_info_tmp.index,device_info_tmp):\n",
    "    if perc>0.7:\n",
    "        print(name, perc)"
   ]
  },
  {
   "cell_type": "markdown",
   "metadata": {},
   "source": [
    "<b> If a transaction if from the device hi6210sft Build/MRA58K or SM-A300H Build/LRX22G, it is more likely to be a fraud than if it is from the device Trident/7.0"
   ]
  },
  {
   "cell_type": "code",
   "execution_count": 33,
   "metadata": {
    "id": "Ld6VdYCDijBi"
   },
   "outputs": [],
   "source": [
    "corr_Fraud = train_fill.corrwith(train_fill[\"isFraud\"])"
   ]
  },
  {
   "cell_type": "markdown",
   "metadata": {
    "id": "dln6QIuhRdpF"
   },
   "source": [
    "### Features corrolated to Target"
   ]
  },
  {
   "cell_type": "code",
   "execution_count": 34,
   "metadata": {
    "colab": {
     "base_uri": "https://localhost:8080/"
    },
    "id": "jYDv6_lgitkO",
    "outputId": "cd465dd6-76d2-4b46-ed0a-5ec70bb85836"
   },
   "outputs": [
    {
     "name": "stdout",
     "output_type": "stream",
     "text": [
      "isFraud    1.000000\n",
      "card3      0.154028\n",
      "V15        0.154755\n",
      "V16        0.151645\n",
      "V17        0.158972\n",
      "             ...   \n",
      "V302       0.132889\n",
      "V303       0.124274\n",
      "V304       0.131484\n",
      "id_01     -0.123101\n",
      "id_17      0.163755\n",
      "Length: 97, dtype: float64\n"
     ]
    }
   ],
   "source": [
    "corr_fraud = corr_Fraud[(corr_Fraud>0.1) | (corr_Fraud<-0.1)]\n",
    "print(corr_fraud)"
   ]
  },
  {
   "cell_type": "markdown",
   "metadata": {
    "id": "dJLJ4JMvRkYV"
   },
   "source": [
    "### Features independant to Target"
   ]
  },
  {
   "cell_type": "code",
   "execution_count": 35,
   "metadata": {
    "colab": {
     "base_uri": "https://localhost:8080/"
    },
    "id": "pPsicdaARMqx",
    "outputId": "cc603793-4b43-49e1-9a52-c7020e82c4d8"
   },
   "outputs": [
    {
     "name": "stdout",
     "output_type": "stream",
     "text": [
      "['D13', 'M1', 'M2', 'V1', 'V2', 'V7', 'V8', 'V14', 'V88', 'V106', 'V128', 'V135', 'V136', 'V137', 'V167', 'V168', 'V177', 'V178', 'V179', 'V202', 'V203', 'V204', 'V205', 'V206', 'V207', 'V241', 'V251', 'V266', 'V267', 'V269', 'V280', 'V295', 'V297', 'V298', 'V299', 'V305', 'V306', 'V311', 'V318', 'V319', 'V321', 'V326', 'V328', 'V334', 'V335', 'V336', 'V337', 'id_36']\n"
     ]
    }
   ],
   "source": [
    "col_indep_fill = []\n",
    "for i in train_fill.columns:\n",
    "    x = train_fill[i].dropna()\n",
    "    if (type(x.iloc[0])==str) :\n",
    "        pval = stats.chi2_contingency(pd.crosstab(train_fill[\"isFraud\"],train_fill[i]))[1]\n",
    "    else:\n",
    "        u = train_fill[i][train_fill[\"isFraud\"]==0]\n",
    "        v = train_fill[i][train_fill[\"isFraud\"]==1]\n",
    "        pval = stats.ttest_ind(u,v)[1]\n",
    "    if pval>=0.05:\n",
    "        col_indep_fill.append(i)\n",
    "print(col_indep_fill)"
   ]
  },
  {
   "cell_type": "markdown",
   "metadata": {
    "id": "S8803EbTRquN"
   },
   "source": [
    "### Features correlated to each other"
   ]
  },
  {
   "cell_type": "markdown",
   "metadata": {},
   "source": [
    "### Columns C.."
   ]
  },
  {
   "cell_type": "code",
   "execution_count": 36,
   "metadata": {
    "id": "znsz4Z__rrGt"
   },
   "outputs": [],
   "source": [
    "col_Cx = [col for col in train_fill.columns if col.startswith(\"C\") and col[-1].isdigit()]\n",
    "\n",
    "col_Cx_drop = []\n",
    "for i,col in enumerate(col_Cx):\n",
    "    if col not in col_Cx_drop:\n",
    "        corr_Cx = train_fill[col_Cx[i+1:]].corrwith(train_fill[col])\n",
    "        corr_Cx_tmp = corr_Cx[(corr_Cx>=0.9) | (corr_Cx<=-0.9)]\n",
    "        if not corr_Cx_tmp.index.empty:\n",
    "            col_Cx_drop = col_Cx_drop + list(corr_Cx_tmp.index)"
   ]
  },
  {
   "cell_type": "code",
   "execution_count": 37,
   "metadata": {
    "colab": {
     "base_uri": "https://localhost:8080/"
    },
    "id": "TLkJqGxit5LO",
    "outputId": "3f500552-e766-4ea2-e60f-dd34f04c6dd6"
   },
   "outputs": [
    {
     "data": {
      "image/png": "[encoded data removed]",
      "text/plain": [
       "<Figure size 1152x432 with 2 Axes>"
      ]
     },
     "metadata": {
      "needs_background": "light"
     },
     "output_type": "display_data"
    }
   ],
   "source": [
    "plt.figure(figsize=(16, 6))\n",
    "heatmap = sns.heatmap(train_fill[col_Cx].corr(), vmin=-1, vmax=1, annot=True,cmap='BrBG')\n",
    "plt.show()"
   ]
  },
  {
   "cell_type": "markdown",
   "metadata": {
    "id": "w6O61vRzjXuj"
   },
   "source": [
    "- C1 : C2, C4, C6, C7, C8, C10, C11, C12, C13, C14\n",
    "- C3  \n",
    "- C5 : C9\n",
    "- C13\n",
    "\n",
    "Nous pouvons garder C1, C3, C5 et C13 pour représenter tout le reste\n",
    "\n",
    "\n",
    "\n"
   ]
  },
  {
   "cell_type": "code",
   "execution_count": 38,
   "metadata": {
    "id": "ikkdDfofP8WE"
   },
   "outputs": [
    {
     "name": "stdout",
     "output_type": "stream",
     "text": [
      "['C1', 'C3', 'C5', 'C13']\n"
     ]
    }
   ],
   "source": [
    "col_C = [col for col in col_Cx if col not in col_Cx_drop]\n",
    "print(col_C)"
   ]
  },
  {
   "cell_type": "code",
   "execution_count": 39,
   "metadata": {},
   "outputs": [
    {
     "data": {
      "image/png": "[encoded data removed]",
      "text/plain": [
       "<Figure size 720x720 with 2 Axes>"
      ]
     },
     "metadata": {
      "needs_background": "light"
     },
     "output_type": "display_data"
    }
   ],
   "source": [
    "plt.figure(figsize=(10, 10))\n",
    "heatmap = sns.heatmap(train_fill[col_C].corr(), vmin=-1, vmax=1, annot=True,cmap='BrBG')\n",
    "plt.show()"
   ]
  },
  {
   "cell_type": "markdown",
   "metadata": {},
   "source": [
    "### Columns D.."
   ]
  },
  {
   "cell_type": "code",
   "execution_count": 40,
   "metadata": {},
   "outputs": [],
   "source": [
    "col_Dx = [col for col in train_fill.columns if col.startswith(\"D\") and col[-1].isdigit()]\n",
    "\n",
    "col_Dx_drop = []\n",
    "for i,col in enumerate(col_Dx):\n",
    "    if col not in col_Dx_drop:\n",
    "        corr_Dx = train_fill[col_Dx[i+1:]].corrwith(train_fill[col])\n",
    "        corr_Dx_tmp = corr_Dx[(corr_Dx>=0.9) | (corr_Dx<=-0.9)]\n",
    "        if not corr_Dx_tmp.index.empty:\n",
    "            col_Dx_drop = col_Dx_drop + list(corr_Dx_tmp.index)"
   ]
  },
  {
   "cell_type": "code",
   "execution_count": 41,
   "metadata": {},
   "outputs": [
    {
     "data": {
      "image/png": "[encoded data removed]",
      "text/plain": [
       "<Figure size 1152x432 with 2 Axes>"
      ]
     },
     "metadata": {
      "needs_background": "light"
     },
     "output_type": "display_data"
    }
   ],
   "source": [
    "plt.figure(figsize=(16, 6))\n",
    "heatmap = sns.heatmap(train_fill[col_Dx].corr(), vmin=-1, vmax=1, annot=True,cmap='BrBG')\n",
    "plt.show()"
   ]
  },
  {
   "cell_type": "code",
   "execution_count": 42,
   "metadata": {},
   "outputs": [
    {
     "name": "stdout",
     "output_type": "stream",
     "text": [
      "['D2']\n"
     ]
    }
   ],
   "source": [
    "print(col_Dx_drop)"
   ]
  },
  {
   "cell_type": "markdown",
   "metadata": {},
   "source": [
    "### Columns M.."
   ]
  },
  {
   "cell_type": "code",
   "execution_count": 43,
   "metadata": {},
   "outputs": [],
   "source": [
    "col_Mx = [col for col in train_fill.columns if col.startswith(\"M\") and col[-1].isdigit()]\n",
    "\n",
    "col_Mx_drop = []\n",
    "for i,col in enumerate(col_Mx):\n",
    "    if col not in col_Mx_drop:\n",
    "        corr_Mx = train_fill[col_Mx[i+1:]].corrwith(train_fill[col])\n",
    "        corr_Mx_tmp = corr_Mx[(corr_Mx>=0.9) | (corr_Mx<=-0.9)]\n",
    "        if not corr_Mx_tmp.index.empty:\n",
    "            col_Mx_drop = col_Mx_drop + list(corr_Mx_tmp.index)"
   ]
  },
  {
   "cell_type": "code",
   "execution_count": 44,
   "metadata": {},
   "outputs": [
    {
     "data": {
      "image/png": "[encoded data removed]",
      "text/plain": [
       "<Figure size 1152x432 with 2 Axes>"
      ]
     },
     "metadata": {
      "needs_background": "light"
     },
     "output_type": "display_data"
    }
   ],
   "source": [
    "plt.figure(figsize=(16, 6))\n",
    "heatmap = sns.heatmap(train_fill[col_Mx].corr(), vmin=-1, vmax=1, annot=True,cmap='BrBG')\n",
    "plt.show()"
   ]
  },
  {
   "cell_type": "code",
   "execution_count": 45,
   "metadata": {},
   "outputs": [
    {
     "name": "stdout",
     "output_type": "stream",
     "text": [
      "[]\n"
     ]
    }
   ],
   "source": [
    "print(col_Mx_drop)"
   ]
  },
  {
   "cell_type": "markdown",
   "metadata": {},
   "source": [
    "### columns V.."
   ]
  },
  {
   "cell_type": "code",
   "execution_count": 46,
   "metadata": {
    "id": "U_eCfL26t8xl"
   },
   "outputs": [
    {
     "name": "stdout",
     "output_type": "stream",
     "text": [
      "339\n"
     ]
    }
   ],
   "source": [
    "col_Vx = [col for col in train_fill.columns if col.startswith(\"V\") and col[-1].isdigit()]\n",
    "print(len(col_Vx))"
   ]
  },
  {
   "cell_type": "code",
   "execution_count": 47,
   "metadata": {
    "colab": {
     "base_uri": "https://localhost:8080/"
    },
    "id": "dLTfVqEMP6wW",
    "outputId": "be658284-e122-4b4a-c564-db343b196382",
    "scrolled": true
   },
   "outputs": [
    {
     "name": "stdout",
     "output_type": "stream",
     "text": [
      "195\n"
     ]
    }
   ],
   "source": [
    "col_Vx_drop = []\n",
    "for i,col in enumerate(col_Vx):\n",
    "    if col not in col_Vx_drop:\n",
    "        corr_Vx = train_fill[col_Vx[i+1:]].corrwith(train_fill[col])\n",
    "        corr_Vx_tmp = corr_Vx[(corr_Vx>=0.9) | (corr_Vx<=-0.9)]\n",
    "        if not corr_Vx_tmp.index.empty:\n",
    "            col_Vx_drop = col_Vx_drop + list(corr_Vx_tmp.index)\n",
    "            \n",
    "print(len(col_Vx_drop))"
   ]
  },
  {
   "cell_type": "code",
   "execution_count": 48,
   "metadata": {},
   "outputs": [
    {
     "name": "stdout",
     "output_type": "stream",
     "text": [
      "140\n"
     ]
    }
   ],
   "source": [
    "col_V = [col for col in col_Vx if col not in col_Vx_drop and col not in corr_fraud]\n",
    "print(len(col_V))"
   ]
  },
  {
   "cell_type": "code",
   "execution_count": 49,
   "metadata": {
    "colab": {
     "base_uri": "https://localhost:8080/"
    },
    "id": "7pXhQH6_vmqO",
    "outputId": "09c2a2f0-29c7-4f06-ea2d-5f3d8c56261c"
   },
   "outputs": [
    {
     "data": {
      "image/png": "[encoded data removed]",
      "text/plain": [
       "<Figure size 1152x1152 with 2 Axes>"
      ]
     },
     "metadata": {
      "needs_background": "light"
     },
     "output_type": "display_data"
    }
   ],
   "source": [
    "plt.figure(figsize=(16, 16))\n",
    "heatmap = sns.heatmap(train_fill[col_V].corr(), vmin=-1, vmax=1,cmap='BrBG')\n",
    "plt.show()"
   ]
  },
  {
   "cell_type": "markdown",
   "metadata": {},
   "source": [
    "## New dataset"
   ]
  },
  {
   "cell_type": "code",
   "execution_count": 50,
   "metadata": {
    "id": "oTockbovVISk"
   },
   "outputs": [],
   "source": [
    "col_tmp = train_fill.columns\n",
    "col_del = col_Cx_drop + col_Vx_drop\n",
    "col_tmp = [col for col in col_tmp if col not in col_del]\n",
    "col_corr = col_tmp \n",
    "col_keep = [col for col in col_corr if col not in col_indep_fill]"
   ]
  },
  {
   "cell_type": "code",
   "execution_count": 51,
   "metadata": {
    "id": "aF0gCsP0VYHa"
   },
   "outputs": [],
   "source": [
    "train_keep = train_fill[col_keep]"
   ]
  },
  {
   "cell_type": "code",
   "execution_count": 52,
   "metadata": {
    "colab": {
     "base_uri": "https://localhost:8080/"
    },
    "id": "_oPzdqQ8W7bq",
    "outputId": "a5dfe5d8-0d48-4df9-9635-d451190faa22"
   },
   "outputs": [
    {
     "name": "stdout",
     "output_type": "stream",
     "text": [
      "(590540, 242)\n"
     ]
    }
   ],
   "source": [
    "print(train_keep.shape)"
   ]
  },
  {
   "cell_type": "markdown",
   "metadata": {
    "id": "BnZVWspdSNG9"
   },
   "source": [
    "## Put the transformed data in a pickle"
   ]
  },
  {
   "cell_type": "code",
   "execution_count": 53,
   "metadata": {
    "id": "78ETjWaOWGfG"
   },
   "outputs": [],
   "source": [
    "with open('train_keep.pkl', 'wb') as f:\n",
    "    pkl.dump(train_keep, f)\n",
    "    f.close()"
   ]
  }
 ],
 "metadata": {
  "colab": {
   "collapsed_sections": [
    "s6tTOWqdQAfS",
    "bBerR5QyQLmy",
    "lcDOP4wyQfEj",
    "Q-522gUYQijW",
    "arIMQ3XlQzlZ",
    "BcTbYS9IQ7jr",
    "dln6QIuhRdpF",
    "dJLJ4JMvRkYV",
    "S8803EbTRquN",
    "BnZVWspdSNG9",
    "NMzw6UNWSU5_",
    "iDMs744qzHjj",
    "SPnaQjYHTfg3",
    "ybo4yYNcTi0w"
   ],
   "name": "FraudDetection.ipynb",
   "provenance": []
  },
  "kernelspec": {
   "display_name": "Python 3",
   "language": "python",
   "name": "python3"
  },
  "language_info": {
   "codemirror_mode": {
    "name": "ipython",
    "version": 3
   },
   "file_extension": ".py",
   "mimetype": "text/x-python",
   "name": "python",
   "nbconvert_exporter": "python",
   "pygments_lexer": "ipython3",
   "version": "3.7.6"
  }
 },
 "nbformat": 4,
 "nbformat_minor": 1
}
