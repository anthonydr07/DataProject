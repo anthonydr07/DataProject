{
 "cells": [
  {
   "cell_type": "markdown",
   "metadata": {},
   "source": [
    "# <center> Review IMDB"
   ]
  },
  {
   "cell_type": "markdown",
   "metadata": {},
   "source": [
    "### <b> Packages"
   ]
  },
  {
   "cell_type": "code",
   "execution_count": 1,
   "metadata": {},
   "outputs": [
    {
     "name": "stderr",
     "output_type": "stream",
     "text": [
      "[nltk_data] Downloading package stopwords to\n",
      "[nltk_data]     /Users/anthonydavidasroch/nltk_data...\n",
      "[nltk_data]   Package stopwords is already up-to-date!\n"
     ]
    }
   ],
   "source": [
    "import pandas as pd\n",
    "import numpy as np\n",
    "import matplotlib.pyplot as plt\n",
    "import os\n",
    "import glob\n",
    "import seaborn as sns\n",
    "from sklearn.model_selection import train_test_split\n",
    "\n",
    "import nltk    #Natural language processing tool-kit\n",
    "nltk.download('stopwords')\n",
    "from nltk.corpus import stopwords\n",
    "\n",
    "from sklearn.feature_extraction.text import CountVectorizer, TfidfVectorizer\n",
    "\n",
    "import tensorflow as tf"
   ]
  },
  {
   "cell_type": "code",
   "execution_count": 2,
   "metadata": {},
   "outputs": [
    {
     "data": {
      "text/plain": [
       "'/Users/anthonydavidasroch/Documents/IMDB Review'"
      ]
     },
     "execution_count": 2,
     "metadata": {},
     "output_type": "execute_result"
    }
   ],
   "source": [
    "os.getcwd()"
   ]
  },
  {
   "cell_type": "markdown",
   "metadata": {},
   "source": [
    "### <b> import dataset"
   ]
  },
  {
   "cell_type": "code",
   "execution_count": 3,
   "metadata": {},
   "outputs": [],
   "source": [
    "train_path = os.getcwd() + '/aclImdb/train/'\n",
    "files_train_neg = glob.glob(train_path + '/neg/*.txt')\n",
    "files_train_pos = glob.glob(train_path + '/pos/*.txt')"
   ]
  },
  {
   "cell_type": "code",
   "execution_count": 4,
   "metadata": {},
   "outputs": [],
   "source": [
    "test_path = os.getcwd() + '/aclImdb/test/'\n",
    "files_test_neg = glob.glob(test_path + '/neg/*.txt')\n",
    "files_test_pos = glob.glob(test_path + '/pos/*.txt')"
   ]
  },
  {
   "cell_type": "code",
   "execution_count": 5,
   "metadata": {},
   "outputs": [],
   "source": [
    "def arrange_data(files, label, lenght):\n",
    "    tab = []\n",
    "    for file in files[:lenght]:\n",
    "        tab.append(open(file, \"r\").read())\n",
    "    df = pd.DataFrame(tab, columns = ['Review'])\n",
    "    df['Label'] = label\n",
    "    return df"
   ]
  },
  {
   "cell_type": "code",
   "execution_count": 6,
   "metadata": {},
   "outputs": [],
   "source": [
    "train = arrange_data(files_train_neg, 0, 6000).append(arrange_data(files_train_pos, 1, 6000))\n",
    "#test = arrange_data(files_test_neg, 0, 1500).append(arrange_data(files_test_pos, 1, 1500))"
   ]
  },
  {
   "cell_type": "code",
   "execution_count": 7,
   "metadata": {},
   "outputs": [
    {
     "name": "stdout",
     "output_type": "stream",
     "text": [
      "Review : Ouch! This one was a bit painful to sit through. It has a cute and amusing premise, but it all goes to hell from there. Matthew Modine is almost always pedestrian and annoying, and he does not disappoint in this one. Deborah Kara Unger and John Neville turned in surprisingly decent performances. Alan Bates and Jennifer Tilly, among others, played it way over the top. I know that's the way the parts were written, and it's hard to blame actors, when the script and director have them do such schlock. If you're going to have outrageous characters, that's OK, but you gotta have good material to make it work. It didn't here. Run away screaming from this movie if at all possible. \n",
      "Label : 0\n",
      "\n",
      "Review : An unassuming, subtle and lean film, \"The Man in the White Suit\" is yet another breath of fresh air in filmic format from Ealing studios. While I suspect some modern viewers may initially find it obscure, I doubt many would fail to be charmed by the expert way the plot, the themes and characters are languidly relayed during the film's course.<br /><br />The genuinely great Alec Guinness gives another fine characterization in a film perhaps not as obviously virtuoso as Ealing's inspired \"Kind Hearts and Coronets\" from 1949. This time, he merely plays one character rather than eight, but as the unworldly inventor and scientist Sidney Stratton, he always finds the correct tone and expression. Along with Guinness' subtle, expressive performance, the rest of the cast are effective. Of the main players, Cecil Parker and Ernest Thesiger do stand out. Thesiger is compellingly absurd as the crippled but influential business grandee, while Parker is dependable as the ineffectual yet pivotal mill owner and father. Father, that is, of Joan Greenwood, the deftly delectable comic actress, who is at her insurmountable peak in this film. Resplendent and seductive of aspect and diction, she is quite sublime in this film, a fine contrast with the similarly unusual, but more maladroit Guinness. The scene where she seemingly tries to tempt him is played so adeptly by the pair that it is both deeply poignant and amusing...<br /><br />The themes are handled very effectively, with no easy morals drawn. The complexities of the relationships between science, business and the workforce are insightfully and enjoyably examined. Expertly helmed by Alexander Mackendrick, this film is technically adept in all areas; evocative photography, fitting sound effects and music and a wistful script, all quietly impress. A thoroughly satisfying film, with Guinness and Greenwood magnificent.<br /><br />Rating:- **** 1/2/***** \n",
      "Label : 1\n"
     ]
    }
   ],
   "source": [
    "print('Review :', train['Review'].iloc[2], '\\nLabel :', train['Label'].iloc[2])\n",
    "print()\n",
    "print('Review :', train['Review'].iloc[-1], '\\nLabel :', train['Label'].iloc[-1])"
   ]
  },
  {
   "cell_type": "code",
   "execution_count": 8,
   "metadata": {},
   "outputs": [
    {
     "name": "stdout",
     "output_type": "stream",
     "text": [
      "Review    object\n",
      "Label      int64\n",
      "dtype: object\n"
     ]
    }
   ],
   "source": [
    "print(train.dtypes)"
   ]
  },
  {
   "cell_type": "code",
   "execution_count": 9,
   "metadata": {},
   "outputs": [],
   "source": [
    "train['Label']=train['Label'].astype('category')\n",
    "#test['Label']=test['Label'].astype('category')"
   ]
  },
  {
   "cell_type": "code",
   "execution_count": 10,
   "metadata": {},
   "outputs": [
    {
     "name": "stdout",
     "output_type": "stream",
     "text": [
      "Review      object\n",
      "Label     category\n",
      "dtype: object\n"
     ]
    }
   ],
   "source": [
    "print(train.dtypes)"
   ]
  },
  {
   "cell_type": "markdown",
   "metadata": {},
   "source": [
    "### <b> Répartition de Label"
   ]
  },
  {
   "cell_type": "code",
   "execution_count": 11,
   "metadata": {},
   "outputs": [
    {
     "data": {
      "text/plain": [
       "<matplotlib.axes._subplots.AxesSubplot at 0x1a3f90a590>"
      ]
     },
     "execution_count": 11,
     "metadata": {},
     "output_type": "execute_result"
    },
    {
     "data": {
      "image/png": "[encoded data removed]",
      "text/plain": [
       "<Figure size 432x288 with 1 Axes>"
      ]
     },
     "metadata": {
      "needs_background": "light"
     },
     "output_type": "display_data"
    }
   ],
   "source": [
    "sns.barplot(np.unique(train['Label']),train.groupby('Label').count().values[:,0])"
   ]
  },
  {
   "cell_type": "markdown",
   "metadata": {},
   "source": [
    "### <b> Put the text in lowercap and takeout ponctuation"
   ]
  },
  {
   "cell_type": "code",
   "execution_count": 12,
   "metadata": {},
   "outputs": [],
   "source": [
    "train['Review'] = train['Review'].str.replace(r'[^\\w\\s]+', '')\n",
    "train['Review'] = train['Review'].str.lower()\n",
    "\n",
    "#test['Review'] = test['Review'].str.replace(r'[^\\w\\s]+', '')\n",
    "#test['Review'] = test['Review'].str.lower()"
   ]
  },
  {
   "cell_type": "markdown",
   "metadata": {},
   "source": [
    "### <b> Takeout stop word"
   ]
  },
  {
   "cell_type": "code",
   "execution_count": 13,
   "metadata": {},
   "outputs": [],
   "source": [
    "stop = set(stopwords.words('english'))"
   ]
  },
  {
   "cell_type": "code",
   "execution_count": 14,
   "metadata": {},
   "outputs": [],
   "source": [
    "stop_word = list(stop)"
   ]
  },
  {
   "cell_type": "code",
   "execution_count": 15,
   "metadata": {},
   "outputs": [
    {
     "data": {
      "text/plain": [
       "'welltremors i the original started off in 1990 and i found the movie quite enjoyable to watch however they proceeded to make tremors ii and iii trust me those movies started going downhill right after they finished the first one i mean ass blasters now only god himself is capable of answering the question why in gods name would they create another one of these dumpster dives of a movie tremors iv cannot be considered a bad movie in fact it cannot be even considered an epitome of a bad movie for it lives up to more than that as i attempted to sit though it i noticed that my eyes started to bleed and i hoped profusely that the little girl from the ring would crawl through the tv and kill me did they really think that dressing the people who had stared in the other movies up as though they were from the wild west would make the movie with the exact same occurrences any better honestly i would never suggest buying this movie i mean there are cheaper ways to find things that burn well'"
      ]
     },
     "execution_count": 15,
     "metadata": {},
     "output_type": "execute_result"
    }
   ],
   "source": [
    "train.Review.iloc[1]"
   ]
  },
  {
   "cell_type": "code",
   "execution_count": 16,
   "metadata": {},
   "outputs": [
    {
     "data": {
      "text/plain": [
       "' welltremors original started 1990 found movie quite enjoyable watch however proceeded make tremors ii iii trust movies started going downhill right finished first one mean ass blasters god capable answering question gods name would create another one dumpster dives movie tremors iv cannot considered bad movie fact cannot even considered epitome bad movie lives attempted sit though noticed eyes started bleed hoped profusely little girl ring would crawl tv kill really think dressing people stared movies though wild west would make movie exact occurrences better honestly would never suggest buying movie mean cheaper ways find things burn well'"
      ]
     },
     "execution_count": 16,
     "metadata": {},
     "output_type": "execute_result"
    }
   ],
   "source": [
    "l = ''\n",
    "for i in [x for x in train.Review.iloc[1].split() if x not in stop_word]:\n",
    "    l = l + ' ' + i\n",
    "l"
   ]
  },
  {
   "cell_type": "markdown",
   "metadata": {},
   "source": [
    "### <b> CountVectorizer and TF IDF"
   ]
  },
  {
   "cell_type": "code",
   "execution_count": 17,
   "metadata": {},
   "outputs": [],
   "source": [
    "countvec = CountVectorizer(stop_words=stop)\n",
    "countvec_fit = countvec.fit_transform(train.Review)"
   ]
  },
  {
   "cell_type": "code",
   "execution_count": 18,
   "metadata": {},
   "outputs": [],
   "source": [
    "train_countvec = countvec_fit.toarray()"
   ]
  },
  {
   "cell_type": "code",
   "execution_count": 19,
   "metadata": {},
   "outputs": [],
   "source": [
    "tfidfvec = TfidfVectorizer(stop_words=stop)\n",
    "tfidfvec_fit = tfidfvec.fit_transform(train.Review)"
   ]
  },
  {
   "cell_type": "code",
   "execution_count": 20,
   "metadata": {},
   "outputs": [],
   "source": [
    "train_tfidf = tfidfvec_fit.toarray()"
   ]
  },
  {
   "cell_type": "code",
   "execution_count": 21,
   "metadata": {},
   "outputs": [
    {
     "data": {
      "text/plain": [
       "'\\ncountvec_fit_test = countvec.fit_transform(test.Review)\\ntest_countvec = countvec_fit_test.toarray()\\n\\ntfidfvec_fit_test = tfidfvec.fit_transform(test.Review)\\ntest_tfidf = tfidfvec_fit_test.toarray()\\n'"
      ]
     },
     "execution_count": 21,
     "metadata": {},
     "output_type": "execute_result"
    }
   ],
   "source": [
    "'''\n",
    "countvec_fit_test = countvec.fit_transform(test.Review)\n",
    "test_countvec = countvec_fit_test.toarray()\n",
    "\n",
    "tfidfvec_fit_test = tfidfvec.fit_transform(test.Review)\n",
    "test_tfidf = tfidfvec_fit_test.toarray()\n",
    "'''"
   ]
  },
  {
   "cell_type": "code",
   "execution_count": 22,
   "metadata": {},
   "outputs": [
    {
     "name": "stdout",
     "output_type": "stream",
     "text": [
      "CountVec shape : (12000, 81600)\n"
     ]
    }
   ],
   "source": [
    "print('CountVec shape :', train_countvec.shape)\n",
    "#print('TF IDF shape :', train_tfidf.shape)"
   ]
  },
  {
   "cell_type": "code",
   "execution_count": 22,
   "metadata": {},
   "outputs": [],
   "source": [
    "#X_train = train_countvec"
   ]
  },
  {
   "cell_type": "code",
   "execution_count": 23,
   "metadata": {},
   "outputs": [],
   "source": [
    "def labels(x):\n",
    "    if x==0:\n",
    "        return 1,0\n",
    "    else:\n",
    "        return 0,1\n",
    "train['Label bad'] = train['Label'].apply(lambda x: 1. if x==0 else 0.).astype('float32')\n",
    "train['Label good'] = train['Label'].apply(lambda x: 1. if x==1 else 0.).astype('float32')\n",
    "train = train.reset_index(drop=True) "
   ]
  },
  {
   "cell_type": "code",
   "execution_count": 24,
   "metadata": {},
   "outputs": [],
   "source": [
    "tmp_label = np.array(train[['Label bad','Label good']]).reshape((train_countvec.shape[0],2))"
   ]
  },
  {
   "cell_type": "code",
   "execution_count": 25,
   "metadata": {},
   "outputs": [],
   "source": [
    "#Y_train = np.array(train[['Label bad','Label good']]).reshape((train_countvec.shape[0],2))"
   ]
  },
  {
   "cell_type": "code",
   "execution_count": 26,
   "metadata": {},
   "outputs": [],
   "source": [
    "X_train, X_test, Y_train, Y_test = train_test_split(train_countvec, tmp_label)"
   ]
  },
  {
   "cell_type": "code",
   "execution_count": 27,
   "metadata": {},
   "outputs": [
    {
     "data": {
      "text/plain": [
       "\"\\nX_test = test_countvec\\n\\ntest['Label bad'] = test['Label'].apply(lambda x: 1. if x==0 else 0.).astype('float32')\\ntest['Label good'] = test['Label'].apply(lambda x: 1. if x==1 else 0.).astype('float32')\\ntest = test.reset_index(drop=True) \\nY_test = np.array(test[['Label bad','Label good']]).reshape((test_countvec.shape[0],2))\\n\""
      ]
     },
     "execution_count": 27,
     "metadata": {},
     "output_type": "execute_result"
    }
   ],
   "source": [
    "'''\n",
    "X_test = test_countvec\n",
    "\n",
    "test['Label bad'] = test['Label'].apply(lambda x: 1. if x==0 else 0.).astype('float32')\n",
    "test['Label good'] = test['Label'].apply(lambda x: 1. if x==1 else 0.).astype('float32')\n",
    "test = test.reset_index(drop=True) \n",
    "Y_test = np.array(test[['Label bad','Label good']]).reshape((test_countvec.shape[0],2))\n",
    "'''"
   ]
  },
  {
   "cell_type": "markdown",
   "metadata": {},
   "source": [
    "### <b> Simple Neural Network"
   ]
  },
  {
   "cell_type": "code",
   "execution_count": 28,
   "metadata": {},
   "outputs": [],
   "source": [
    "num_samples, num_features = X_train.shape"
   ]
  },
  {
   "cell_type": "code",
   "execution_count": 30,
   "metadata": {},
   "outputs": [
    {
     "name": "stdout",
     "output_type": "stream",
     "text": [
      "Iteration : 0 \t| Loss : 9518.749 \t | Acc : 0.565 \t | Loss test : 9273.6 \t | Acc test : 0.5783333\n",
      "Iteration : 10 \t| Loss : 240.67865 \t | Acc : 0.951\n",
      "Iteration : 20 \t| Loss : 2.6971714 \t | Acc : 0.999 \t | Loss test : 2542.37 \t | Acc test : 0.79733336\n",
      "Iteration : 30 \t| Loss : 0.68280846 \t | Acc : 1.0\n",
      "Iteration : 40 \t| Loss : 1.6771631e-18 \t | Acc : 1.0 \t | Loss test : 2512.5325 \t | Acc test : 0.7953333\n",
      "Iteration : 50 \t| Loss : 0.0 \t | Acc : 1.0\n",
      "Iteration : 60 \t| Loss : 0.0 \t | Acc : 1.0 \t | Loss test : 2510.283 \t | Acc test : 0.797\n",
      "Iteration : 70 \t| Loss : 0.0 \t | Acc : 1.0\n",
      "Iteration : 80 \t| Loss : 0.0 \t | Acc : 1.0 \t | Loss test : 2510.2834 \t | Acc test : 0.797\n",
      "Iteration : 90 \t| Loss : 1.9924837e-35 \t | Acc : 1.0\n"
     ]
    }
   ],
   "source": [
    "tf.compat.v1.disable_eager_execution()\n",
    "X = tf.compat.v1.placeholder(tf.float32, shape=[None, num_features], name='Input')\n",
    "Y = tf.compat.v1.placeholder(tf.float32, shape=[None, 2], name='Target')\n",
    "\n",
    "w1 = tf.Variable(tf.random.truncated_normal(shape=[num_features, 512], dtype=tf.float32, seed=42, name='w1'))\n",
    "b1 = tf.Variable(tf.constant(0.1, dtype=tf.float32, shape=[512], name='b1'))\n",
    "layer1 = tf.math.add(tf.linalg.matmul(X, w1), b1)\n",
    "\n",
    "w2 = tf.Variable(tf.random.truncated_normal(shape=[layer1.shape[1], 256], dtype=tf.dtypes.float32, seed=42, name='w2'))\n",
    "b2 = tf.Variable(tf.constant(0.1, dtype=tf.float32, shape=[256], name='b2'))\n",
    "layer2 = tf.math.add(tf.linalg.matmul(layer1, w2), b2)\n",
    "\n",
    "w3 = tf.Variable(tf.random.truncated_normal(shape=[layer2.shape[1], 128], dtype=tf.dtypes.float32, seed=42, name='w3'))\n",
    "b3 = tf.Variable(tf.constant(0.1, dtype=tf.float32, shape=[128], name='b3'))\n",
    "layer3 = tf.math.add(tf.linalg.matmul(layer2, w3), b3)\n",
    "\n",
    "w_out = tf.Variable(tf.random.truncated_normal(shape=[layer3.shape[1], 2], dtype=tf.dtypes.float32, seed=42, name='w_out'))\n",
    "b_out = tf.Variable(tf.constant(0.1, dtype=tf.float32, shape=[2], name='b_out'))\n",
    "layer_out = tf.math.add(tf.linalg.matmul(layer3, w_out), b_out)\n",
    "\n",
    "\n",
    "cross_entropy = tf.nn.sigmoid_cross_entropy_with_logits(Y, layer_out)\n",
    "loss = tf.reduce_mean(cross_entropy)\n",
    "\n",
    "good_pred = tf.equal(tf.argmax(Y,axis=1),tf.argmax(layer_out,axis=1))\n",
    "accuracy = tf.math.reduce_mean(tf.cast(good_pred,tf.float32))\n",
    "\n",
    "optimizer = tf.compat.v1.train.AdamOptimizer(learning_rate=0.001, name='AdamOptimizer')\n",
    "train_optimizer = optimizer.minimize(loss)\n",
    "\n",
    "batch_size = 1000\n",
    "\n",
    "with tf.compat.v1.Session() as sess: \n",
    "    sess.run(tf.compat.v1.global_variables_initializer())\n",
    "    \n",
    "    accs = []\n",
    "    losses = []\n",
    "    for epoch in range(100):\n",
    "        index = np.arange(len(X_train))\n",
    "        np.random.shuffle(index)\n",
    "        x_train = X_train[index]\n",
    "        target = Y_train[index]\n",
    "        \n",
    "        for batch in range(0,len(X_train),batch_size):\n",
    "            \n",
    "            batch_x = x_train[batch:batch+batch_size]\n",
    "            batch_y = target[batch:batch+batch_size]\n",
    "            sess.run([train_optimizer], feed_dict = {\n",
    "                X:batch_x,\n",
    "                Y:batch_y\n",
    "            })\n",
    "        if epoch%10==0:\n",
    "            perte, acc = sess.run([loss, accuracy], feed_dict={\n",
    "                X:batch_x,\n",
    "                Y:batch_y\n",
    "            })\n",
    "            accs.append(acc)\n",
    "            losses.append(perte)\n",
    "            if epoch%20==0:\n",
    "                perte_test, acc_test = sess.run([loss, accuracy], feed_dict={\n",
    "                    X:X_test,\n",
    "                    Y:Y_test\n",
    "                })\n",
    "                print('Iteration :', str(epoch), '\\t| Loss :', perte, '\\t | Acc :',acc, '\\t | Loss test :',\n",
    "                      perte_test,'\\t | Acc test :', acc_test)\n",
    "            else:\n",
    "                print('Iteration :', str(epoch), '\\t| Loss :', perte, '\\t | Acc :',acc)"
   ]
  },
  {
   "cell_type": "code",
   "execution_count": 31,
   "metadata": {},
   "outputs": [
    {
     "data": {
      "image/png": "[encoded data removed]",
      "text/plain": [
       "<Figure size 432x288 with 1 Axes>"
      ]
     },
     "metadata": {
      "needs_background": "light"
     },
     "output_type": "display_data"
    },
    {
     "data": {
      "text/plain": [
       "[<matplotlib.lines.Line2D at 0x1a436c70d0>]"
      ]
     },
     "execution_count": 31,
     "metadata": {},
     "output_type": "execute_result"
    },
    {
     "data": {
      "image/png": "[encoded data removed]",
      "text/plain": [
       "<Figure size 432x288 with 1 Axes>"
      ]
     },
     "metadata": {
      "needs_background": "light"
     },
     "output_type": "display_data"
    }
   ],
   "source": [
    "plt.plot(losses)\n",
    "plt.show()\n",
    "plt.plot(accs)"
   ]
  },
  {
   "cell_type": "code",
   "execution_count": null,
   "metadata": {},
   "outputs": [],
   "source": []
  }
 ],
 "metadata": {
  "kernelspec": {
   "display_name": "Python 3",
   "language": "python",
   "name": "python3"
  },
  "language_info": {
   "codemirror_mode": {
    "name": "ipython",
    "version": 3
   },
   "file_extension": ".py",
   "mimetype": "text/x-python",
   "name": "python",
   "nbconvert_exporter": "python",
   "pygments_lexer": "ipython3",
   "version": "3.7.6"
  }
 },
 "nbformat": 4,
 "nbformat_minor": 4
}
