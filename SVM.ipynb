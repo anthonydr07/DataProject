{
 "cells": [
  {
   "cell_type": "markdown",
   "metadata": {},
   "source": [
    "# <center> SVM (Support Vector Machine)"
   ]
  },
  {
   "cell_type": "code",
   "execution_count": 1,
   "metadata": {},
   "outputs": [],
   "source": [
    "import pandas as pd\n",
    "import numpy as np\n",
    "import matplotlib.pyplot as plt\n",
    "from sklearn.model_selection import train_test_split\n",
    "from sklearn import svm\n",
    "from sklearn.metrics import accuracy_score"
   ]
  },
  {
   "cell_type": "code",
   "execution_count": 2,
   "metadata": {},
   "outputs": [],
   "source": [
    "X_10 = np.random.normal(loc=0.0, scale=1.0, size=[500,2])\n",
    "X_11 = np.random.normal(loc=7, scale=1.0, size=[500,2])\n",
    "X_1 = np.append(X_10,X_11,axis=0)\n",
    "X_2 = np.random.normal(loc=5, scale=2, size=[1000,2])"
   ]
  },
  {
   "cell_type": "code",
   "execution_count": 3,
   "metadata": {},
   "outputs": [],
   "source": [
    "Y_1 = np.zeros_like(X_1[:,0])\n",
    "Y_2 = np.ones_like(X_2[:,0])"
   ]
  },
  {
   "cell_type": "code",
   "execution_count": 4,
   "metadata": {},
   "outputs": [],
   "source": [
    "X = np.append(X_1, X_2, axis=0)\n",
    "Y = np.append(Y_1, Y_2, axis=0)"
   ]
  },
  {
   "cell_type": "code",
   "execution_count": 5,
   "metadata": {},
   "outputs": [
    {
     "data": {
      "image/png": "[encoded data removed]",
      "text/plain": [
       "<Figure size 432x288 with 1 Axes>"
      ]
     },
     "metadata": {
      "needs_background": "light"
     },
     "output_type": "display_data"
    }
   ],
   "source": [
    "plt.plot(X_1[:,0],X_1[:,1],'bo')\n",
    "plt.plot(X_2[:,0],X_2[:,1],'ro')\n",
    "plt.show()"
   ]
  },
  {
   "cell_type": "code",
   "execution_count": 6,
   "metadata": {},
   "outputs": [],
   "source": [
    "X_train, X_test, Y_train, Y_test = train_test_split(X, Y, test_size=0.33, random_state=42)"
   ]
  },
  {
   "cell_type": "code",
   "execution_count": 7,
   "metadata": {},
   "outputs": [
    {
     "name": "stdout",
     "output_type": "stream",
     "text": [
      "Shape X_train : (1340, 2)\n",
      "Shape Y_train : (1340,)\n",
      "Shape X_test : (660, 2)\n",
      "Shape Y_test : (660,)\n"
     ]
    }
   ],
   "source": [
    "print(\"Shape X_train :\", X_train.shape)\n",
    "print(\"Shape Y_train :\", Y_train.shape)\n",
    "print(\"Shape X_test :\", X_test.shape)\n",
    "print(\"Shape Y_test :\", Y_test.shape)"
   ]
  },
  {
   "cell_type": "code",
   "execution_count": 8,
   "metadata": {},
   "outputs": [],
   "source": [
    "model_svm = svm.SVC().fit(X_train, Y_train)"
   ]
  },
  {
   "cell_type": "code",
   "execution_count": 9,
   "metadata": {},
   "outputs": [
    {
     "name": "stdout",
     "output_type": "stream",
     "text": [
      "Accuracy train :  0.8940298507462686\n"
     ]
    }
   ],
   "source": [
    "predict_train = model_svm.predict(X_train)\n",
    "print(\"Accuracy train : \", accuracy_score(Y_train, predict_train))"
   ]
  },
  {
   "cell_type": "code",
   "execution_count": 10,
   "metadata": {},
   "outputs": [
    {
     "name": "stdout",
     "output_type": "stream",
     "text": [
      "Accuracy train :  0.8954545454545455\n"
     ]
    }
   ],
   "source": [
    "predict_test = model_svm.predict(X_test)\n",
    "print(\"Accuracy train : \", accuracy_score(Y_test, predict_test))"
   ]
  },
  {
   "cell_type": "markdown",
   "metadata": {},
   "source": [
    "## <center> Comparaison avec un autre modelè"
   ]
  },
  {
   "cell_type": "code",
   "execution_count": 11,
   "metadata": {},
   "outputs": [],
   "source": [
    "from sklearn.linear_model import LogisticRegression"
   ]
  },
  {
   "cell_type": "code",
   "execution_count": 12,
   "metadata": {},
   "outputs": [],
   "source": [
    "model_logistic_reg = LogisticRegression(random_state=0).fit(X_train, Y_train)"
   ]
  },
  {
   "cell_type": "code",
   "execution_count": 13,
   "metadata": {},
   "outputs": [
    {
     "name": "stdout",
     "output_type": "stream",
     "text": [
      "Accuracy train :  0.5649253731343283\n"
     ]
    }
   ],
   "source": [
    "predict_train_reg = model_logistic_reg.predict(X_train)\n",
    "print(\"Accuracy train : \", accuracy_score(Y_train, predict_train_reg))"
   ]
  },
  {
   "cell_type": "code",
   "execution_count": 14,
   "metadata": {},
   "outputs": [
    {
     "name": "stdout",
     "output_type": "stream",
     "text": [
      "Accuracy test :  0.6151515151515151\n"
     ]
    }
   ],
   "source": [
    "predict_test_reg = model_logistic_reg.predict(X_test)\n",
    "print(\"Accuracy test : \", accuracy_score(Y_test, predict_test_reg))"
   ]
  },
  {
   "cell_type": "markdown",
   "metadata": {},
   "source": [
    "<b> Nous pouvons voir la que SVM a une performance bien meilleure que celle de la Regression Logistique car les catégories overlapes l'une sur l'autre <b>"
   ]
  }
 ],
 "metadata": {
  "kernelspec": {
   "display_name": "Python 3",
   "language": "python",
   "name": "python3"
  },
  "language_info": {
   "codemirror_mode": {
    "name": "ipython",
    "version": 3
   },
   "file_extension": ".py",
   "mimetype": "text/x-python",
   "name": "python",
   "nbconvert_exporter": "python",
   "pygments_lexer": "ipython3",
   "version": "3.7.6"
  }
 },
 "nbformat": 4,
 "nbformat_minor": 4
}
