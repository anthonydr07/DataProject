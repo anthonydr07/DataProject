{
 "cells": [
  {
   "cell_type": "markdown",
   "metadata": {},
   "source": [
    "# Normal Discriminant Analysis"
   ]
  },
  {
   "cell_type": "code",
   "execution_count": 1,
   "metadata": {},
   "outputs": [],
   "source": [
    "# Library\n",
    "\n",
    "import pandas as pd\n",
    "import numpy as np\n",
    "from scipy.stats import norm, multivariate_normal  \n",
    "import matplotlib.pyplot as plt\n",
    "from sklearn.model_selection import train_test_split\n",
    "from sklearn.metrics import accuracy_score"
   ]
  },
  {
   "cell_type": "markdown",
   "metadata": {},
   "source": [
    "## One dimensional normal law"
   ]
  },
  {
   "cell_type": "code",
   "execution_count": 2,
   "metadata": {},
   "outputs": [],
   "source": [
    "# simulate data\n",
    "\n",
    "X_10 = pd.DataFrame(np.random.normal(loc=0.0, scale=1.0, size=[500,1]),columns=['Point'])\n",
    "X_10['Class'] = 0\n",
    "X_11 = pd.DataFrame(np.random.normal(loc=7, scale=1.0, size=[500,1]),columns=['Point'])\n",
    "X_11['Class'] = 1\n",
    "X = X_10.append(X_11).reset_index(drop=True)"
   ]
  },
  {
   "cell_type": "code",
   "execution_count": 3,
   "metadata": {},
   "outputs": [],
   "source": [
    "X.columns = ['Point','Class'] "
   ]
  },
  {
   "cell_type": "code",
   "execution_count": 4,
   "metadata": {},
   "outputs": [
    {
     "data": {
      "text/html": [
       "<div>\n",
       "<style scoped>\n",
       "    .dataframe tbody tr th:only-of-type {\n",
       "        vertical-align: middle;\n",
       "    }\n",
       "\n",
       "    .dataframe tbody tr th {\n",
       "        vertical-align: top;\n",
       "    }\n",
       "\n",
       "    .dataframe thead th {\n",
       "        text-align: right;\n",
       "    }\n",
       "</style>\n",
       "<table border=\"1\" class=\"dataframe\">\n",
       "  <thead>\n",
       "    <tr style=\"text-align: right;\">\n",
       "      <th></th>\n",
       "      <th>Point</th>\n",
       "      <th>Class</th>\n",
       "    </tr>\n",
       "  </thead>\n",
       "  <tbody>\n",
       "    <tr>\n",
       "      <th>0</th>\n",
       "      <td>0.512496</td>\n",
       "      <td>0</td>\n",
       "    </tr>\n",
       "    <tr>\n",
       "      <th>1</th>\n",
       "      <td>-1.071054</td>\n",
       "      <td>0</td>\n",
       "    </tr>\n",
       "    <tr>\n",
       "      <th>2</th>\n",
       "      <td>0.810649</td>\n",
       "      <td>0</td>\n",
       "    </tr>\n",
       "    <tr>\n",
       "      <th>3</th>\n",
       "      <td>1.815070</td>\n",
       "      <td>0</td>\n",
       "    </tr>\n",
       "    <tr>\n",
       "      <th>4</th>\n",
       "      <td>1.297689</td>\n",
       "      <td>0</td>\n",
       "    </tr>\n",
       "  </tbody>\n",
       "</table>\n",
       "</div>"
      ],
      "text/plain": [
       "      Point  Class\n",
       "0  0.512496      0\n",
       "1 -1.071054      0\n",
       "2  0.810649      0\n",
       "3  1.815070      0\n",
       "4  1.297689      0"
      ]
     },
     "execution_count": 4,
     "metadata": {},
     "output_type": "execute_result"
    }
   ],
   "source": [
    "X.head()"
   ]
  },
  {
   "cell_type": "code",
   "execution_count": 5,
   "metadata": {},
   "outputs": [
    {
     "data": {
      "text/plain": [
       "<matplotlib.axes._subplots.AxesSubplot at 0x7f9d2d0a6ad0>"
      ]
     },
     "execution_count": 5,
     "metadata": {},
     "output_type": "execute_result"
    },
    {
     "data": {
      "image/png": "[encoded data removed]",
      "text/plain": [
       "<Figure size 432x288 with 1 Axes>"
      ]
     },
     "metadata": {
      "needs_background": "light"
     },
     "output_type": "display_data"
    }
   ],
   "source": [
    "# Class balance\n",
    "\n",
    "X.Class.value_counts().plot(kind=\"bar\")"
   ]
  },
  {
   "cell_type": "code",
   "execution_count": 6,
   "metadata": {},
   "outputs": [
    {
     "data": {
      "text/plain": [
       "<matplotlib.axes._subplots.AxesSubplot at 0x7f9d2d542490>"
      ]
     },
     "execution_count": 6,
     "metadata": {},
     "output_type": "execute_result"
    },
    {
     "data": {
      "image/png": "[encoded data removed]",
      "text/plain": [
       "<Figure size 432x288 with 1 Axes>"
      ]
     },
     "metadata": {
      "needs_background": "light"
     },
     "output_type": "display_data"
    }
   ],
   "source": [
    "# boxplot\n",
    "\n",
    "X.boxplot(by=\"Class\")"
   ]
  },
  {
   "cell_type": "code",
   "execution_count": 7,
   "metadata": {},
   "outputs": [
    {
     "data": {
      "image/png": "[encoded data removed]",
      "text/plain": [
       "<Figure size 432x288 with 1 Axes>"
      ]
     },
     "metadata": {
      "needs_background": "light"
     },
     "output_type": "display_data"
    }
   ],
   "source": [
    "# Plot of the data\n",
    "\n",
    "val = 0. # this is the value where you want the data to appear on the y-axis.\n",
    "x_0 = X[X.Class==0]\n",
    "x_1 = X[X.Class==1]\n",
    "plt.plot(x_0, np.zeros_like(x_0) + val, 'o',c='r')\n",
    "plt.plot(x_1, np.zeros_like(x_1) + val, 'o',c='b')\n",
    "plt.show()"
   ]
  },
  {
   "cell_type": "code",
   "execution_count": 8,
   "metadata": {},
   "outputs": [],
   "source": [
    "# Mean and variance\n",
    "\n",
    "mean0 = X[X.Class==0].Point.mean()\n",
    "std0 = X[X.Class==0].Point.std()\n",
    "mean1 = X[X.Class==1].Point.mean()\n",
    "std1 = X[X.Class==1].Point.std()"
   ]
  },
  {
   "cell_type": "code",
   "execution_count": 9,
   "metadata": {},
   "outputs": [
    {
     "name": "stderr",
     "output_type": "stream",
     "text": [
      "/opt/anaconda3/lib/python3.7/site-packages/pandas/plotting/_matplotlib/hist.py:59: MatplotlibDeprecationWarning: \n",
      "The 'normed' kwarg was deprecated in Matplotlib 2.1 and will be removed in 3.1. Use 'density' instead.\n",
      "  n, bins, patches = ax.hist(y, bins=bins, bottom=bottom, **kwds)\n"
     ]
    },
    {
     "data": {
      "text/plain": [
       "[<matplotlib.lines.Line2D at 0x7f9d2d7ad310>]"
      ]
     },
     "execution_count": 9,
     "metadata": {},
     "output_type": "execute_result"
    },
    {
     "data": {
      "image/png": "[encoded data removed]",
      "text/plain": [
       "<Figure size 432x288 with 1 Axes>"
      ]
     },
     "metadata": {
      "needs_background": "light"
     },
     "output_type": "display_data"
    }
   ],
   "source": [
    "# Histogram plot with gaussian courb\n",
    "\n",
    "X.Point.plot(kind='hist', normed=True)\n",
    "range_ = np.arange(-4, 10, 0.001)\n",
    "plt.plot(range_, norm.pdf(range_,mean0,std0))\n",
    "plt.plot(range_, norm.pdf(range_,mean1,std1))"
   ]
  },
  {
   "cell_type": "markdown",
   "metadata": {},
   "source": [
    "Bayes\n",
    "\n",
    "$P(Y|X)=\\frac{P(X|Y)P(Y)}{P(X)}$"
   ]
  },
  {
   "cell_type": "markdown",
   "metadata": {},
   "source": [
    "P(Y==i) = proba de faire parti de Y = nb de point dans Y==i"
   ]
  },
  {
   "cell_type": "markdown",
   "metadata": {},
   "source": [
    "Densité:\n",
    "\n",
    "$P(X|Y=0) = norm.pdf(X.Point[0],Ymean0,Ystd0)$\n",
    "\n",
    "\n",
    "$P(X|Y=1) = norm.pdf(X.Point[0],Ymean1,Ystd1)$"
   ]
  },
  {
   "cell_type": "markdown",
   "metadata": {},
   "source": [
    "$P(X) = P(X|Y=0)+P(X|Y=1)$"
   ]
  },
  {
   "cell_type": "code",
   "execution_count": 10,
   "metadata": {},
   "outputs": [],
   "source": [
    "p_y0 = (X.Class.value_counts()/X.shape[0])[0]\n",
    "p_y1 = (X.Class.value_counts()/X.shape[0])[1]"
   ]
  },
  {
   "cell_type": "code",
   "execution_count": 11,
   "metadata": {},
   "outputs": [],
   "source": [
    "X_train, X_test, Y_train, Y_test = train_test_split(X.Point, X.Class, test_size=0.33, random_state=42)"
   ]
  },
  {
   "cell_type": "code",
   "execution_count": 12,
   "metadata": {},
   "outputs": [],
   "source": [
    "mean0 = X_train.loc[Y_train[Y_train==0].index.tolist()].mean()\n",
    "std0 = X_train.loc[Y_train[Y_train==0].index.tolist()].std()\n",
    "mean1 = X_train.loc[Y_train[Y_train==1].index.tolist()].mean()\n",
    "std1 = X_train.loc[Y_train[Y_train==1].index.tolist()].std()"
   ]
  },
  {
   "cell_type": "code",
   "execution_count": 13,
   "metadata": {},
   "outputs": [],
   "source": [
    "def nda(X,mean0,std0,mean1,std1,pred=False):\n",
    "    y_prob = pd.DataFrame(columns=['class0','class1'])\n",
    "    for i in X:\n",
    "        p0 = norm.pdf(i, mean0, std0)\n",
    "        p1 = norm.pdf(i, mean1, std1)\n",
    "        p01 = p0 + p1\n",
    "        y_prob = y_prob.append({'class0':p0*p_y0/p01, 'class1':p1*p_y1/p01}, ignore_index=True)\n",
    "    \n",
    "    if pred:\n",
    "        y_pred = y_prob.apply(lambda x: 0 if x[0]>x[1] else 1,axis=1)\n",
    "        return y_prob, y_pred\n",
    "    \n",
    "    return y_proba"
   ]
  },
  {
   "cell_type": "code",
   "execution_count": 14,
   "metadata": {},
   "outputs": [],
   "source": [
    "_, pred = nda(X_test,mean0,std0,mean1,std1,pred=True)"
   ]
  },
  {
   "cell_type": "code",
   "execution_count": 15,
   "metadata": {},
   "outputs": [
    {
     "name": "stdout",
     "output_type": "stream",
     "text": [
      "Accuracy test :  1.0\n"
     ]
    }
   ],
   "source": [
    "print(\"Accuracy test : \", accuracy_score(Y_test, pred))"
   ]
  },
  {
   "cell_type": "markdown",
   "metadata": {},
   "source": [
    "## Multidimensional   "
   ]
  },
  {
   "cell_type": "markdown",
   "metadata": {},
   "source": [
    "### Two dimensional"
   ]
  },
  {
   "cell_type": "code",
   "execution_count": 16,
   "metadata": {},
   "outputs": [],
   "source": [
    "# Simulate data\n",
    "\n",
    "X_10 = pd.DataFrame(np.random.multivariate_normal([0,0], np.eye(2, dtype=int), (500)),columns=['Point0','Point1'])\n",
    "X_10['Class'] = 0\n",
    "X_11 = pd.DataFrame(np.random.multivariate_normal([7,7], np.eye(2, dtype=int), (500)),columns=['Point0','Point1'])\n",
    "X_11['Class'] = 1\n",
    "X = X_10.append(X_11).reset_index(drop=True)"
   ]
  },
  {
   "cell_type": "code",
   "execution_count": 17,
   "metadata": {},
   "outputs": [
    {
     "data": {
      "text/html": [
       "<div>\n",
       "<style scoped>\n",
       "    .dataframe tbody tr th:only-of-type {\n",
       "        vertical-align: middle;\n",
       "    }\n",
       "\n",
       "    .dataframe tbody tr th {\n",
       "        vertical-align: top;\n",
       "    }\n",
       "\n",
       "    .dataframe thead th {\n",
       "        text-align: right;\n",
       "    }\n",
       "</style>\n",
       "<table border=\"1\" class=\"dataframe\">\n",
       "  <thead>\n",
       "    <tr style=\"text-align: right;\">\n",
       "      <th></th>\n",
       "      <th>Point0</th>\n",
       "      <th>Point1</th>\n",
       "      <th>Class</th>\n",
       "    </tr>\n",
       "  </thead>\n",
       "  <tbody>\n",
       "    <tr>\n",
       "      <th>0</th>\n",
       "      <td>-0.528736</td>\n",
       "      <td>-1.181352</td>\n",
       "      <td>0</td>\n",
       "    </tr>\n",
       "    <tr>\n",
       "      <th>1</th>\n",
       "      <td>-1.581603</td>\n",
       "      <td>-0.306236</td>\n",
       "      <td>0</td>\n",
       "    </tr>\n",
       "    <tr>\n",
       "      <th>2</th>\n",
       "      <td>-1.842759</td>\n",
       "      <td>-1.472933</td>\n",
       "      <td>0</td>\n",
       "    </tr>\n",
       "    <tr>\n",
       "      <th>3</th>\n",
       "      <td>-0.762043</td>\n",
       "      <td>-0.736022</td>\n",
       "      <td>0</td>\n",
       "    </tr>\n",
       "    <tr>\n",
       "      <th>4</th>\n",
       "      <td>0.759704</td>\n",
       "      <td>0.446902</td>\n",
       "      <td>0</td>\n",
       "    </tr>\n",
       "  </tbody>\n",
       "</table>\n",
       "</div>"
      ],
      "text/plain": [
       "     Point0    Point1  Class\n",
       "0 -0.528736 -1.181352      0\n",
       "1 -1.581603 -0.306236      0\n",
       "2 -1.842759 -1.472933      0\n",
       "3 -0.762043 -0.736022      0\n",
       "4  0.759704  0.446902      0"
      ]
     },
     "execution_count": 17,
     "metadata": {},
     "output_type": "execute_result"
    }
   ],
   "source": [
    "X.head()"
   ]
  },
  {
   "cell_type": "code",
   "execution_count": 18,
   "metadata": {},
   "outputs": [
    {
     "data": {
      "image/png": "[encoded data removed]",
      "text/plain": [
       "<Figure size 432x288 with 1 Axes>"
      ]
     },
     "metadata": {
      "needs_background": "light"
     },
     "output_type": "display_data"
    }
   ],
   "source": [
    "# Plot data\n",
    "\n",
    "plt.plot(X[X.Class==0].Point0,X[X.Class==0].Point1,\"o\")\n",
    "plt.plot(X[X.Class==1].Point0,X[X.Class==1].Point1,\"o\")\n",
    "plt.show()"
   ]
  },
  {
   "cell_type": "code",
   "execution_count": 19,
   "metadata": {},
   "outputs": [
    {
     "data": {
      "text/plain": [
       "array([<matplotlib.axes._subplots.AxesSubplot object at 0x7f9d2dbed1d0>,\n",
       "       <matplotlib.axes._subplots.AxesSubplot object at 0x7f9d2dc5ab10>],\n",
       "      dtype=object)"
      ]
     },
     "execution_count": 19,
     "metadata": {},
     "output_type": "execute_result"
    },
    {
     "data": {
      "image/png": "[encoded data removed]",
      "text/plain": [
       "<Figure size 432x288 with 2 Axes>"
      ]
     },
     "metadata": {
      "needs_background": "light"
     },
     "output_type": "display_data"
    }
   ],
   "source": [
    "# Boxplot\n",
    "\n",
    "X.boxplot(by='Class')"
   ]
  },
  {
   "cell_type": "code",
   "execution_count": 20,
   "metadata": {},
   "outputs": [],
   "source": [
    "# Mean and variance\n",
    "\n",
    "mean0 = X[X.Class==0][['Point0','Point1']].mean().tolist()\n",
    "std0 = X[X.Class==0][['Point0','Point1']].corr()\n",
    "mean1 = X[X.Class==1][['Point0','Point1']].mean().tolist()\n",
    "std1 = X[X.Class==1][['Point0','Point1']].corr()"
   ]
  },
  {
   "cell_type": "code",
   "execution_count": 21,
   "metadata": {},
   "outputs": [
    {
     "data": {
      "text/plain": [
       "array([[<matplotlib.axes._subplots.AxesSubplot object at 0x7f9d2dea7310>,\n",
       "        <matplotlib.axes._subplots.AxesSubplot object at 0x7f9d2df35c10>]],\n",
       "      dtype=object)"
      ]
     },
     "execution_count": 21,
     "metadata": {},
     "output_type": "execute_result"
    },
    {
     "data": {
      "image/png": "[encoded data removed]",
      "text/plain": [
       "<Figure size 432x288 with 2 Axes>"
      ]
     },
     "metadata": {
      "needs_background": "light"
     },
     "output_type": "display_data"
    }
   ],
   "source": [
    "# Histogram\n",
    "\n",
    "X[['Point0','Point1']].hist()"
   ]
  },
  {
   "cell_type": "code",
   "execution_count": 22,
   "metadata": {},
   "outputs": [],
   "source": [
    "X_train, X_test, Y_train, Y_test = train_test_split(X[['Point0','Point1']], X.Class, test_size=0.33, random_state=42)"
   ]
  },
  {
   "cell_type": "code",
   "execution_count": 23,
   "metadata": {},
   "outputs": [],
   "source": [
    "p_y0 = (Y_train.value_counts()/Y_train.shape[0])[0]\n",
    "p_y1 = (Y_train.value_counts()/Y_train.shape[0])[1]"
   ]
  },
  {
   "cell_type": "code",
   "execution_count": 24,
   "metadata": {},
   "outputs": [],
   "source": [
    "mean0 = X_train.loc[Y_train[Y_train==0].index.tolist()].mean().tolist()\n",
    "std0 = X_train.loc[Y_train[Y_train==0].index.tolist()].corr()\n",
    "mean1 = X_train.loc[Y_train[Y_train==1].index.tolist()].mean().tolist()\n",
    "std1 = X_train.loc[Y_train[Y_train==1].index.tolist()].corr()"
   ]
  },
  {
   "cell_type": "code",
   "execution_count": 25,
   "metadata": {},
   "outputs": [],
   "source": [
    "def nda_multi(X,mean0,std0,mean1,std1,pred=False):\n",
    "    y_prob = pd.DataFrame(columns=['class0','class1'])\n",
    "    for i in range(X.shape[0]):\n",
    "        p0 = multivariate_normal.pdf(X.iloc[i], mean0, std0)\n",
    "        p1 = multivariate_normal.pdf(X.iloc[i], mean1, std1)\n",
    "        p01 = p0 + p1\n",
    "        y_prob = y_prob.append({'class0':p0*p_y0/p01, 'class1':p1*p_y1/p01}, ignore_index=True)\n",
    "    \n",
    "    if pred:\n",
    "        y_pred = y_prob.apply(lambda x: 0 if x[0]>x[1] else 1,axis=1)\n",
    "        return y_prob, y_pred\n",
    "    \n",
    "    return y_proba"
   ]
  },
  {
   "cell_type": "code",
   "execution_count": 26,
   "metadata": {},
   "outputs": [],
   "source": [
    "_, pred_multi = nda_multi(X_train,mean0,std0,mean1,std1,pred=True)"
   ]
  },
  {
   "cell_type": "code",
   "execution_count": 27,
   "metadata": {},
   "outputs": [
    {
     "name": "stdout",
     "output_type": "stream",
     "text": [
      "Accuracy test :  1.0\n"
     ]
    }
   ],
   "source": [
    "print(\"Accuracy test : \", accuracy_score(Y_train, pred_multi))"
   ]
  },
  {
   "cell_type": "code",
   "execution_count": 28,
   "metadata": {},
   "outputs": [
    {
     "name": "stdout",
     "output_type": "stream",
     "text": [
      "Accuracy test :  1.0\n"
     ]
    }
   ],
   "source": [
    "_, pred_multi_test = nda_multi(X_test,mean0,std0,mean1,std1,pred=True)\n",
    "\n",
    "print(\"Accuracy test : \", accuracy_score(Y_test, pred_multi_test))"
   ]
  },
  {
   "cell_type": "markdown",
   "metadata": {},
   "source": [
    "## N-dimentional"
   ]
  },
  {
   "cell_type": "code",
   "execution_count": 29,
   "metadata": {},
   "outputs": [],
   "source": [
    "n = 4"
   ]
  },
  {
   "cell_type": "code",
   "execution_count": 30,
   "metadata": {},
   "outputs": [],
   "source": [
    "col = []\n",
    "for i in range(n):\n",
    "    col.append('Point'+str(i))"
   ]
  },
  {
   "cell_type": "code",
   "execution_count": 31,
   "metadata": {},
   "outputs": [
    {
     "data": {
      "text/plain": [
       "['Point0', 'Point1', 'Point2', 'Point3']"
      ]
     },
     "execution_count": 31,
     "metadata": {},
     "output_type": "execute_result"
    }
   ],
   "source": [
    "col"
   ]
  },
  {
   "cell_type": "code",
   "execution_count": 32,
   "metadata": {},
   "outputs": [],
   "source": [
    "mean = np.array([0 for i in range(n)])\n",
    "mean1 = mean + 7\n",
    "cov = np.eye(n, dtype=int)"
   ]
  },
  {
   "cell_type": "code",
   "execution_count": 33,
   "metadata": {},
   "outputs": [],
   "source": [
    "X_10 = pd.DataFrame(np.random.multivariate_normal(mean, cov, (500)),columns=col)\n",
    "X_10['Class'] = 0\n",
    "X_11 = pd.DataFrame(np.random.multivariate_normal(mean1, cov, (500)),columns=col)\n",
    "X_11['Class'] = 1\n",
    "X = X_10.append(X_11).reset_index(drop=True)"
   ]
  },
  {
   "cell_type": "code",
   "execution_count": 34,
   "metadata": {},
   "outputs": [
    {
     "data": {
      "text/html": [
       "<div>\n",
       "<style scoped>\n",
       "    .dataframe tbody tr th:only-of-type {\n",
       "        vertical-align: middle;\n",
       "    }\n",
       "\n",
       "    .dataframe tbody tr th {\n",
       "        vertical-align: top;\n",
       "    }\n",
       "\n",
       "    .dataframe thead th {\n",
       "        text-align: right;\n",
       "    }\n",
       "</style>\n",
       "<table border=\"1\" class=\"dataframe\">\n",
       "  <thead>\n",
       "    <tr style=\"text-align: right;\">\n",
       "      <th></th>\n",
       "      <th>Point0</th>\n",
       "      <th>Point1</th>\n",
       "      <th>Point2</th>\n",
       "      <th>Point3</th>\n",
       "      <th>Class</th>\n",
       "    </tr>\n",
       "  </thead>\n",
       "  <tbody>\n",
       "    <tr>\n",
       "      <th>0</th>\n",
       "      <td>-0.806426</td>\n",
       "      <td>0.217255</td>\n",
       "      <td>-0.437505</td>\n",
       "      <td>-0.959611</td>\n",
       "      <td>0</td>\n",
       "    </tr>\n",
       "    <tr>\n",
       "      <th>1</th>\n",
       "      <td>-1.099667</td>\n",
       "      <td>0.318636</td>\n",
       "      <td>0.652910</td>\n",
       "      <td>0.675163</td>\n",
       "      <td>0</td>\n",
       "    </tr>\n",
       "    <tr>\n",
       "      <th>2</th>\n",
       "      <td>-0.549445</td>\n",
       "      <td>1.923347</td>\n",
       "      <td>-1.212793</td>\n",
       "      <td>-0.161143</td>\n",
       "      <td>0</td>\n",
       "    </tr>\n",
       "    <tr>\n",
       "      <th>3</th>\n",
       "      <td>-0.179566</td>\n",
       "      <td>0.486856</td>\n",
       "      <td>0.363593</td>\n",
       "      <td>-1.165389</td>\n",
       "      <td>0</td>\n",
       "    </tr>\n",
       "    <tr>\n",
       "      <th>4</th>\n",
       "      <td>-0.287944</td>\n",
       "      <td>0.245058</td>\n",
       "      <td>0.238268</td>\n",
       "      <td>-0.307929</td>\n",
       "      <td>0</td>\n",
       "    </tr>\n",
       "  </tbody>\n",
       "</table>\n",
       "</div>"
      ],
      "text/plain": [
       "     Point0    Point1    Point2    Point3  Class\n",
       "0 -0.806426  0.217255 -0.437505 -0.959611      0\n",
       "1 -1.099667  0.318636  0.652910  0.675163      0\n",
       "2 -0.549445  1.923347 -1.212793 -0.161143      0\n",
       "3 -0.179566  0.486856  0.363593 -1.165389      0\n",
       "4 -0.287944  0.245058  0.238268 -0.307929      0"
      ]
     },
     "execution_count": 34,
     "metadata": {},
     "output_type": "execute_result"
    }
   ],
   "source": [
    "X.head()"
   ]
  },
  {
   "cell_type": "code",
   "execution_count": 35,
   "metadata": {},
   "outputs": [
    {
     "data": {
      "text/plain": [
       "array([[<matplotlib.axes._subplots.AxesSubplot object at 0x7f9d2dff5b90>,\n",
       "        <matplotlib.axes._subplots.AxesSubplot object at 0x7f9d2e09ec90>],\n",
       "       [<matplotlib.axes._subplots.AxesSubplot object at 0x7f9d2e0caf90>,\n",
       "        <matplotlib.axes._subplots.AxesSubplot object at 0x7f9d2e23ed50>]],\n",
       "      dtype=object)"
      ]
     },
     "execution_count": 35,
     "metadata": {},
     "output_type": "execute_result"
    },
    {
     "data": {
      "image/png": "[encoded data removed]",
      "text/plain": [
       "<Figure size 432x288 with 4 Axes>"
      ]
     },
     "metadata": {
      "needs_background": "light"
     },
     "output_type": "display_data"
    }
   ],
   "source": [
    "X[col].hist()"
   ]
  },
  {
   "cell_type": "code",
   "execution_count": 36,
   "metadata": {},
   "outputs": [],
   "source": [
    "X_train, X_test, Y_train, Y_test = train_test_split(X[col], X.Class, test_size=0.33, random_state=42)"
   ]
  },
  {
   "cell_type": "code",
   "execution_count": 37,
   "metadata": {},
   "outputs": [],
   "source": [
    "mean0 = X_train.loc[Y_train[Y_train==0].index.tolist()].mean().tolist()\n",
    "corr0 = X_train.loc[Y_train[Y_train==0].index.tolist()].corr()\n",
    "mean1 = X_train.loc[Y_train[Y_train==1].index.tolist()].mean().tolist()\n",
    "corr1 = X_train.loc[Y_train[Y_train==1].index.tolist()].corr()"
   ]
  },
  {
   "cell_type": "code",
   "execution_count": 38,
   "metadata": {},
   "outputs": [
    {
     "data": {
      "text/plain": [
       "1    335\n",
       "0    335\n",
       "Name: Class, dtype: int64"
      ]
     },
     "execution_count": 38,
     "metadata": {},
     "output_type": "execute_result"
    }
   ],
   "source": [
    "Y_train.value_counts()"
   ]
  },
  {
   "cell_type": "code",
   "execution_count": 39,
   "metadata": {},
   "outputs": [],
   "source": [
    "p_y0 = (Y_train.value_counts()/Y_train.shape[0])[0]\n",
    "p_y1 = (Y_train.value_counts()/Y_train.shape[0])[1]"
   ]
  },
  {
   "cell_type": "code",
   "execution_count": 40,
   "metadata": {},
   "outputs": [],
   "source": [
    "_, pred_multi = nda_multi(X_train,mean0,corr0,mean1,corr1,pred=True)"
   ]
  },
  {
   "cell_type": "code",
   "execution_count": 41,
   "metadata": {},
   "outputs": [
    {
     "name": "stdout",
     "output_type": "stream",
     "text": [
      "Accuracy test :  1.0\n"
     ]
    }
   ],
   "source": [
    "print(\"Accuracy test : \", accuracy_score(Y_train, pred_multi))"
   ]
  },
  {
   "cell_type": "code",
   "execution_count": 42,
   "metadata": {},
   "outputs": [
    {
     "name": "stdout",
     "output_type": "stream",
     "text": [
      "Accuracy test :  1.0\n"
     ]
    }
   ],
   "source": [
    "_, pred_multi_test = nda_multi(X_test,mean0,corr0,mean1,corr1,pred=True)\n",
    "\n",
    "print(\"Accuracy test : \", accuracy_score(Y_test, pred_multi_test))"
   ]
  }
 ],
 "metadata": {
  "kernelspec": {
   "display_name": "Python 3",
   "language": "python",
   "name": "python3"
  },
  "language_info": {
   "codemirror_mode": {
    "name": "ipython",
    "version": 3
   },
   "file_extension": ".py",
   "mimetype": "text/x-python",
   "name": "python",
   "nbconvert_exporter": "python",
   "pygments_lexer": "ipython3",
   "version": "3.7.6"
  }
 },
 "nbformat": 4,
 "nbformat_minor": 4
}
