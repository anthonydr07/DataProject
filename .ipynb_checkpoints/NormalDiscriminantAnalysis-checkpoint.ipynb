{
 "cells": [
  {
   "cell_type": "markdown",
   "metadata": {},
   "source": [
    "# Normal Discriminant Analysis"
   ]
  },
  {
   "cell_type": "code",
   "execution_count": 2,
   "metadata": {},
   "outputs": [],
   "source": [
    "import pandas as pd\n",
    "import numpy as np\n",
    "from scipy.stats import norm, multivariate_normal  \n",
    "import matplotlib.pyplot as plt\n",
    "from sklearn.model_selection import train_test_split\n",
    "from sklearn.metrics import accuracy_score"
   ]
  },
  {
   "cell_type": "markdown",
   "metadata": {},
   "source": [
    "## One dimensional normal law"
   ]
  },
  {
   "cell_type": "code",
   "execution_count": 3,
   "metadata": {},
   "outputs": [],
   "source": [
    "X_10 = pd.DataFrame(np.random.normal(loc=0.0, scale=1.0, size=[500,1]),columns=['Point'])\n",
    "X_10['Class'] = 0\n",
    "X_11 = pd.DataFrame(np.random.normal(loc=7, scale=1.0, size=[500,1]),columns=['Point'])\n",
    "X_11['Class'] = 1\n",
    "X = X_10.append(X_11).reset_index(drop=True)"
   ]
  },
  {
   "cell_type": "code",
   "execution_count": 4,
   "metadata": {},
   "outputs": [],
   "source": [
    "X.columns = ['Point','Class'] "
   ]
  },
  {
   "cell_type": "code",
   "execution_count": 5,
   "metadata": {},
   "outputs": [
    {
     "data": {
      "text/html": [
       "<div>\n",
       "<style scoped>\n",
       "    .dataframe tbody tr th:only-of-type {\n",
       "        vertical-align: middle;\n",
       "    }\n",
       "\n",
       "    .dataframe tbody tr th {\n",
       "        vertical-align: top;\n",
       "    }\n",
       "\n",
       "    .dataframe thead th {\n",
       "        text-align: right;\n",
       "    }\n",
       "</style>\n",
       "<table border=\"1\" class=\"dataframe\">\n",
       "  <thead>\n",
       "    <tr style=\"text-align: right;\">\n",
       "      <th></th>\n",
       "      <th>Point</th>\n",
       "      <th>Class</th>\n",
       "    </tr>\n",
       "  </thead>\n",
       "  <tbody>\n",
       "    <tr>\n",
       "      <th>0</th>\n",
       "      <td>-0.142668</td>\n",
       "      <td>0</td>\n",
       "    </tr>\n",
       "    <tr>\n",
       "      <th>1</th>\n",
       "      <td>-1.001720</td>\n",
       "      <td>0</td>\n",
       "    </tr>\n",
       "    <tr>\n",
       "      <th>2</th>\n",
       "      <td>0.155599</td>\n",
       "      <td>0</td>\n",
       "    </tr>\n",
       "    <tr>\n",
       "      <th>3</th>\n",
       "      <td>-0.471952</td>\n",
       "      <td>0</td>\n",
       "    </tr>\n",
       "    <tr>\n",
       "      <th>4</th>\n",
       "      <td>-0.360654</td>\n",
       "      <td>0</td>\n",
       "    </tr>\n",
       "  </tbody>\n",
       "</table>\n",
       "</div>"
      ],
      "text/plain": [
       "      Point  Class\n",
       "0 -0.142668      0\n",
       "1 -1.001720      0\n",
       "2  0.155599      0\n",
       "3 -0.471952      0\n",
       "4 -0.360654      0"
      ]
     },
     "execution_count": 5,
     "metadata": {},
     "output_type": "execute_result"
    }
   ],
   "source": [
    "X.head()"
   ]
  },
  {
   "cell_type": "code",
   "execution_count": 6,
   "metadata": {},
   "outputs": [
    {
     "data": {
      "text/plain": [
       "<matplotlib.axes._subplots.AxesSubplot at 0x7fd85adf7d90>"
      ]
     },
     "execution_count": 6,
     "metadata": {},
     "output_type": "execute_result"
    },
    {
     "data": {
      "image/png": "[encoded data removed]",
      "text/plain": [
       "<Figure size 432x288 with 1 Axes>"
      ]
     },
     "metadata": {
      "needs_background": "light"
     },
     "output_type": "display_data"
    }
   ],
   "source": [
    "X.Class.value_counts().plot(kind=\"bar\")"
   ]
  },
  {
   "cell_type": "code",
   "execution_count": 7,
   "metadata": {},
   "outputs": [
    {
     "data": {
      "text/plain": [
       "<matplotlib.axes._subplots.AxesSubplot at 0x7fd85aed2a90>"
      ]
     },
     "execution_count": 7,
     "metadata": {},
     "output_type": "execute_result"
    },
    {
     "data": {
      "image/png": "[encoded data removed]",
      "text/plain": [
       "<Figure size 432x288 with 1 Axes>"
      ]
     },
     "metadata": {
      "needs_background": "light"
     },
     "output_type": "display_data"
    }
   ],
   "source": [
    "X.boxplot(by=\"Class\")"
   ]
  },
  {
   "cell_type": "code",
   "execution_count": 8,
   "metadata": {},
   "outputs": [
    {
     "data": {
      "image/png": "[encoded data removed]",
      "text/plain": [
       "<Figure size 432x288 with 1 Axes>"
      ]
     },
     "metadata": {
      "needs_background": "light"
     },
     "output_type": "display_data"
    }
   ],
   "source": [
    "val = 0. # this is the value where you want the data to appear on the y-axis.\n",
    "x_0 = X[X.Class==0]\n",
    "x_1 = X[X.Class==1]\n",
    "plt.plot(x_0, np.zeros_like(x_0) + val, 'o',c='r')\n",
    "plt.plot(x_1, np.zeros_like(x_1) + val, 'o',c='b')\n",
    "plt.show()"
   ]
  },
  {
   "cell_type": "code",
   "execution_count": 9,
   "metadata": {},
   "outputs": [],
   "source": [
    "mean0 = X[X.Class==0].Point.mean()\n",
    "std0 = X[X.Class==0].Point.std()\n",
    "mean1 = X[X.Class==1].Point.mean()\n",
    "std1 = X[X.Class==1].Point.std()"
   ]
  },
  {
   "cell_type": "code",
   "execution_count": 10,
   "metadata": {},
   "outputs": [
    {
     "name": "stderr",
     "output_type": "stream",
     "text": [
      "/opt/anaconda3/lib/python3.7/site-packages/pandas/plotting/_matplotlib/hist.py:59: MatplotlibDeprecationWarning: \n",
      "The 'normed' kwarg was deprecated in Matplotlib 2.1 and will be removed in 3.1. Use 'density' instead.\n",
      "  n, bins, patches = ax.hist(y, bins=bins, bottom=bottom, **kwds)\n"
     ]
    },
    {
     "data": {
      "text/plain": [
       "[<matplotlib.lines.Line2D at 0x7fd85aebe790>]"
      ]
     },
     "execution_count": 10,
     "metadata": {},
     "output_type": "execute_result"
    },
    {
     "data": {
      "image/png": "[encoded data removed]",
      "text/plain": [
       "<Figure size 432x288 with 1 Axes>"
      ]
     },
     "metadata": {
      "needs_background": "light"
     },
     "output_type": "display_data"
    }
   ],
   "source": [
    "X.Point.plot(kind='hist', normed=True)\n",
    "range_ = np.arange(-4, 10, 0.001)\n",
    "plt.plot(range_, norm.pdf(range_,mean0,std0))\n",
    "plt.plot(range_, norm.pdf(range_,mean1,std1))"
   ]
  },
  {
   "cell_type": "markdown",
   "metadata": {},
   "source": [
    "Bayes\n",
    "\n",
    "$P(Y|X)=\\frac{P(X|Y)P(Y)}{P(X)}$"
   ]
  },
  {
   "cell_type": "markdown",
   "metadata": {},
   "source": [
    "P(Y==i) = proba de faire parti de Y = nb de point dans Y==i"
   ]
  },
  {
   "cell_type": "markdown",
   "metadata": {},
   "source": [
    "Densité:\n",
    "\n",
    "$P(X|Y=0) = norm.pdf(X.Point[0],Ymean0,Ystd0)$\n",
    "\n",
    "\n",
    "$P(X|Y=1) = norm.pdf(X.Point[0],Ymean1,Ystd1)$"
   ]
  },
  {
   "cell_type": "markdown",
   "metadata": {},
   "source": [
    "$P(X) = P(X|Y=0)+P(X|Y=1)$"
   ]
  },
  {
   "cell_type": "code",
   "execution_count": 11,
   "metadata": {},
   "outputs": [],
   "source": [
    "p_y0 = (X.Class.value_counts()/X.shape[0])[0]\n",
    "p_y1 = (X.Class.value_counts()/X.shape[0])[1]"
   ]
  },
  {
   "cell_type": "code",
   "execution_count": 12,
   "metadata": {},
   "outputs": [],
   "source": [
    "X_train, X_test, Y_train, Y_test = train_test_split(X.Point, X.Class, test_size=0.33, random_state=42)"
   ]
  },
  {
   "cell_type": "code",
   "execution_count": 13,
   "metadata": {},
   "outputs": [],
   "source": [
    "mean0 = X_train.loc[Y_train[Y_train==0].index.tolist()].mean()\n",
    "std0 = X_train.loc[Y_train[Y_train==0].index.tolist()].std()\n",
    "mean1 = X_train.loc[Y_train[Y_train==1].index.tolist()].mean()\n",
    "std1 = X_train.loc[Y_train[Y_train==1].index.tolist()].std()"
   ]
  },
  {
   "cell_type": "code",
   "execution_count": 14,
   "metadata": {},
   "outputs": [],
   "source": [
    "def nda(X,mean0,std0,mean1,std1,pred=False):\n",
    "    y_prob = pd.DataFrame(columns=['class0','class1'])\n",
    "    for i in X:\n",
    "        p0 = norm.pdf(i, mean0, std0)\n",
    "        p1 = norm.pdf(i, mean1, std1)\n",
    "        p01 = p0 + p1\n",
    "        y_prob = y_prob.append({'class0':p0*p_y0/p01, 'class1':p1*p_y1/p01}, ignore_index=True)\n",
    "    \n",
    "    if pred:\n",
    "        y_pred = y_prob.apply(lambda x: 0 if x[0]>x[1] else 1,axis=1)\n",
    "        return y_prob, y_pred\n",
    "    \n",
    "    return y_proba"
   ]
  },
  {
   "cell_type": "code",
   "execution_count": 15,
   "metadata": {},
   "outputs": [],
   "source": [
    "_, pred = nda(X_test,mean0,std0,mean1,std1,pred=True)"
   ]
  },
  {
   "cell_type": "code",
   "execution_count": 16,
   "metadata": {},
   "outputs": [
    {
     "name": "stdout",
     "output_type": "stream",
     "text": [
      "Accuracy test :  1.0\n"
     ]
    }
   ],
   "source": [
    "print(\"Accuracy test : \", accuracy_score(Y_test, pred))"
   ]
  },
  {
   "cell_type": "markdown",
   "metadata": {},
   "source": [
    "## Multidimensional   "
   ]
  },
  {
   "cell_type": "markdown",
   "metadata": {},
   "source": [
    "### Two dimensional"
   ]
  },
  {
   "cell_type": "code",
   "execution_count": 27,
   "metadata": {},
   "outputs": [],
   "source": [
    "X_10 = pd.DataFrame(np.random.multivariate_normal([0,0], np.eye(2, dtype=int), (500)),columns=['Point0','Point1'])\n",
    "X_10['Class'] = 0\n",
    "X_11 = pd.DataFrame(np.random.multivariate_normal([7,7], np.eye(2, dtype=int), (500)),columns=['Point0','Point1'])\n",
    "X_11['Class'] = 1\n",
    "X = X_10.append(X_11).reset_index(drop=True)"
   ]
  },
  {
   "cell_type": "code",
   "execution_count": 28,
   "metadata": {},
   "outputs": [
    {
     "data": {
      "text/html": [
       "<div>\n",
       "<style scoped>\n",
       "    .dataframe tbody tr th:only-of-type {\n",
       "        vertical-align: middle;\n",
       "    }\n",
       "\n",
       "    .dataframe tbody tr th {\n",
       "        vertical-align: top;\n",
       "    }\n",
       "\n",
       "    .dataframe thead th {\n",
       "        text-align: right;\n",
       "    }\n",
       "</style>\n",
       "<table border=\"1\" class=\"dataframe\">\n",
       "  <thead>\n",
       "    <tr style=\"text-align: right;\">\n",
       "      <th></th>\n",
       "      <th>Point0</th>\n",
       "      <th>Point1</th>\n",
       "      <th>Class</th>\n",
       "    </tr>\n",
       "  </thead>\n",
       "  <tbody>\n",
       "    <tr>\n",
       "      <th>0</th>\n",
       "      <td>0.500627</td>\n",
       "      <td>1.300704</td>\n",
       "      <td>0</td>\n",
       "    </tr>\n",
       "    <tr>\n",
       "      <th>1</th>\n",
       "      <td>0.243359</td>\n",
       "      <td>-0.045894</td>\n",
       "      <td>0</td>\n",
       "    </tr>\n",
       "    <tr>\n",
       "      <th>2</th>\n",
       "      <td>1.300370</td>\n",
       "      <td>0.437070</td>\n",
       "      <td>0</td>\n",
       "    </tr>\n",
       "    <tr>\n",
       "      <th>3</th>\n",
       "      <td>-1.077565</td>\n",
       "      <td>-0.677393</td>\n",
       "      <td>0</td>\n",
       "    </tr>\n",
       "    <tr>\n",
       "      <th>4</th>\n",
       "      <td>0.142461</td>\n",
       "      <td>-0.037941</td>\n",
       "      <td>0</td>\n",
       "    </tr>\n",
       "  </tbody>\n",
       "</table>\n",
       "</div>"
      ],
      "text/plain": [
       "     Point0    Point1  Class\n",
       "0  0.500627  1.300704      0\n",
       "1  0.243359 -0.045894      0\n",
       "2  1.300370  0.437070      0\n",
       "3 -1.077565 -0.677393      0\n",
       "4  0.142461 -0.037941      0"
      ]
     },
     "execution_count": 28,
     "metadata": {},
     "output_type": "execute_result"
    }
   ],
   "source": [
    "X.head()"
   ]
  },
  {
   "cell_type": "code",
   "execution_count": 29,
   "metadata": {},
   "outputs": [
    {
     "data": {
      "image/png": "[encoded data removed]",
      "text/plain": [
       "<Figure size 432x288 with 1 Axes>"
      ]
     },
     "metadata": {
      "needs_background": "light"
     },
     "output_type": "display_data"
    }
   ],
   "source": [
    "plt.plot(X[X.Class==0].Point0,X[X.Class==0].Point1,\"o\")\n",
    "plt.plot(X[X.Class==1].Point0,X[X.Class==1].Point1,\"o\")\n",
    "plt.show()"
   ]
  },
  {
   "cell_type": "code",
   "execution_count": 30,
   "metadata": {},
   "outputs": [
    {
     "data": {
      "text/plain": [
       "array([<matplotlib.axes._subplots.AxesSubplot object at 0x7fd85b68f190>,\n",
       "       <matplotlib.axes._subplots.AxesSubplot object at 0x7fd85b6eb9d0>],\n",
       "      dtype=object)"
      ]
     },
     "execution_count": 30,
     "metadata": {},
     "output_type": "execute_result"
    },
    {
     "data": {
      "image/png": "[encoded data removed]",
      "text/plain": [
       "<Figure size 432x288 with 2 Axes>"
      ]
     },
     "metadata": {
      "needs_background": "light"
     },
     "output_type": "display_data"
    }
   ],
   "source": [
    "X.boxplot(by='Class')"
   ]
  },
  {
   "cell_type": "code",
   "execution_count": 31,
   "metadata": {},
   "outputs": [],
   "source": [
    "mean0 = X[X.Class==0][['Point0','Point1']].mean().tolist()\n",
    "std0 = X[X.Class==0][['Point0','Point1']].corr()\n",
    "mean1 = X[X.Class==1][['Point0','Point1']].mean().tolist()\n",
    "std1 = X[X.Class==1][['Point0','Point1']].corr()"
   ]
  },
  {
   "cell_type": "code",
   "execution_count": 32,
   "metadata": {},
   "outputs": [
    {
     "data": {
      "text/plain": [
       "array([[<matplotlib.axes._subplots.AxesSubplot object at 0x7fd85c01a050>,\n",
       "        <matplotlib.axes._subplots.AxesSubplot object at 0x7fd85c0fb4d0>]],\n",
       "      dtype=object)"
      ]
     },
     "execution_count": 32,
     "metadata": {},
     "output_type": "execute_result"
    },
    {
     "data": {
      "image/png": "[encoded data removed]",
      "text/plain": [
       "<Figure size 432x288 with 2 Axes>"
      ]
     },
     "metadata": {
      "needs_background": "light"
     },
     "output_type": "display_data"
    }
   ],
   "source": [
    "X[['Point0','Point1']].hist()"
   ]
  },
  {
   "cell_type": "code",
   "execution_count": 33,
   "metadata": {},
   "outputs": [],
   "source": [
    "X_train, X_test, Y_train, Y_test = train_test_split(X[['Point0','Point1']], X.Class, test_size=0.33, random_state=42)"
   ]
  },
  {
   "cell_type": "code",
   "execution_count": 34,
   "metadata": {},
   "outputs": [],
   "source": [
    "p_y0 = (Y_train.value_counts()/Y_train.shape[0])[0]\n",
    "p_y1 = (Y_train.value_counts()/Y_train.shape[0])[1]"
   ]
  },
  {
   "cell_type": "code",
   "execution_count": 35,
   "metadata": {},
   "outputs": [],
   "source": [
    "mean0 = X_train.loc[Y_train[Y_train==0].index.tolist()].mean().tolist()\n",
    "std0 = X_train.loc[Y_train[Y_train==0].index.tolist()].corr()\n",
    "mean1 = X_train.loc[Y_train[Y_train==1].index.tolist()].mean().tolist()\n",
    "std1 = X_train.loc[Y_train[Y_train==1].index.tolist()].corr()"
   ]
  },
  {
   "cell_type": "code",
   "execution_count": 36,
   "metadata": {},
   "outputs": [],
   "source": [
    "def nda_multi(X,mean0,std0,mean1,std1,pred=False):\n",
    "    y_prob = pd.DataFrame(columns=['class0','class1'])\n",
    "    for i in range(X.shape[0]):\n",
    "        p0 = multivariate_normal.pdf(X.iloc[i], mean0, std0)\n",
    "        p1 = multivariate_normal.pdf(X.iloc[i], mean1, std1)\n",
    "        p01 = p0 + p1\n",
    "        y_prob = y_prob.append({'class0':p0*p_y0/p01, 'class1':p1*p_y1/p01}, ignore_index=True)\n",
    "    \n",
    "    if pred:\n",
    "        y_pred = y_prob.apply(lambda x: 0 if x[0]>x[1] else 1,axis=1)\n",
    "        return y_prob, y_pred\n",
    "    \n",
    "    return y_proba"
   ]
  },
  {
   "cell_type": "code",
   "execution_count": 37,
   "metadata": {},
   "outputs": [],
   "source": [
    "_, pred_multi = nda_multi(X_train,mean0,std0,mean1,std1,pred=True)"
   ]
  },
  {
   "cell_type": "code",
   "execution_count": 38,
   "metadata": {},
   "outputs": [
    {
     "name": "stdout",
     "output_type": "stream",
     "text": [
      "Accuracy test :  1.0\n"
     ]
    }
   ],
   "source": [
    "print(\"Accuracy test : \", accuracy_score(Y_train, pred_multi))"
   ]
  },
  {
   "cell_type": "code",
   "execution_count": 39,
   "metadata": {},
   "outputs": [
    {
     "name": "stdout",
     "output_type": "stream",
     "text": [
      "Accuracy test :  1.0\n"
     ]
    }
   ],
   "source": [
    "_, pred_multi_test = nda_multi(X_test,mean0,std0,mean1,std1,pred=True)\n",
    "\n",
    "print(\"Accuracy test : \", accuracy_score(Y_test, pred_multi_test))"
   ]
  },
  {
   "cell_type": "markdown",
   "metadata": {},
   "source": [
    "## N-dimentional"
   ]
  },
  {
   "cell_type": "code",
   "execution_count": 40,
   "metadata": {},
   "outputs": [],
   "source": [
    "n = 4"
   ]
  },
  {
   "cell_type": "code",
   "execution_count": 41,
   "metadata": {},
   "outputs": [],
   "source": [
    "col = []\n",
    "for i in range(n):\n",
    "    col.append('Point'+str(i))"
   ]
  },
  {
   "cell_type": "code",
   "execution_count": 42,
   "metadata": {},
   "outputs": [
    {
     "data": {
      "text/plain": [
       "['Point0', 'Point1', 'Point2', 'Point3']"
      ]
     },
     "execution_count": 42,
     "metadata": {},
     "output_type": "execute_result"
    }
   ],
   "source": [
    "col"
   ]
  },
  {
   "cell_type": "code",
   "execution_count": 45,
   "metadata": {},
   "outputs": [],
   "source": [
    "mean = np.array([0 for i in range(n)])\n",
    "mean1 = mean + 7\n",
    "cov = np.eye(n, dtype=int)"
   ]
  },
  {
   "cell_type": "code",
   "execution_count": 46,
   "metadata": {},
   "outputs": [],
   "source": [
    "X_10 = pd.DataFrame(np.random.multivariate_normal(mean, cov, (500)),columns=col)\n",
    "X_10['Class'] = 0\n",
    "X_11 = pd.DataFrame(np.random.multivariate_normal(mean1, cov, (500)),columns=col)\n",
    "X_11['Class'] = 1\n",
    "X = X_10.append(X_11).reset_index(drop=True)"
   ]
  },
  {
   "cell_type": "code",
   "execution_count": 47,
   "metadata": {},
   "outputs": [
    {
     "data": {
      "text/html": [
       "<div>\n",
       "<style scoped>\n",
       "    .dataframe tbody tr th:only-of-type {\n",
       "        vertical-align: middle;\n",
       "    }\n",
       "\n",
       "    .dataframe tbody tr th {\n",
       "        vertical-align: top;\n",
       "    }\n",
       "\n",
       "    .dataframe thead th {\n",
       "        text-align: right;\n",
       "    }\n",
       "</style>\n",
       "<table border=\"1\" class=\"dataframe\">\n",
       "  <thead>\n",
       "    <tr style=\"text-align: right;\">\n",
       "      <th></th>\n",
       "      <th>Point0</th>\n",
       "      <th>Point1</th>\n",
       "      <th>Point2</th>\n",
       "      <th>Point3</th>\n",
       "      <th>Class</th>\n",
       "    </tr>\n",
       "  </thead>\n",
       "  <tbody>\n",
       "    <tr>\n",
       "      <th>0</th>\n",
       "      <td>0.751305</td>\n",
       "      <td>0.292417</td>\n",
       "      <td>0.690890</td>\n",
       "      <td>0.025541</td>\n",
       "      <td>0</td>\n",
       "    </tr>\n",
       "    <tr>\n",
       "      <th>1</th>\n",
       "      <td>-2.131486</td>\n",
       "      <td>-0.395927</td>\n",
       "      <td>0.036624</td>\n",
       "      <td>2.768996</td>\n",
       "      <td>0</td>\n",
       "    </tr>\n",
       "    <tr>\n",
       "      <th>2</th>\n",
       "      <td>1.463809</td>\n",
       "      <td>-0.061049</td>\n",
       "      <td>-0.947068</td>\n",
       "      <td>-1.873619</td>\n",
       "      <td>0</td>\n",
       "    </tr>\n",
       "    <tr>\n",
       "      <th>3</th>\n",
       "      <td>-1.912653</td>\n",
       "      <td>2.178355</td>\n",
       "      <td>1.641917</td>\n",
       "      <td>-0.125598</td>\n",
       "      <td>0</td>\n",
       "    </tr>\n",
       "    <tr>\n",
       "      <th>4</th>\n",
       "      <td>0.379719</td>\n",
       "      <td>1.096030</td>\n",
       "      <td>-0.188252</td>\n",
       "      <td>-0.314783</td>\n",
       "      <td>0</td>\n",
       "    </tr>\n",
       "  </tbody>\n",
       "</table>\n",
       "</div>"
      ],
      "text/plain": [
       "     Point0    Point1    Point2    Point3  Class\n",
       "0  0.751305  0.292417  0.690890  0.025541      0\n",
       "1 -2.131486 -0.395927  0.036624  2.768996      0\n",
       "2  1.463809 -0.061049 -0.947068 -1.873619      0\n",
       "3 -1.912653  2.178355  1.641917 -0.125598      0\n",
       "4  0.379719  1.096030 -0.188252 -0.314783      0"
      ]
     },
     "execution_count": 47,
     "metadata": {},
     "output_type": "execute_result"
    }
   ],
   "source": [
    "X.head()"
   ]
  },
  {
   "cell_type": "code",
   "execution_count": 48,
   "metadata": {},
   "outputs": [
    {
     "data": {
      "text/plain": [
       "array([[<matplotlib.axes._subplots.AxesSubplot object at 0x7fd85b5f2f50>,\n",
       "        <matplotlib.axes._subplots.AxesSubplot object at 0x7fd85b6a7590>],\n",
       "       [<matplotlib.axes._subplots.AxesSubplot object at 0x7fd85b0ec9d0>,\n",
       "        <matplotlib.axes._subplots.AxesSubplot object at 0x7fd85a61eb90>]],\n",
       "      dtype=object)"
      ]
     },
     "execution_count": 48,
     "metadata": {},
     "output_type": "execute_result"
    },
    {
     "data": {
      "image/png": "[encoded data removed]",
      "text/plain": [
       "<Figure size 432x288 with 4 Axes>"
      ]
     },
     "metadata": {
      "needs_background": "light"
     },
     "output_type": "display_data"
    }
   ],
   "source": [
    "X[col].hist()"
   ]
  },
  {
   "cell_type": "code",
   "execution_count": 49,
   "metadata": {},
   "outputs": [],
   "source": [
    "X_train, X_test, Y_train, Y_test = train_test_split(X[col], X.Class, test_size=0.33, random_state=42)"
   ]
  },
  {
   "cell_type": "code",
   "execution_count": 50,
   "metadata": {},
   "outputs": [],
   "source": [
    "mean0 = X_train.loc[Y_train[Y_train==0].index.tolist()].mean().tolist()\n",
    "corr0 = X_train.loc[Y_train[Y_train==0].index.tolist()].corr()\n",
    "mean1 = X_train.loc[Y_train[Y_train==1].index.tolist()].mean().tolist()\n",
    "corr1 = X_train.loc[Y_train[Y_train==1].index.tolist()].corr()"
   ]
  },
  {
   "cell_type": "code",
   "execution_count": 51,
   "metadata": {},
   "outputs": [
    {
     "data": {
      "text/plain": [
       "1    335\n",
       "0    335\n",
       "Name: Class, dtype: int64"
      ]
     },
     "execution_count": 51,
     "metadata": {},
     "output_type": "execute_result"
    }
   ],
   "source": [
    "Y_train.value_counts()"
   ]
  },
  {
   "cell_type": "code",
   "execution_count": 52,
   "metadata": {},
   "outputs": [],
   "source": [
    "p_y0 = (Y_train.value_counts()/Y_train.shape[0])[0]\n",
    "p_y1 = (Y_train.value_counts()/Y_train.shape[0])[1]"
   ]
  },
  {
   "cell_type": "code",
   "execution_count": 53,
   "metadata": {},
   "outputs": [],
   "source": [
    "_, pred_multi = nda_multi(X_train,mean0,corr0,mean1,corr1,pred=True)"
   ]
  },
  {
   "cell_type": "code",
   "execution_count": 54,
   "metadata": {},
   "outputs": [
    {
     "name": "stdout",
     "output_type": "stream",
     "text": [
      "Accuracy test :  1.0\n"
     ]
    }
   ],
   "source": [
    "print(\"Accuracy test : \", accuracy_score(Y_train, pred_multi))"
   ]
  },
  {
   "cell_type": "code",
   "execution_count": 55,
   "metadata": {},
   "outputs": [
    {
     "name": "stdout",
     "output_type": "stream",
     "text": [
      "Accuracy test :  1.0\n"
     ]
    }
   ],
   "source": [
    "_, pred_multi_test = nda_multi(X_test,mean0,corr0,mean1,corr1,pred=True)\n",
    "\n",
    "print(\"Accuracy test : \", accuracy_score(Y_test, pred_multi_test))"
   ]
  }
 ],
 "metadata": {
  "kernelspec": {
   "display_name": "Python 3",
   "language": "python",
   "name": "python3"
  },
  "language_info": {
   "codemirror_mode": {
    "name": "ipython",
    "version": 3
   },
   "file_extension": ".py",
   "mimetype": "text/x-python",
   "name": "python",
   "nbconvert_exporter": "python",
   "pygments_lexer": "ipython3",
   "version": "3.7.6"
  }
 },
 "nbformat": 4,
 "nbformat_minor": 4
}
