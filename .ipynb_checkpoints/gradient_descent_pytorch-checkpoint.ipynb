{
 "cells": [
  {
   "cell_type": "markdown",
   "metadata": {},
   "source": [
    "# <center> Quick gradient descent with pytorch"
   ]
  },
  {
   "cell_type": "code",
   "execution_count": 1,
   "metadata": {},
   "outputs": [],
   "source": [
    "# Library\n",
    "\n",
    "import torch\n",
    "import numpy as np\n",
    "import matplotlib.pyplot as plt"
   ]
  },
  {
   "cell_type": "code",
   "execution_count": 2,
   "metadata": {},
   "outputs": [],
   "source": [
    "# Simulate data\n",
    "\n",
    "x = np.arange(1,100)\n",
    "a,b,c,d = 0,0,1,0\n",
    "y = ((a*x)**3)+((b*x)**2)+(c*x)+d"
   ]
  },
  {
   "cell_type": "code",
   "execution_count": 3,
   "metadata": {},
   "outputs": [
    {
     "data": {
      "text/plain": [
       "[<matplotlib.lines.Line2D at 0x7f812728d550>]"
      ]
     },
     "execution_count": 3,
     "metadata": {},
     "output_type": "execute_result"
    },
    {
     "data": {
      "image/png": "[encoded data removed]",
      "text/plain": [
       "<Figure size 432x288 with 1 Axes>"
      ]
     },
     "metadata": {
      "needs_background": "light"
     },
     "output_type": "display_data"
    }
   ],
   "source": [
    "plt.plot(x,y)"
   ]
  },
  {
   "cell_type": "markdown",
   "metadata": {},
   "source": [
    "gradient descent\n",
    "\n",
    "search function h such that h(x)≈y\n",
    "\n",
    "params_new = params_old-delta*deriv"
   ]
  },
  {
   "cell_type": "code",
   "execution_count": 4,
   "metadata": {},
   "outputs": [],
   "source": [
    "# Center and reduice data\n",
    "\n",
    "x_center = (x-x.mean())/x.std()\n",
    "y_center = (y-y.mean())/y.std()"
   ]
  },
  {
   "cell_type": "code",
   "execution_count": 5,
   "metadata": {},
   "outputs": [],
   "source": [
    "# Gradient descent\n",
    "\n",
    "def loss(y,y_pred):\n",
    "    \"\"\"\n",
    "    Calculate the loss\n",
    "    Params:\n",
    "        y : target\n",
    "        y_pred : predicted target\n",
    "    Returns:\n",
    "        Loss as a torch tensor\n",
    "    \"\"\"\n",
    "    return torch.sum((y-y_pred)**2)\n",
    "\n",
    "def h(x,params):\n",
    "    \"\"\"\n",
    "    Calculate the predicted target based on the parameters\n",
    "    Params:\n",
    "        x : variables\n",
    "        params : list of parameters\n",
    "    Returns:\n",
    "        list of predicted target\n",
    "    \"\"\"\n",
    "    return ((params[0]*x)**3)+((params[1]*x)**2)+(params[2]*x)+params[3]\n",
    "\n",
    "def gradient_descent(x,y,alpha=1e-3,n=1000,init_params=[0.1,0.1,0.1,0.1],print_loss=100):\n",
    "    \"\"\"\n",
    "    Gradient descent\n",
    "    Params:\n",
    "        x : variables\n",
    "        y : target\n",
    "        alpha : learning rate\n",
    "        n : number of iterations\n",
    "        init_params : list of the initialized parameters\n",
    "        print_loss : print the loss every i iteration\n",
    "    Returns:\n",
    "        list of the loss and list the best parameters\n",
    "    \"\"\"\n",
    "    x_lenght = x.shape[0]\n",
    "    x = torch.from_numpy(x)\n",
    "    y = torch.from_numpy(y)\n",
    "    error = loss(y,h(x,init_params))\n",
    "    params = torch.tensor(init_params,requires_grad=True)\n",
    "    optimizer = torch.optim.Adam([params],lr=alpha)\n",
    "    losses = [error]\n",
    "    to_stop=0\n",
    "    \n",
    "    while losses[-1]>1e-6 and to_stop<n:\n",
    "        optimizer.zero_grad()\n",
    "        for i in range(x_lenght):\n",
    "            optimizer.step()\n",
    "            error = loss(y[i],h(x[i],params))\n",
    "            error.backward()\n",
    "        losses.append(error.detach().numpy())\n",
    "        to_stop+=1\n",
    "        if to_stop%print_loss==0:\n",
    "            print(f'loss : {error.detach().numpy()}')\n",
    "            \n",
    "    return losses,params.detach().numpy()"
   ]
  },
  {
   "cell_type": "code",
   "execution_count": 6,
   "metadata": {
    "scrolled": true
   },
   "outputs": [
    {
     "name": "stdout",
     "output_type": "stream",
     "text": [
      "loss : 2.67592716217041\n",
      "loss : 5.5220210924744606e-05\n"
     ]
    }
   ],
   "source": [
    "error, params = gradient_descent(x,y,alpha=1e-3,n=1000,print_loss=100)"
   ]
  },
  {
   "cell_type": "code",
   "execution_count": 7,
   "metadata": {
    "scrolled": true
   },
   "outputs": [
    {
     "data": {
      "text/plain": [
       "[<matplotlib.lines.Line2D at 0x7f881bc24fd0>]"
      ]
     },
     "execution_count": 7,
     "metadata": {},
     "output_type": "execute_result"
    },
    {
     "data": {
      "image/png": "[encoded data removed]",
      "text/plain": [
       "<Figure size 432x288 with 1 Axes>"
      ]
     },
     "metadata": {
      "needs_background": "light"
     },
     "output_type": "display_data"
    }
   ],
   "source": [
    "plt.plot(error)"
   ]
  },
  {
   "cell_type": "code",
   "execution_count": 8,
   "metadata": {},
   "outputs": [
    {
     "data": {
      "text/plain": [
       "array([ 0.9912012 ,  1.99022947,  2.98927981,  3.98835222,  4.98744668,\n",
       "        5.98656321,  6.98570179,  7.98486244,  8.98404515,  9.98324993,\n",
       "       10.98247676, 11.98172566, 12.98099662, 13.98028964, 14.97960472,\n",
       "       15.97894186, 16.97830107, 17.97768234, 18.97708567, 19.97651106,\n",
       "       20.97595852, 21.97542803, 22.97491961, 23.97443325, 24.97396895,\n",
       "       25.97352672, 26.97310654, 27.97270843, 28.97233238, 29.97197839,\n",
       "       30.97164646, 31.9713366 , 32.9710488 , 33.97078306, 34.97053938,\n",
       "       35.97031776, 36.9701182 , 37.96994071, 38.96978528, 39.96965191,\n",
       "       40.9695406 , 41.96945136, 42.96938417, 43.96933905, 44.96931599,\n",
       "       45.96931499, 46.96933606, 47.96937918, 48.96944437, 49.96953162,\n",
       "       50.96964093, 51.96977231, 52.96992574, 53.97010124, 54.9702988 ,\n",
       "       55.97051842, 56.9707601 , 57.97102385, 58.97130966, 59.97161752,\n",
       "       60.97194746, 61.97229945, 62.9726735 , 63.97306962, 64.9734878 ,\n",
       "       65.97392804, 66.97439034, 67.9748747 , 68.97538113, 69.97590962,\n",
       "       70.97646017, 71.97703278, 72.97762745, 73.97824419, 74.97888299,\n",
       "       75.97954385, 76.98022677, 77.98093175, 78.9816588 , 79.9824079 ,\n",
       "       80.98317907, 81.98397231, 82.9847876 , 83.98562495, 84.98648437,\n",
       "       85.98736585, 86.98826939, 87.98919499, 88.99014266, 89.99111238,\n",
       "       90.99210417, 91.99311802, 92.99415393, 93.99521191, 94.99629194,\n",
       "       95.99739404, 96.9985182 , 97.99966442, 99.00083271])"
      ]
     },
     "execution_count": 8,
     "metadata": {},
     "output_type": "execute_result"
    }
   ],
   "source": [
    "h(x,params)"
   ]
  },
  {
   "cell_type": "code",
   "execution_count": null,
   "metadata": {},
   "outputs": [],
   "source": []
  }
 ],
 "metadata": {
  "kernelspec": {
   "display_name": "Python 3",
   "language": "python",
   "name": "python3"
  },
  "language_info": {
   "codemirror_mode": {
    "name": "ipython",
    "version": 3
   },
   "file_extension": ".py",
   "mimetype": "text/x-python",
   "name": "python",
   "nbconvert_exporter": "python",
   "pygments_lexer": "ipython3",
   "version": "3.7.6"
  }
 },
 "nbformat": 4,
 "nbformat_minor": 4
}
