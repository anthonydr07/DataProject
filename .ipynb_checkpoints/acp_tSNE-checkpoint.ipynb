{
 "cells": [
  {
   "cell_type": "markdown",
   "metadata": {},
   "source": [
    "# <center>  ACP and T-SNE"
   ]
  },
  {
   "cell_type": "code",
   "execution_count": 1,
   "metadata": {},
   "outputs": [],
   "source": [
    "# Librairies\n",
    "\n",
    "import pandas as pd\n",
    "import numpy as np\n",
    "from scipy.stats import norm, multivariate_normal  \n",
    "from sklearn.decomposition import PCA\n",
    "from sklearn.manifold import TSNE\n",
    "import matplotlib.pyplot as plt\n",
    "from mpl_toolkits.mplot3d import Axes3D"
   ]
  },
  {
   "cell_type": "markdown",
   "metadata": {},
   "source": [
    "## PCA"
   ]
  },
  {
   "cell_type": "code",
   "execution_count": 2,
   "metadata": {},
   "outputs": [],
   "source": [
    "n = 100\n",
    "mean = np.array([0 for i in range(n)])\n",
    "cov = np.eye(n) \n",
    "col = ['X'+str(i) for i in range(n)]\n",
    "X_1 = pd.DataFrame(np.random.multivariate_normal(mean, cov, (500)),columns=col)\n",
    "X_1['Class'] = 0\n",
    "X_2 = pd.DataFrame(np.random.multivariate_normal(mean+3, cov+3, (500)),columns=col)\n",
    "X_2['Class'] = 1\n",
    "X = X_1.append(X_2).reset_index(drop=True)"
   ]
  },
  {
   "cell_type": "code",
   "execution_count": 3,
   "metadata": {},
   "outputs": [
    {
     "data": {
      "text/html": [
       "<div>\n",
       "<style scoped>\n",
       "    .dataframe tbody tr th:only-of-type {\n",
       "        vertical-align: middle;\n",
       "    }\n",
       "\n",
       "    .dataframe tbody tr th {\n",
       "        vertical-align: top;\n",
       "    }\n",
       "\n",
       "    .dataframe thead th {\n",
       "        text-align: right;\n",
       "    }\n",
       "</style>\n",
       "<table border=\"1\" class=\"dataframe\">\n",
       "  <thead>\n",
       "    <tr style=\"text-align: right;\">\n",
       "      <th></th>\n",
       "      <th>X0</th>\n",
       "      <th>X1</th>\n",
       "      <th>X2</th>\n",
       "      <th>X3</th>\n",
       "      <th>X4</th>\n",
       "      <th>X5</th>\n",
       "      <th>X6</th>\n",
       "      <th>X7</th>\n",
       "      <th>X8</th>\n",
       "      <th>X9</th>\n",
       "      <th>...</th>\n",
       "      <th>X91</th>\n",
       "      <th>X92</th>\n",
       "      <th>X93</th>\n",
       "      <th>X94</th>\n",
       "      <th>X95</th>\n",
       "      <th>X96</th>\n",
       "      <th>X97</th>\n",
       "      <th>X98</th>\n",
       "      <th>X99</th>\n",
       "      <th>Class</th>\n",
       "    </tr>\n",
       "  </thead>\n",
       "  <tbody>\n",
       "    <tr>\n",
       "      <th>0</th>\n",
       "      <td>0.422477</td>\n",
       "      <td>0.281838</td>\n",
       "      <td>-1.112918</td>\n",
       "      <td>-1.071986</td>\n",
       "      <td>-0.152226</td>\n",
       "      <td>-0.176424</td>\n",
       "      <td>-0.460348</td>\n",
       "      <td>-0.204143</td>\n",
       "      <td>-0.306301</td>\n",
       "      <td>-0.624485</td>\n",
       "      <td>...</td>\n",
       "      <td>-0.585268</td>\n",
       "      <td>0.951667</td>\n",
       "      <td>-0.356720</td>\n",
       "      <td>-1.142909</td>\n",
       "      <td>-0.877474</td>\n",
       "      <td>-0.830218</td>\n",
       "      <td>1.198726</td>\n",
       "      <td>1.185064</td>\n",
       "      <td>0.196788</td>\n",
       "      <td>0</td>\n",
       "    </tr>\n",
       "    <tr>\n",
       "      <th>1</th>\n",
       "      <td>0.502958</td>\n",
       "      <td>-0.356278</td>\n",
       "      <td>1.656940</td>\n",
       "      <td>0.393973</td>\n",
       "      <td>0.977394</td>\n",
       "      <td>1.203029</td>\n",
       "      <td>1.643948</td>\n",
       "      <td>-0.345869</td>\n",
       "      <td>-1.381595</td>\n",
       "      <td>1.286907</td>\n",
       "      <td>...</td>\n",
       "      <td>-1.723937</td>\n",
       "      <td>-0.459872</td>\n",
       "      <td>0.957354</td>\n",
       "      <td>0.990171</td>\n",
       "      <td>0.782234</td>\n",
       "      <td>0.375342</td>\n",
       "      <td>0.118847</td>\n",
       "      <td>-0.614634</td>\n",
       "      <td>0.148763</td>\n",
       "      <td>0</td>\n",
       "    </tr>\n",
       "    <tr>\n",
       "      <th>2</th>\n",
       "      <td>-0.547755</td>\n",
       "      <td>-0.400984</td>\n",
       "      <td>1.329397</td>\n",
       "      <td>0.155637</td>\n",
       "      <td>0.887224</td>\n",
       "      <td>-0.566449</td>\n",
       "      <td>-0.336326</td>\n",
       "      <td>-1.372322</td>\n",
       "      <td>-0.418892</td>\n",
       "      <td>-0.434325</td>\n",
       "      <td>...</td>\n",
       "      <td>-0.388232</td>\n",
       "      <td>-1.107708</td>\n",
       "      <td>0.412943</td>\n",
       "      <td>-0.220559</td>\n",
       "      <td>-0.361513</td>\n",
       "      <td>0.362843</td>\n",
       "      <td>1.031158</td>\n",
       "      <td>1.691615</td>\n",
       "      <td>0.380407</td>\n",
       "      <td>0</td>\n",
       "    </tr>\n",
       "    <tr>\n",
       "      <th>3</th>\n",
       "      <td>0.237167</td>\n",
       "      <td>-0.041918</td>\n",
       "      <td>-0.037576</td>\n",
       "      <td>-0.635101</td>\n",
       "      <td>1.233525</td>\n",
       "      <td>1.251114</td>\n",
       "      <td>0.302412</td>\n",
       "      <td>-0.699704</td>\n",
       "      <td>2.770389</td>\n",
       "      <td>1.134898</td>\n",
       "      <td>...</td>\n",
       "      <td>-1.017241</td>\n",
       "      <td>0.385816</td>\n",
       "      <td>0.011126</td>\n",
       "      <td>-0.851240</td>\n",
       "      <td>-0.940794</td>\n",
       "      <td>-0.574398</td>\n",
       "      <td>-0.027450</td>\n",
       "      <td>-0.322620</td>\n",
       "      <td>1.048826</td>\n",
       "      <td>0</td>\n",
       "    </tr>\n",
       "    <tr>\n",
       "      <th>4</th>\n",
       "      <td>-0.062258</td>\n",
       "      <td>-0.097148</td>\n",
       "      <td>-0.530535</td>\n",
       "      <td>-0.757593</td>\n",
       "      <td>0.225800</td>\n",
       "      <td>1.946206</td>\n",
       "      <td>0.920630</td>\n",
       "      <td>-0.028514</td>\n",
       "      <td>0.088279</td>\n",
       "      <td>0.063083</td>\n",
       "      <td>...</td>\n",
       "      <td>-1.302872</td>\n",
       "      <td>-1.551823</td>\n",
       "      <td>1.716515</td>\n",
       "      <td>1.531639</td>\n",
       "      <td>0.689717</td>\n",
       "      <td>-0.340791</td>\n",
       "      <td>0.233831</td>\n",
       "      <td>1.675318</td>\n",
       "      <td>-0.413286</td>\n",
       "      <td>0</td>\n",
       "    </tr>\n",
       "  </tbody>\n",
       "</table>\n",
       "<p>5 rows × 101 columns</p>\n",
       "</div>"
      ],
      "text/plain": [
       "         X0        X1        X2        X3        X4        X5        X6  \\\n",
       "0  0.422477  0.281838 -1.112918 -1.071986 -0.152226 -0.176424 -0.460348   \n",
       "1  0.502958 -0.356278  1.656940  0.393973  0.977394  1.203029  1.643948   \n",
       "2 -0.547755 -0.400984  1.329397  0.155637  0.887224 -0.566449 -0.336326   \n",
       "3  0.237167 -0.041918 -0.037576 -0.635101  1.233525  1.251114  0.302412   \n",
       "4 -0.062258 -0.097148 -0.530535 -0.757593  0.225800  1.946206  0.920630   \n",
       "\n",
       "         X7        X8        X9  ...       X91       X92       X93       X94  \\\n",
       "0 -0.204143 -0.306301 -0.624485  ... -0.585268  0.951667 -0.356720 -1.142909   \n",
       "1 -0.345869 -1.381595  1.286907  ... -1.723937 -0.459872  0.957354  0.990171   \n",
       "2 -1.372322 -0.418892 -0.434325  ... -0.388232 -1.107708  0.412943 -0.220559   \n",
       "3 -0.699704  2.770389  1.134898  ... -1.017241  0.385816  0.011126 -0.851240   \n",
       "4 -0.028514  0.088279  0.063083  ... -1.302872 -1.551823  1.716515  1.531639   \n",
       "\n",
       "        X95       X96       X97       X98       X99  Class  \n",
       "0 -0.877474 -0.830218  1.198726  1.185064  0.196788      0  \n",
       "1  0.782234  0.375342  0.118847 -0.614634  0.148763      0  \n",
       "2 -0.361513  0.362843  1.031158  1.691615  0.380407      0  \n",
       "3 -0.940794 -0.574398 -0.027450 -0.322620  1.048826      0  \n",
       "4  0.689717 -0.340791  0.233831  1.675318 -0.413286      0  \n",
       "\n",
       "[5 rows x 101 columns]"
      ]
     },
     "execution_count": 3,
     "metadata": {},
     "output_type": "execute_result"
    }
   ],
   "source": [
    "X.head()"
   ]
  },
  {
   "cell_type": "code",
   "execution_count": 10,
   "metadata": {},
   "outputs": [],
   "source": [
    "X_center = (X.iloc[:,:100] - X.iloc[:,:100].mean())/X.iloc[:,:100].var()"
   ]
  },
  {
   "cell_type": "code",
   "execution_count": 12,
   "metadata": {},
   "outputs": [],
   "source": [
    "X_center['Class'] = X['Class']"
   ]
  },
  {
   "cell_type": "code",
   "execution_count": 13,
   "metadata": {},
   "outputs": [
    {
     "name": "stdout",
     "output_type": "stream",
     "text": [
      "var explained : 0.791221925396489\n"
     ]
    },
    {
     "data": {
      "text/plain": [
       "array([[-3.80903646, -0.24964036],\n",
       "       [-2.77971809, -0.29383017],\n",
       "       [-3.16605852, -0.28394522],\n",
       "       ...,\n",
       "       [ 6.50612717, -0.12998992],\n",
       "       [ 7.46471528, -0.20674439],\n",
       "       [ 3.32955226,  0.22036692]])"
      ]
     },
     "execution_count": 13,
     "metadata": {},
     "output_type": "execute_result"
    }
   ],
   "source": [
    "n_components = 2\n",
    "pca = PCA(n_components=n_components,random_state=42)\n",
    "pca_fit = pca.fit(X_center.iloc[:,:100])\n",
    "print(f\"var explained : {np.sum(pca_fit.explained_variance_ratio_)}\")\n",
    "pca_trans = pca.fit_transform(X_center)\n",
    "pca_trans"
   ]
  },
  {
   "cell_type": "code",
   "execution_count": 14,
   "metadata": {},
   "outputs": [
    {
     "data": {
      "text/plain": [
       "<matplotlib.collections.PathCollection at 0x7f9c02fdac10>"
      ]
     },
     "execution_count": 14,
     "metadata": {},
     "output_type": "execute_result"
    },
    {
     "data": {
      "image/png": "[encoded data removed]",
      "text/plain": [
       "<Figure size 432x288 with 1 Axes>"
      ]
     },
     "metadata": {
      "needs_background": "light"
     },
     "output_type": "display_data"
    }
   ],
   "source": [
    "plt.scatter(x=pca_trans[:500,:1],y=pca_trans[:500,1:2],c=\"red\")\n",
    "plt.scatter(x=pca_trans[500:,:1],y=pca_trans[500:,1:2],c=\"blue\")"
   ]
  },
  {
   "cell_type": "code",
   "execution_count": 15,
   "metadata": {},
   "outputs": [],
   "source": [
    "var_explained = []\n",
    "n_comp = []\n",
    "for i in range(2,50):\n",
    "    n_components = i\n",
    "    pca_i = PCA(n_components=n_components,random_state=42)\n",
    "    pca_fit_i = pca_i.fit(X_center.iloc[:,:100])\n",
    "    var_explained.append(np.sum(pca_fit_i.explained_variance_ratio_))\n",
    "    n_comp.append(i)"
   ]
  },
  {
   "cell_type": "code",
   "execution_count": 16,
   "metadata": {},
   "outputs": [
    {
     "data": {
      "text/plain": [
       "[<matplotlib.lines.Line2D at 0x7f9c02fda750>]"
      ]
     },
     "execution_count": 16,
     "metadata": {},
     "output_type": "execute_result"
    },
    {
     "data": {
      "image/png": "[encoded data removed]",
      "text/plain": [
       "<Figure size 432x288 with 1 Axes>"
      ]
     },
     "metadata": {
      "needs_background": "light"
     },
     "output_type": "display_data"
    }
   ],
   "source": [
    "plt.plot(n_comp,var_explained)"
   ]
  },
  {
   "cell_type": "markdown",
   "metadata": {},
   "source": [
    "## t-SNE"
   ]
  },
  {
   "cell_type": "code",
   "execution_count": 17,
   "metadata": {},
   "outputs": [],
   "source": [
    "tsne = TSNE(n_components=2)"
   ]
  },
  {
   "cell_type": "code",
   "execution_count": 18,
   "metadata": {},
   "outputs": [],
   "source": [
    "tsne_fit = tsne.fit_transform(X.iloc[:,:100])"
   ]
  },
  {
   "cell_type": "code",
   "execution_count": 19,
   "metadata": {},
   "outputs": [
    {
     "data": {
      "text/plain": [
       "<matplotlib.collections.PathCollection at 0x7f9c05df5a50>"
      ]
     },
     "execution_count": 19,
     "metadata": {},
     "output_type": "execute_result"
    },
    {
     "data": {
      "image/png": "[encoded data removed]",
      "text/plain": [
       "<Figure size 432x288 with 1 Axes>"
      ]
     },
     "metadata": {
      "needs_background": "light"
     },
     "output_type": "display_data"
    }
   ],
   "source": [
    "plt.scatter(x=tsne_fit[:500,:1],y=tsne_fit[:500,1:2],c=\"red\")\n",
    "plt.scatter(x=tsne_fit[500:,:1],y=tsne_fit[500:,1:2],c=\"blue\")"
   ]
  },
  {
   "cell_type": "code",
   "execution_count": 20,
   "metadata": {},
   "outputs": [
    {
     "data": {
      "text/plain": [
       "<matplotlib.collections.PathCollection at 0x7f9c0706a850>"
      ]
     },
     "execution_count": 20,
     "metadata": {},
     "output_type": "execute_result"
    },
    {
     "data": {
      "image/png": "[encoded data removed]",
      "text/plain": [
       "<Figure size 432x288 with 1 Axes>"
      ]
     },
     "metadata": {
      "needs_background": "light"
     },
     "output_type": "display_data"
    }
   ],
   "source": [
    "tsne_fit_center = tsne.fit_transform(X_center.iloc[:,:100])\n",
    "plt.scatter(x=tsne_fit_center[:500,:1],y=tsne_fit_center[:500,1:2],c=\"red\")\n",
    "plt.scatter(x=tsne_fit_center[500:,:1],y=tsne_fit_center[500:,1:2],c=\"blue\")"
   ]
  }
 ],
 "metadata": {
  "kernelspec": {
   "display_name": "Python 3",
   "language": "python",
   "name": "python3"
  },
  "language_info": {
   "codemirror_mode": {
    "name": "ipython",
    "version": 3
   },
   "file_extension": ".py",
   "mimetype": "text/x-python",
   "name": "python",
   "nbconvert_exporter": "python",
   "pygments_lexer": "ipython3",
   "version": "3.7.6"
  }
 },
 "nbformat": 4,
 "nbformat_minor": 4
}
