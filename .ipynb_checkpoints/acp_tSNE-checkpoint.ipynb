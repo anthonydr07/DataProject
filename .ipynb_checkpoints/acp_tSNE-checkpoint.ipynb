{
 "cells": [
  {
   "cell_type": "markdown",
   "metadata": {},
   "source": [
    "# <center>  ACP and T-SNE"
   ]
  },
  {
   "cell_type": "code",
   "execution_count": 1,
   "metadata": {},
   "outputs": [],
   "source": [
    "# Library\n",
    "\n",
    "import pandas as pd\n",
    "import numpy as np\n",
    "from scipy.stats import norm, multivariate_normal  \n",
    "from sklearn.decomposition import PCA\n",
    "from sklearn.manifold import TSNE\n",
    "import matplotlib.pyplot as plt\n",
    "from mpl_toolkits.mplot3d import Axes3D"
   ]
  },
  {
   "cell_type": "markdown",
   "metadata": {},
   "source": [
    "## PCA"
   ]
  },
  {
   "cell_type": "code",
   "execution_count": 2,
   "metadata": {},
   "outputs": [],
   "source": [
    "# Gaussian data simulation\n",
    "\n",
    "n = 100\n",
    "mean = np.array([0 for i in range(n)])\n",
    "cov = np.eye(n) \n",
    "col = ['X'+str(i) for i in range(n)]\n",
    "X_1 = pd.DataFrame(np.random.multivariate_normal(mean, cov, (500)),columns=col)\n",
    "X_1['Class'] = 0\n",
    "X_2 = pd.DataFrame(np.random.multivariate_normal(mean+3, cov+3, (500)),columns=col)\n",
    "X_2['Class'] = 1\n",
    "X = X_1.append(X_2).reset_index(drop=True)"
   ]
  },
  {
   "cell_type": "code",
   "execution_count": 3,
   "metadata": {},
   "outputs": [
    {
     "data": {
      "text/html": [
       "<div>\n",
       "<style scoped>\n",
       "    .dataframe tbody tr th:only-of-type {\n",
       "        vertical-align: middle;\n",
       "    }\n",
       "\n",
       "    .dataframe tbody tr th {\n",
       "        vertical-align: top;\n",
       "    }\n",
       "\n",
       "    .dataframe thead th {\n",
       "        text-align: right;\n",
       "    }\n",
       "</style>\n",
       "<table border=\"1\" class=\"dataframe\">\n",
       "  <thead>\n",
       "    <tr style=\"text-align: right;\">\n",
       "      <th></th>\n",
       "      <th>X0</th>\n",
       "      <th>X1</th>\n",
       "      <th>X2</th>\n",
       "      <th>X3</th>\n",
       "      <th>X4</th>\n",
       "      <th>X5</th>\n",
       "      <th>X6</th>\n",
       "      <th>X7</th>\n",
       "      <th>X8</th>\n",
       "      <th>X9</th>\n",
       "      <th>...</th>\n",
       "      <th>X91</th>\n",
       "      <th>X92</th>\n",
       "      <th>X93</th>\n",
       "      <th>X94</th>\n",
       "      <th>X95</th>\n",
       "      <th>X96</th>\n",
       "      <th>X97</th>\n",
       "      <th>X98</th>\n",
       "      <th>X99</th>\n",
       "      <th>Class</th>\n",
       "    </tr>\n",
       "  </thead>\n",
       "  <tbody>\n",
       "    <tr>\n",
       "      <th>0</th>\n",
       "      <td>1.179946</td>\n",
       "      <td>-1.616410</td>\n",
       "      <td>0.723647</td>\n",
       "      <td>-0.771160</td>\n",
       "      <td>0.218721</td>\n",
       "      <td>1.328180</td>\n",
       "      <td>1.614962</td>\n",
       "      <td>0.770966</td>\n",
       "      <td>1.412557</td>\n",
       "      <td>-0.151356</td>\n",
       "      <td>...</td>\n",
       "      <td>-0.903816</td>\n",
       "      <td>-0.254698</td>\n",
       "      <td>0.097859</td>\n",
       "      <td>0.612127</td>\n",
       "      <td>-1.055043</td>\n",
       "      <td>0.399221</td>\n",
       "      <td>0.217413</td>\n",
       "      <td>1.592049</td>\n",
       "      <td>-0.456217</td>\n",
       "      <td>0</td>\n",
       "    </tr>\n",
       "    <tr>\n",
       "      <th>1</th>\n",
       "      <td>-0.991902</td>\n",
       "      <td>0.219447</td>\n",
       "      <td>-1.982688</td>\n",
       "      <td>-0.510448</td>\n",
       "      <td>0.261752</td>\n",
       "      <td>-0.088456</td>\n",
       "      <td>-0.375049</td>\n",
       "      <td>-2.007020</td>\n",
       "      <td>0.935969</td>\n",
       "      <td>-0.137882</td>\n",
       "      <td>...</td>\n",
       "      <td>0.006304</td>\n",
       "      <td>-0.946882</td>\n",
       "      <td>-0.539027</td>\n",
       "      <td>-1.570739</td>\n",
       "      <td>-2.258937</td>\n",
       "      <td>0.910666</td>\n",
       "      <td>-1.135796</td>\n",
       "      <td>-0.873398</td>\n",
       "      <td>-1.848816</td>\n",
       "      <td>0</td>\n",
       "    </tr>\n",
       "    <tr>\n",
       "      <th>2</th>\n",
       "      <td>-0.102932</td>\n",
       "      <td>-0.443685</td>\n",
       "      <td>-0.388745</td>\n",
       "      <td>1.122204</td>\n",
       "      <td>-0.113156</td>\n",
       "      <td>-0.014552</td>\n",
       "      <td>1.786514</td>\n",
       "      <td>0.510559</td>\n",
       "      <td>-1.478769</td>\n",
       "      <td>1.391486</td>\n",
       "      <td>...</td>\n",
       "      <td>0.157721</td>\n",
       "      <td>-0.141436</td>\n",
       "      <td>2.579613</td>\n",
       "      <td>-0.446877</td>\n",
       "      <td>0.638722</td>\n",
       "      <td>-0.171578</td>\n",
       "      <td>-0.321304</td>\n",
       "      <td>-0.930897</td>\n",
       "      <td>-1.796073</td>\n",
       "      <td>0</td>\n",
       "    </tr>\n",
       "    <tr>\n",
       "      <th>3</th>\n",
       "      <td>1.175089</td>\n",
       "      <td>2.379203</td>\n",
       "      <td>0.620007</td>\n",
       "      <td>0.229581</td>\n",
       "      <td>0.569742</td>\n",
       "      <td>-1.939268</td>\n",
       "      <td>1.539702</td>\n",
       "      <td>1.200821</td>\n",
       "      <td>0.627056</td>\n",
       "      <td>-0.792810</td>\n",
       "      <td>...</td>\n",
       "      <td>0.737812</td>\n",
       "      <td>-0.946762</td>\n",
       "      <td>0.233570</td>\n",
       "      <td>-0.237481</td>\n",
       "      <td>1.158920</td>\n",
       "      <td>1.524288</td>\n",
       "      <td>-0.816836</td>\n",
       "      <td>-1.628275</td>\n",
       "      <td>2.025454</td>\n",
       "      <td>0</td>\n",
       "    </tr>\n",
       "    <tr>\n",
       "      <th>4</th>\n",
       "      <td>2.324424</td>\n",
       "      <td>0.575767</td>\n",
       "      <td>-0.533598</td>\n",
       "      <td>-0.401216</td>\n",
       "      <td>0.396874</td>\n",
       "      <td>0.215146</td>\n",
       "      <td>1.779174</td>\n",
       "      <td>-0.439246</td>\n",
       "      <td>-0.592552</td>\n",
       "      <td>0.066721</td>\n",
       "      <td>...</td>\n",
       "      <td>-1.717864</td>\n",
       "      <td>-0.137830</td>\n",
       "      <td>-2.511161</td>\n",
       "      <td>0.227958</td>\n",
       "      <td>0.461246</td>\n",
       "      <td>0.360665</td>\n",
       "      <td>-1.302441</td>\n",
       "      <td>-1.033794</td>\n",
       "      <td>-1.710345</td>\n",
       "      <td>0</td>\n",
       "    </tr>\n",
       "  </tbody>\n",
       "</table>\n",
       "<p>5 rows × 101 columns</p>\n",
       "</div>"
      ],
      "text/plain": [
       "         X0        X1        X2        X3        X4        X5        X6  \\\n",
       "0  1.179946 -1.616410  0.723647 -0.771160  0.218721  1.328180  1.614962   \n",
       "1 -0.991902  0.219447 -1.982688 -0.510448  0.261752 -0.088456 -0.375049   \n",
       "2 -0.102932 -0.443685 -0.388745  1.122204 -0.113156 -0.014552  1.786514   \n",
       "3  1.175089  2.379203  0.620007  0.229581  0.569742 -1.939268  1.539702   \n",
       "4  2.324424  0.575767 -0.533598 -0.401216  0.396874  0.215146  1.779174   \n",
       "\n",
       "         X7        X8        X9  ...       X91       X92       X93       X94  \\\n",
       "0  0.770966  1.412557 -0.151356  ... -0.903816 -0.254698  0.097859  0.612127   \n",
       "1 -2.007020  0.935969 -0.137882  ...  0.006304 -0.946882 -0.539027 -1.570739   \n",
       "2  0.510559 -1.478769  1.391486  ...  0.157721 -0.141436  2.579613 -0.446877   \n",
       "3  1.200821  0.627056 -0.792810  ...  0.737812 -0.946762  0.233570 -0.237481   \n",
       "4 -0.439246 -0.592552  0.066721  ... -1.717864 -0.137830 -2.511161  0.227958   \n",
       "\n",
       "        X95       X96       X97       X98       X99  Class  \n",
       "0 -1.055043  0.399221  0.217413  1.592049 -0.456217      0  \n",
       "1 -2.258937  0.910666 -1.135796 -0.873398 -1.848816      0  \n",
       "2  0.638722 -0.171578 -0.321304 -0.930897 -1.796073      0  \n",
       "3  1.158920  1.524288 -0.816836 -1.628275  2.025454      0  \n",
       "4  0.461246  0.360665 -1.302441 -1.033794 -1.710345      0  \n",
       "\n",
       "[5 rows x 101 columns]"
      ]
     },
     "execution_count": 3,
     "metadata": {},
     "output_type": "execute_result"
    }
   ],
   "source": [
    "# Data\n",
    "X.head()"
   ]
  },
  {
   "cell_type": "code",
   "execution_count": 4,
   "metadata": {},
   "outputs": [],
   "source": [
    "# Center and reduice data\n",
    "X_center = (X.iloc[:,:100] - X.iloc[:,:100].mean())/X.iloc[:,:100].var()"
   ]
  },
  {
   "cell_type": "code",
   "execution_count": 5,
   "metadata": {},
   "outputs": [],
   "source": [
    "X_center['Class'] = X['Class']"
   ]
  },
  {
   "cell_type": "code",
   "execution_count": 6,
   "metadata": {},
   "outputs": [
    {
     "name": "stdout",
     "output_type": "stream",
     "text": [
      "var explained : 0.8042057639734411\n"
     ]
    },
    {
     "data": {
      "text/plain": [
       "array([[-2.65260069, -0.15197724],\n",
       "       [-3.31923552, -0.11730597],\n",
       "       [-3.57809053, -0.20149925],\n",
       "       ...,\n",
       "       [ 5.64788695,  0.02981861],\n",
       "       [ 8.58773004, -0.22298303],\n",
       "       [ 2.4944732 ,  0.24101465]])"
      ]
     },
     "execution_count": 6,
     "metadata": {},
     "output_type": "execute_result"
    }
   ],
   "source": [
    "# PCA with 2 components\n",
    "n_components = 2\n",
    "pca = PCA(n_components=n_components,random_state=42)\n",
    "pca_fit = pca.fit(X_center.iloc[:,:100])\n",
    "print(f\"var explained : {np.sum(pca_fit.explained_variance_ratio_)}\")\n",
    "pca_trans = pca.fit_transform(X_center)\n",
    "pca_trans"
   ]
  },
  {
   "cell_type": "code",
   "execution_count": 7,
   "metadata": {},
   "outputs": [
    {
     "data": {
      "text/plain": [
       "<matplotlib.collections.PathCollection at 0x7fe5d4034d90>"
      ]
     },
     "execution_count": 7,
     "metadata": {},
     "output_type": "execute_result"
    },
    {
     "data": {
      "image/png": "[encoded data removed]",
      "text/plain": [
       "<Figure size 432x288 with 1 Axes>"
      ]
     },
     "metadata": {
      "needs_background": "light"
     },
     "output_type": "display_data"
    }
   ],
   "source": [
    "# Plot result\n",
    "plt.scatter(x=pca_trans[:500,:1],y=pca_trans[:500,1:2],c=\"red\")\n",
    "plt.scatter(x=pca_trans[500:,:1],y=pca_trans[500:,1:2],c=\"blue\")"
   ]
  },
  {
   "cell_type": "code",
   "execution_count": 8,
   "metadata": {},
   "outputs": [],
   "source": [
    "# Search for the best number of components based on the explained variance\n",
    "var_explained = []\n",
    "n_comp = []\n",
    "for i in range(2,50):\n",
    "    n_components = i\n",
    "    pca_i = PCA(n_components=n_components,random_state=42)\n",
    "    pca_fit_i = pca_i.fit(X_center.iloc[:,:100])\n",
    "    var_explained.append(np.sum(pca_fit_i.explained_variance_ratio_))\n",
    "    n_comp.append(i)"
   ]
  },
  {
   "cell_type": "code",
   "execution_count": 9,
   "metadata": {},
   "outputs": [
    {
     "data": {
      "text/plain": [
       "[<matplotlib.lines.Line2D at 0x7fe5d52d7690>]"
      ]
     },
     "execution_count": 9,
     "metadata": {},
     "output_type": "execute_result"
    },
    {
     "data": {
      "image/png": "[encoded data removed]",
      "text/plain": [
       "<Figure size 432x288 with 1 Axes>"
      ]
     },
     "metadata": {
      "needs_background": "light"
     },
     "output_type": "display_data"
    }
   ],
   "source": [
    "plt.plot(n_comp,var_explained)"
   ]
  },
  {
   "cell_type": "markdown",
   "metadata": {},
   "source": [
    "## t-SNE"
   ]
  },
  {
   "cell_type": "code",
   "execution_count": 10,
   "metadata": {},
   "outputs": [],
   "source": [
    "tsne = TSNE(n_components=2)"
   ]
  },
  {
   "cell_type": "code",
   "execution_count": 11,
   "metadata": {},
   "outputs": [],
   "source": [
    "tsne_fit = tsne.fit_transform(X.iloc[:,:100])"
   ]
  },
  {
   "cell_type": "code",
   "execution_count": 12,
   "metadata": {},
   "outputs": [
    {
     "data": {
      "text/plain": [
       "<matplotlib.collections.PathCollection at 0x7fe5d3f71dd0>"
      ]
     },
     "execution_count": 12,
     "metadata": {},
     "output_type": "execute_result"
    },
    {
     "data": {
      "image/png": "[encoded data removed]",
      "text/plain": [
       "<Figure size 432x288 with 1 Axes>"
      ]
     },
     "metadata": {
      "needs_background": "light"
     },
     "output_type": "display_data"
    }
   ],
   "source": [
    "tsne_fit_center = tsne.fit_transform(X_center.iloc[:,:100])\n",
    "plt.scatter(x=tsne_fit_center[:500,:1],y=tsne_fit_center[:500,1:2],c=\"red\")\n",
    "plt.scatter(x=tsne_fit_center[500:,:1],y=tsne_fit_center[500:,1:2],c=\"blue\")"
   ]
  }
 ],
 "metadata": {
  "kernelspec": {
   "display_name": "Python 3",
   "language": "python",
   "name": "python3"
  },
  "language_info": {
   "codemirror_mode": {
    "name": "ipython",
    "version": 3
   },
   "file_extension": ".py",
   "mimetype": "text/x-python",
   "name": "python",
   "nbconvert_exporter": "python",
   "pygments_lexer": "ipython3",
   "version": "3.7.6"
  }
 },
 "nbformat": 4,
 "nbformat_minor": 4
}
