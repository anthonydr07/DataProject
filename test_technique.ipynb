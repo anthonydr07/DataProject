{
 "cells": [
  {
   "cell_type": "code",
   "execution_count": 1,
   "metadata": {},
   "outputs": [
    {
     "name": "stdout",
     "output_type": "stream",
     "text": [
      "Requirement already satisfied: matplotlib in /srv/conda/envs/notebook/lib/python3.7/site-packages (from -r requirements.txt (line 1)) (3.4.1)\n",
      "Requirement already satisfied: numpy in /srv/conda/envs/notebook/lib/python3.7/site-packages (from -r requirements.txt (line 2)) (1.20.2)\n",
      "Requirement already satisfied: pandas in /srv/conda/envs/notebook/lib/python3.7/site-packages (from -r requirements.txt (line 3)) (1.2.4)\n",
      "Requirement already satisfied: seaborn in /srv/conda/envs/notebook/lib/python3.7/site-packages (from -r requirements.txt (line 4)) (0.11.1)\n",
      "Requirement already satisfied: sklearn in /srv/conda/envs/notebook/lib/python3.7/site-packages (from -r requirements.txt (line 5)) (0.0)\n",
      "Requirement already satisfied: xgboost in /srv/conda/envs/notebook/lib/python3.7/site-packages (from -r requirements.txt (line 6)) (1.4.1)\n",
      "Requirement already satisfied: python-dateutil>=2.7 in /srv/conda/envs/notebook/lib/python3.7/site-packages (from matplotlib->-r requirements.txt (line 1)) (2.8.1)\n",
      "Requirement already satisfied: pyparsing>=2.2.1 in /srv/conda/envs/notebook/lib/python3.7/site-packages (from matplotlib->-r requirements.txt (line 1)) (2.4.7)\n",
      "Requirement already satisfied: pillow>=6.2.0 in /srv/conda/envs/notebook/lib/python3.7/site-packages (from matplotlib->-r requirements.txt (line 1)) (8.2.0)\n",
      "Requirement already satisfied: cycler>=0.10 in /srv/conda/envs/notebook/lib/python3.7/site-packages (from matplotlib->-r requirements.txt (line 1)) (0.10.0)\n",
      "Requirement already satisfied: kiwisolver>=1.0.1 in /srv/conda/envs/notebook/lib/python3.7/site-packages (from matplotlib->-r requirements.txt (line 1)) (1.3.1)\n",
      "Requirement already satisfied: six in /srv/conda/envs/notebook/lib/python3.7/site-packages (from cycler>=0.10->matplotlib->-r requirements.txt (line 1)) (1.15.0)\n",
      "Requirement already satisfied: pytz>=2017.3 in /srv/conda/envs/notebook/lib/python3.7/site-packages (from pandas->-r requirements.txt (line 3)) (2021.1)\n",
      "Requirement already satisfied: scipy>=1.0 in /srv/conda/envs/notebook/lib/python3.7/site-packages (from seaborn->-r requirements.txt (line 4)) (1.6.3)\n",
      "Requirement already satisfied: scikit-learn in /srv/conda/envs/notebook/lib/python3.7/site-packages (from sklearn->-r requirements.txt (line 5)) (0.24.1)\n",
      "Requirement already satisfied: threadpoolctl>=2.0.0 in /srv/conda/envs/notebook/lib/python3.7/site-packages (from scikit-learn->sklearn->-r requirements.txt (line 5)) (2.1.0)\n",
      "Requirement already satisfied: joblib>=0.11 in /srv/conda/envs/notebook/lib/python3.7/site-packages (from scikit-learn->sklearn->-r requirements.txt (line 5)) (1.0.1)\n"
     ]
    }
   ],
   "source": [
    "! pip install -r requirements.txt"
   ]
  },
  {
   "cell_type": "code",
   "execution_count": 2,
   "metadata": {},
   "outputs": [],
   "source": [
    "import pandas as pd"
   ]
  },
  {
   "cell_type": "code",
   "execution_count": 3,
   "metadata": {},
   "outputs": [
    {
     "data": {
      "text/html": [
       "<div>\n",
       "<style scoped>\n",
       "    .dataframe tbody tr th:only-of-type {\n",
       "        vertical-align: middle;\n",
       "    }\n",
       "\n",
       "    .dataframe tbody tr th {\n",
       "        vertical-align: top;\n",
       "    }\n",
       "\n",
       "    .dataframe thead th {\n",
       "        text-align: right;\n",
       "    }\n",
       "</style>\n",
       "<table border=\"1\" class=\"dataframe\">\n",
       "  <thead>\n",
       "    <tr style=\"text-align: right;\">\n",
       "      <th></th>\n",
       "      <th>hiver_2015</th>\n",
       "      <th>hiver_2016</th>\n",
       "      <th>permeabilite_sol</th>\n",
       "      <th>resistance</th>\n",
       "      <th>au_dessus_60e_parallele</th>\n",
       "    </tr>\n",
       "  </thead>\n",
       "  <tbody>\n",
       "    <tr>\n",
       "      <th>0</th>\n",
       "      <td>-41.348798</td>\n",
       "      <td>-10.681830</td>\n",
       "      <td>10.347281</td>\n",
       "      <td>0.803157</td>\n",
       "      <td>oui</td>\n",
       "    </tr>\n",
       "    <tr>\n",
       "      <th>1</th>\n",
       "      <td>-36.308328</td>\n",
       "      <td>-8.560263</td>\n",
       "      <td>13.431760</td>\n",
       "      <td>-1.307157</td>\n",
       "      <td>oui</td>\n",
       "    </tr>\n",
       "    <tr>\n",
       "      <th>2</th>\n",
       "      <td>-35.706947</td>\n",
       "      <td>-7.980804</td>\n",
       "      <td>9.855522</td>\n",
       "      <td>1.370246</td>\n",
       "      <td>oui</td>\n",
       "    </tr>\n",
       "    <tr>\n",
       "      <th>3</th>\n",
       "      <td>-35.223401</td>\n",
       "      <td>-9.267870</td>\n",
       "      <td>12.179208</td>\n",
       "      <td>-1.410446</td>\n",
       "      <td>oui</td>\n",
       "    </tr>\n",
       "    <tr>\n",
       "      <th>4</th>\n",
       "      <td>-34.314026</td>\n",
       "      <td>-7.435060</td>\n",
       "      <td>9.916977</td>\n",
       "      <td>1.381773</td>\n",
       "      <td>oui</td>\n",
       "    </tr>\n",
       "    <tr>\n",
       "      <th>...</th>\n",
       "      <td>...</td>\n",
       "      <td>...</td>\n",
       "      <td>...</td>\n",
       "      <td>...</td>\n",
       "      <td>...</td>\n",
       "    </tr>\n",
       "    <tr>\n",
       "      <th>10000</th>\n",
       "      <td>29.546015</td>\n",
       "      <td>-32.064545</td>\n",
       "      <td>13.841706</td>\n",
       "      <td>-1.379053</td>\n",
       "      <td>non</td>\n",
       "    </tr>\n",
       "    <tr>\n",
       "      <th>10001</th>\n",
       "      <td>32.959369</td>\n",
       "      <td>-31.666073</td>\n",
       "      <td>12.411507</td>\n",
       "      <td>-1.257224</td>\n",
       "      <td>oui</td>\n",
       "    </tr>\n",
       "    <tr>\n",
       "      <th>10002</th>\n",
       "      <td>36.595877</td>\n",
       "      <td>-30.880099</td>\n",
       "      <td>12.206561</td>\n",
       "      <td>-0.713427</td>\n",
       "      <td>oui</td>\n",
       "    </tr>\n",
       "    <tr>\n",
       "      <th>10003</th>\n",
       "      <td>34.372637</td>\n",
       "      <td>-29.276130</td>\n",
       "      <td>9.132106</td>\n",
       "      <td>0.858851</td>\n",
       "      <td>non</td>\n",
       "    </tr>\n",
       "    <tr>\n",
       "      <th>10004</th>\n",
       "      <td>29.804126</td>\n",
       "      <td>-27.586834</td>\n",
       "      <td>10.161358</td>\n",
       "      <td>1.381773</td>\n",
       "      <td>oui</td>\n",
       "    </tr>\n",
       "  </tbody>\n",
       "</table>\n",
       "<p>10005 rows × 5 columns</p>\n",
       "</div>"
      ],
      "text/plain": [
       "       hiver_2015  hiver_2016  permeabilite_sol  resistance  \\\n",
       "0      -41.348798  -10.681830         10.347281    0.803157   \n",
       "1      -36.308328   -8.560263         13.431760   -1.307157   \n",
       "2      -35.706947   -7.980804          9.855522    1.370246   \n",
       "3      -35.223401   -9.267870         12.179208   -1.410446   \n",
       "4      -34.314026   -7.435060          9.916977    1.381773   \n",
       "...           ...         ...               ...         ...   \n",
       "10000   29.546015  -32.064545         13.841706   -1.379053   \n",
       "10001   32.959369  -31.666073         12.411507   -1.257224   \n",
       "10002   36.595877  -30.880099         12.206561   -0.713427   \n",
       "10003   34.372637  -29.276130          9.132106    0.858851   \n",
       "10004   29.804126  -27.586834         10.161358    1.381773   \n",
       "\n",
       "      au_dessus_60e_parallele  \n",
       "0                         oui  \n",
       "1                         oui  \n",
       "2                         oui  \n",
       "3                         oui  \n",
       "4                         oui  \n",
       "...                       ...  \n",
       "10000                     non  \n",
       "10001                     oui  \n",
       "10002                     oui  \n",
       "10003                     non  \n",
       "10004                     oui  \n",
       "\n",
       "[10005 rows x 5 columns]"
      ]
     },
     "execution_count": 3,
     "metadata": {},
     "output_type": "execute_result"
    }
   ],
   "source": [
    "pd.read_csv('data/data_ex_1.csv')"
   ]
  },
  {
   "cell_type": "markdown",
   "metadata": {},
   "source": [
    "# Mise en place et évaluation d’un modèle"
   ]
  },
  {
   "cell_type": "markdown",
   "metadata": {},
   "source": [
    "<font color=red>_L’ordre n’a pas d’importance, ce n’est pas grave non plus de ne pas finir toutes les parties._</font>\n"
   ]
  },
  {
   "cell_type": "markdown",
   "metadata": {},
   "source": [
    "##  <u>1ère Partie :</u> Prédiction de la position d’une ville à partir de données météo"
   ]
  },
  {
   "cell_type": "markdown",
   "metadata": {},
   "source": [
    "L’objectif de cet exercice est d’essayer de prédire si une ville se trouve au-dessus ou en dessous du 60ème parallèle en fonction des relevés de température et de précipitation en hiver 2015 et 2016.<br/><br/>\n",
    "Pour cela charger le fichier data\\data_ex_1.csv<br/><br/>\n",
    "Les trois questions devront être traitées par un modèle génératif et par un modèle discriminant.\n"
   ]
  },
  {
   "cell_type": "code",
   "execution_count": 126,
   "metadata": {},
   "outputs": [],
   "source": [
    "from sklearn.ensemble import RandomForestClassifier \n",
    "from sklearn.linear_model import LogisticRegression  \n",
    "from sklearn.model_selection import cross_val_score\n",
    "from sklearn.model_selection import train_test_split\n",
    "from sklearn.metrics import precision_score, recall_score, accuracy_score, roc_curve, auc\n",
    "import numpy as np\n",
    "import matplotlib.pyplot as plt\n",
    "import seaborn as sns"
   ]
  },
  {
   "cell_type": "markdown",
   "metadata": {},
   "source": [
    "### a.\tFaire une première version des modèles permettant de classer les villes en prenant toutes les données."
   ]
  },
  {
   "cell_type": "markdown",
   "metadata": {},
   "source": [
    "Afficher le taux d’erreur"
   ]
  },
  {
   "cell_type": "code",
   "execution_count": 127,
   "metadata": {},
   "outputs": [],
   "source": [
    "df = pd.read_csv('data/data_ex_1.csv')"
   ]
  },
  {
   "cell_type": "code",
   "execution_count": 128,
   "metadata": {},
   "outputs": [
    {
     "data": {
      "text/plain": [
       "(10005, 5)"
      ]
     },
     "execution_count": 128,
     "metadata": {},
     "output_type": "execute_result"
    }
   ],
   "source": [
    "df.shape"
   ]
  },
  {
   "cell_type": "code",
   "execution_count": 129,
   "metadata": {},
   "outputs": [
    {
     "data": {
      "text/html": [
       "<div>\n",
       "<style scoped>\n",
       "    .dataframe tbody tr th:only-of-type {\n",
       "        vertical-align: middle;\n",
       "    }\n",
       "\n",
       "    .dataframe tbody tr th {\n",
       "        vertical-align: top;\n",
       "    }\n",
       "\n",
       "    .dataframe thead th {\n",
       "        text-align: right;\n",
       "    }\n",
       "</style>\n",
       "<table border=\"1\" class=\"dataframe\">\n",
       "  <thead>\n",
       "    <tr style=\"text-align: right;\">\n",
       "      <th></th>\n",
       "      <th>hiver_2015</th>\n",
       "      <th>hiver_2016</th>\n",
       "      <th>permeabilite_sol</th>\n",
       "      <th>resistance</th>\n",
       "    </tr>\n",
       "  </thead>\n",
       "  <tbody>\n",
       "    <tr>\n",
       "      <th>count</th>\n",
       "      <td>10005.000000</td>\n",
       "      <td>10005.000000</td>\n",
       "      <td>10005.000000</td>\n",
       "      <td>10005.000000</td>\n",
       "    </tr>\n",
       "    <tr>\n",
       "      <th>mean</th>\n",
       "      <td>-0.030879</td>\n",
       "      <td>0.028269</td>\n",
       "      <td>9.971180</td>\n",
       "      <td>0.010065</td>\n",
       "    </tr>\n",
       "    <tr>\n",
       "      <th>std</th>\n",
       "      <td>11.757130</td>\n",
       "      <td>10.473917</td>\n",
       "      <td>2.000317</td>\n",
       "      <td>1.001286</td>\n",
       "    </tr>\n",
       "    <tr>\n",
       "      <th>min</th>\n",
       "      <td>-41.348798</td>\n",
       "      <td>-32.064545</td>\n",
       "      <td>1.981313</td>\n",
       "      <td>-1.412965</td>\n",
       "    </tr>\n",
       "    <tr>\n",
       "      <th>25%</th>\n",
       "      <td>-10.014113</td>\n",
       "      <td>-9.974522</td>\n",
       "      <td>8.644148</td>\n",
       "      <td>-0.977628</td>\n",
       "    </tr>\n",
       "    <tr>\n",
       "      <th>50%</th>\n",
       "      <td>4.490410</td>\n",
       "      <td>-0.669373</td>\n",
       "      <td>9.964732</td>\n",
       "      <td>0.078175</td>\n",
       "    </tr>\n",
       "    <tr>\n",
       "      <th>75%</th>\n",
       "      <td>10.033700</td>\n",
       "      <td>10.069427</td>\n",
       "      <td>11.299027</td>\n",
       "      <td>0.986635</td>\n",
       "    </tr>\n",
       "    <tr>\n",
       "      <th>max</th>\n",
       "      <td>36.595877</td>\n",
       "      <td>21.095863</td>\n",
       "      <td>17.483177</td>\n",
       "      <td>1.413435</td>\n",
       "    </tr>\n",
       "  </tbody>\n",
       "</table>\n",
       "</div>"
      ],
      "text/plain": [
       "         hiver_2015    hiver_2016  permeabilite_sol    resistance\n",
       "count  10005.000000  10005.000000      10005.000000  10005.000000\n",
       "mean      -0.030879      0.028269          9.971180      0.010065\n",
       "std       11.757130     10.473917          2.000317      1.001286\n",
       "min      -41.348798    -32.064545          1.981313     -1.412965\n",
       "25%      -10.014113     -9.974522          8.644148     -0.977628\n",
       "50%        4.490410     -0.669373          9.964732      0.078175\n",
       "75%       10.033700     10.069427         11.299027      0.986635\n",
       "max       36.595877     21.095863         17.483177      1.413435"
      ]
     },
     "execution_count": 129,
     "metadata": {},
     "output_type": "execute_result"
    }
   ],
   "source": [
    "df.describe()"
   ]
  },
  {
   "cell_type": "code",
   "execution_count": 130,
   "metadata": {},
   "outputs": [
    {
     "data": {
      "text/plain": [
       "hiver_2015                 0\n",
       "hiver_2016                 0\n",
       "permeabilite_sol           0\n",
       "resistance                 0\n",
       "au_dessus_60e_parallele    0\n",
       "dtype: int64"
      ]
     },
     "execution_count": 130,
     "metadata": {},
     "output_type": "execute_result"
    }
   ],
   "source": [
    "df.isnull().sum()"
   ]
  },
  {
   "cell_type": "code",
   "execution_count": 131,
   "metadata": {},
   "outputs": [
    {
     "data": {
      "text/plain": [
       "hiver_2015                 float64\n",
       "hiver_2016                 float64\n",
       "permeabilite_sol           float64\n",
       "resistance                 float64\n",
       "au_dessus_60e_parallele     object\n",
       "dtype: object"
      ]
     },
     "execution_count": 131,
     "metadata": {},
     "output_type": "execute_result"
    }
   ],
   "source": [
    "df.dtypes"
   ]
  },
  {
   "cell_type": "code",
   "execution_count": 132,
   "metadata": {},
   "outputs": [
    {
     "data": {
      "text/plain": [
       "<AxesSubplot:>"
      ]
     },
     "execution_count": 132,
     "metadata": {},
     "output_type": "execute_result"
    },
    {
     "data": {
      "image/png": "[encoded data removed]",
      "text/plain": [
       "<Figure size 432x288 with 1 Axes>"
      ]
     },
     "metadata": {
      "needs_background": "light"
     },
     "output_type": "display_data"
    }
   ],
   "source": [
    "df['au_dessus_60e_parallele'].value_counts().plot(kind=\"bar\")"
   ]
  },
  {
   "cell_type": "code",
   "execution_count": 133,
   "metadata": {},
   "outputs": [],
   "source": [
    "df['au_dessus_60e_parallele_binaire'] = df['au_dessus_60e_parallele'].map(lambda x: 1 if x=='oui' else 0)"
   ]
  },
  {
   "cell_type": "code",
   "execution_count": 134,
   "metadata": {},
   "outputs": [],
   "source": [
    "data = df.drop(\"au_dessus_60e_parallele\",axis=1)"
   ]
  },
  {
   "cell_type": "code",
   "execution_count": 135,
   "metadata": {},
   "outputs": [],
   "source": [
    "X_train, X_test, y_train, y_test = train_test_split(data.iloc[:,data.columns!='au_dessus_60e_parallele_binaire'], \n",
    "                                                    data['au_dessus_60e_parallele_binaire'], test_size=0.2, \n",
    "                                                    random_state=42)"
   ]
  },
  {
   "cell_type": "code",
   "execution_count": 136,
   "metadata": {},
   "outputs": [],
   "source": [
    "models = {\n",
    "    'Logistic Regression':LogisticRegression(),\n",
    "    'Random Forest':RandomForestClassifier()\n",
    "}"
   ]
  },
  {
   "cell_type": "code",
   "execution_count": 137,
   "metadata": {},
   "outputs": [],
   "source": [
    "scores_cv = []\n",
    "for model in models:\n",
    "    scores_cv.append(cross_val_score(models[model], X_train, y_train, cv=5,).mean())"
   ]
  },
  {
   "cell_type": "code",
   "execution_count": 138,
   "metadata": {},
   "outputs": [
    {
     "name": "stdout",
     "output_type": "stream",
     "text": [
      "Taux d'erreur cross validation sur le train set:\n",
      "Logistic Regression : 0.0\n",
      "Random Forest : 0.0\n"
     ]
    }
   ],
   "source": [
    "print(\"Taux d'erreur cross validation sur le train set:\")\n",
    "for i,model in enumerate(models):\n",
    "    print(f\"{model} : {round(1 - scores_cv[i],3)}\")"
   ]
  },
  {
   "cell_type": "code",
   "execution_count": 139,
   "metadata": {},
   "outputs": [
    {
     "name": "stdout",
     "output_type": "stream",
     "text": [
      "Taux d'erreur sur le test set:\n",
      "Logistic Regression : 0.001\n",
      "Random Forest : 0.0\n"
     ]
    }
   ],
   "source": [
    "print(\"Taux d'erreur sur le test set:\")\n",
    "for model in models:\n",
    "    model_fit = models[model].fit(X_train,y_train)\n",
    "    y_pred = model_fit.predict(X_test)\n",
    "    print(f\"{model} : {round(1 - accuracy_score(y_test, y_pred),3)}\")"
   ]
  },
  {
   "cell_type": "markdown",
   "metadata": {},
   "source": [
    "### b.\tEssayer d’améliorer les modèles en identifiant les variables non pertinentes"
   ]
  },
  {
   "cell_type": "markdown",
   "metadata": {},
   "source": [
    "Afficher le taux de bonne prédiction"
   ]
  },
  {
   "cell_type": "code",
   "execution_count": 140,
   "metadata": {},
   "outputs": [
    {
     "data": {
      "image/png": "[encoded data removed]",
      "text/plain": [
       "<Figure size 432x288 with 1 Axes>"
      ]
     },
     "metadata": {
      "needs_background": "light"
     },
     "output_type": "display_data"
    }
   ],
   "source": [
    "rdf = RandomForestClassifier().fit(X_train,y_train)\n",
    "features = X_train.columns\n",
    "importances = rdf.feature_importances_\n",
    "indices = np.argsort(importances)\n",
    "\n",
    "plt.title('Feature Importances')\n",
    "plt.barh(range(len(indices)), importances[indices])\n",
    "plt.yticks(range(len(indices)), [features[i] for i in indices])\n",
    "plt.show()"
   ]
  },
  {
   "cell_type": "code",
   "execution_count": 141,
   "metadata": {},
   "outputs": [
    {
     "data": {
      "image/png": "[encoded data removed]",
      "text/plain": [
       "<Figure size 432x288 with 2 Axes>"
      ]
     },
     "metadata": {
      "needs_background": "light"
     },
     "output_type": "display_data"
    }
   ],
   "source": [
    "rs = np.random.RandomState(0)\n",
    "corr = data.corr()\n",
    "sns.heatmap(corr, cmap='coolwarm_r')\n",
    "plt.show()"
   ]
  },
  {
   "cell_type": "code",
   "execution_count": 142,
   "metadata": {},
   "outputs": [
    {
     "data": {
      "text/plain": [
       "Index(['hiver_2015', 'hiver_2016', 'permeabilite_sol', 'resistance',\n",
       "       'au_dessus_60e_parallele_binaire'],\n",
       "      dtype='object')"
      ]
     },
     "execution_count": 142,
     "metadata": {},
     "output_type": "execute_result"
    }
   ],
   "source": [
    "data.columns"
   ]
  },
  {
   "cell_type": "code",
   "execution_count": 143,
   "metadata": {},
   "outputs": [],
   "source": [
    "data1 = data.drop(['permeabilite_sol', 'resistance'],axis=1)"
   ]
  },
  {
   "cell_type": "code",
   "execution_count": 144,
   "metadata": {},
   "outputs": [
    {
     "data": {
      "image/png": "[encoded data removed]",
      "text/plain": [
       "<Figure size 432x288 with 2 Axes>"
      ]
     },
     "metadata": {
      "needs_background": "light"
     },
     "output_type": "display_data"
    }
   ],
   "source": [
    "rs = np.random.RandomState(0)\n",
    "corr = data1.corr()\n",
    "sns.heatmap(corr, cmap='coolwarm_r')\n",
    "plt.show()"
   ]
  },
  {
   "cell_type": "code",
   "execution_count": 145,
   "metadata": {},
   "outputs": [],
   "source": [
    "X_train, X_test, y_train, y_test = train_test_split(data1.iloc[:,data1.columns!='au_dessus_60e_parallele_binaire'], \n",
    "                                                    data1['au_dessus_60e_parallele_binaire'], test_size=0.2, \n",
    "                                                    random_state=42)"
   ]
  },
  {
   "cell_type": "code",
   "execution_count": 146,
   "metadata": {},
   "outputs": [],
   "source": [
    "scores_cv = []\n",
    "for model in models:\n",
    "    scores_cv.append(cross_val_score(models[model], X_train, y_train, cv=5,).mean())"
   ]
  },
  {
   "cell_type": "code",
   "execution_count": 147,
   "metadata": {},
   "outputs": [
    {
     "name": "stdout",
     "output_type": "stream",
     "text": [
      "Accuracy moyenne cross validation sur le train:\n",
      "Logistic Regression : 0.999\n",
      "Random Forest : 1.0\n"
     ]
    }
   ],
   "source": [
    "print(\"Accuracy moyenne cross validation sur le train:\")\n",
    "for i,model in enumerate(models):\n",
    "    print(f\"{model} : {round(scores_cv[i],3)}\")"
   ]
  },
  {
   "cell_type": "code",
   "execution_count": 148,
   "metadata": {},
   "outputs": [
    {
     "name": "stdout",
     "output_type": "stream",
     "text": [
      "Accuracy sur le test set:\n",
      "Logistic Regression : 0.999\n",
      "Random Forest : 0.999\n"
     ]
    }
   ],
   "source": [
    "print(\"Accuracy sur le test set:\")\n",
    "for model in models:\n",
    "    model_fit = models[model].fit(X_train,y_train)\n",
    "    y_pred = model_fit.predict(X_test)\n",
    "    print(f\"{model} : {round(accuracy_score(y_test, y_pred),3)}\")"
   ]
  },
  {
   "cell_type": "markdown",
   "metadata": {},
   "source": [
    "### c.\tEssayer d’améliorer les nouveaux modèles en identifiant les valeurs aberrantes"
   ]
  },
  {
   "cell_type": "code",
   "execution_count": 149,
   "metadata": {
    "scrolled": true
   },
   "outputs": [
    {
     "data": {
      "image/png": "[encoded data removed]",
      "text/plain": [
       "<Figure size 1728x432 with 2 Axes>"
      ]
     },
     "metadata": {
      "needs_background": "light"
     },
     "output_type": "display_data"
    }
   ],
   "source": [
    "f, (ax1, ax2) = plt.subplots(1, 2, figsize=(24,6))\n",
    "sns.boxplot(x=data1.au_dessus_60e_parallele_binaire, y=data1.hiver_2015,ax=ax1)\n",
    "sns.boxplot(x=data1.au_dessus_60e_parallele_binaire, y=data1.hiver_2016,ax=ax2)\n",
    "f.show()"
   ]
  },
  {
   "cell_type": "code",
   "execution_count": 150,
   "metadata": {},
   "outputs": [
    {
     "data": {
      "text/plain": [
       "2001.0"
      ]
     },
     "execution_count": 150,
     "metadata": {},
     "output_type": "execute_result"
    }
   ],
   "source": [
    "len(data1)*0.2"
   ]
  },
  {
   "cell_type": "code",
   "execution_count": 151,
   "metadata": {},
   "outputs": [],
   "source": [
    "validation_set = data1[:2001]\n",
    "train_set = data1[2001:]"
   ]
  },
  {
   "cell_type": "code",
   "execution_count": 152,
   "metadata": {},
   "outputs": [],
   "source": [
    "data2 = train_set[(train_set.hiver_2015<20) &(train_set.hiver_2015>-30) & (train_set.hiver_2016<18) & (train_set.hiver_2016>-18)]"
   ]
  },
  {
   "cell_type": "code",
   "execution_count": 153,
   "metadata": {},
   "outputs": [
    {
     "data": {
      "image/png": "[encoded data removed]",
      "text/plain": [
       "<Figure size 1728x432 with 2 Axes>"
      ]
     },
     "metadata": {
      "needs_background": "light"
     },
     "output_type": "display_data"
    }
   ],
   "source": [
    "f, (ax1, ax2) = plt.subplots(1, 2, figsize=(24,6))\n",
    "sns.boxplot(x=data2.au_dessus_60e_parallele_binaire, y=data2.hiver_2015,ax=ax1)\n",
    "sns.boxplot(x=data2.au_dessus_60e_parallele_binaire, y=data2.hiver_2016,ax=ax2)\n",
    "f.show()"
   ]
  },
  {
   "cell_type": "code",
   "execution_count": 154,
   "metadata": {},
   "outputs": [],
   "source": [
    "X_train, X_test, y_train, y_test = train_test_split(data2.iloc[:,data2.columns!='au_dessus_60e_parallele_binaire'], \n",
    "                                                    data2['au_dessus_60e_parallele_binaire'], test_size=0.2, \n",
    "                                                    random_state=42)"
   ]
  },
  {
   "cell_type": "code",
   "execution_count": 155,
   "metadata": {},
   "outputs": [],
   "source": [
    "scores_cv = []\n",
    "for model in models:\n",
    "    scores_cv.append(cross_val_score(models[model], X_train, y_train, cv=5,).mean())"
   ]
  },
  {
   "cell_type": "code",
   "execution_count": 156,
   "metadata": {},
   "outputs": [
    {
     "name": "stdout",
     "output_type": "stream",
     "text": [
      "Accuracy moyenne cross validation sur le train:\n",
      "Logistic Regression : 1.0\n",
      "Random Forest : 1.0\n"
     ]
    }
   ],
   "source": [
    "print(\"Accuracy moyenne cross validation sur le train:\")\n",
    "for i,model in enumerate(models):\n",
    "    print(f\"{model} : {round(scores_cv[i],3)}\")"
   ]
  },
  {
   "cell_type": "code",
   "execution_count": 157,
   "metadata": {},
   "outputs": [
    {
     "name": "stdout",
     "output_type": "stream",
     "text": [
      "Accuracy sur le test set:\n",
      "Logistic Regression : 0.999\n",
      "Random Forest : 1.0\n"
     ]
    }
   ],
   "source": [
    "print(\"Accuracy sur le test set:\")\n",
    "for model in models:\n",
    "    model_fit = models[model].fit(X_train,y_train)\n",
    "    y_pred = model_fit.predict(X_test)\n",
    "    print(f\"{model} : {round(accuracy_score(y_test, y_pred),3)}\")"
   ]
  },
  {
   "cell_type": "code",
   "execution_count": 158,
   "metadata": {},
   "outputs": [],
   "source": [
    "X_val = validation_set.iloc[:,validation_set.columns!='au_dessus_60e_parallele_binaire']\n",
    "y_val = validation_set.au_dessus_60e_parallele_binaire"
   ]
  },
  {
   "cell_type": "code",
   "execution_count": 159,
   "metadata": {},
   "outputs": [
    {
     "data": {
      "text/html": [
       "<div>\n",
       "<style scoped>\n",
       "    .dataframe tbody tr th:only-of-type {\n",
       "        vertical-align: middle;\n",
       "    }\n",
       "\n",
       "    .dataframe tbody tr th {\n",
       "        vertical-align: top;\n",
       "    }\n",
       "\n",
       "    .dataframe thead th {\n",
       "        text-align: right;\n",
       "    }\n",
       "</style>\n",
       "<table border=\"1\" class=\"dataframe\">\n",
       "  <thead>\n",
       "    <tr style=\"text-align: right;\">\n",
       "      <th></th>\n",
       "      <th>hiver_2015</th>\n",
       "      <th>hiver_2016</th>\n",
       "      <th>au_dessus_60e_parallele_binaire</th>\n",
       "    </tr>\n",
       "  </thead>\n",
       "  <tbody>\n",
       "    <tr>\n",
       "      <th>0</th>\n",
       "      <td>-41.348798</td>\n",
       "      <td>-10.681830</td>\n",
       "      <td>1</td>\n",
       "    </tr>\n",
       "    <tr>\n",
       "      <th>1</th>\n",
       "      <td>-36.308328</td>\n",
       "      <td>-8.560263</td>\n",
       "      <td>1</td>\n",
       "    </tr>\n",
       "    <tr>\n",
       "      <th>2</th>\n",
       "      <td>-35.706947</td>\n",
       "      <td>-7.980804</td>\n",
       "      <td>1</td>\n",
       "    </tr>\n",
       "    <tr>\n",
       "      <th>3</th>\n",
       "      <td>-35.223401</td>\n",
       "      <td>-9.267870</td>\n",
       "      <td>1</td>\n",
       "    </tr>\n",
       "    <tr>\n",
       "      <th>4</th>\n",
       "      <td>-34.314026</td>\n",
       "      <td>-7.435060</td>\n",
       "      <td>1</td>\n",
       "    </tr>\n",
       "    <tr>\n",
       "      <th>...</th>\n",
       "      <td>...</td>\n",
       "      <td>...</td>\n",
       "      <td>...</td>\n",
       "    </tr>\n",
       "    <tr>\n",
       "      <th>1996</th>\n",
       "      <td>-12.121142</td>\n",
       "      <td>-11.139094</td>\n",
       "      <td>1</td>\n",
       "    </tr>\n",
       "    <tr>\n",
       "      <th>1997</th>\n",
       "      <td>-12.116140</td>\n",
       "      <td>-12.021918</td>\n",
       "      <td>1</td>\n",
       "    </tr>\n",
       "    <tr>\n",
       "      <th>1998</th>\n",
       "      <td>-12.110645</td>\n",
       "      <td>-8.180999</td>\n",
       "      <td>1</td>\n",
       "    </tr>\n",
       "    <tr>\n",
       "      <th>1999</th>\n",
       "      <td>-12.089478</td>\n",
       "      <td>-10.122159</td>\n",
       "      <td>1</td>\n",
       "    </tr>\n",
       "    <tr>\n",
       "      <th>2000</th>\n",
       "      <td>-12.086809</td>\n",
       "      <td>-5.594096</td>\n",
       "      <td>1</td>\n",
       "    </tr>\n",
       "  </tbody>\n",
       "</table>\n",
       "<p>2001 rows × 3 columns</p>\n",
       "</div>"
      ],
      "text/plain": [
       "      hiver_2015  hiver_2016  au_dessus_60e_parallele_binaire\n",
       "0     -41.348798  -10.681830                                1\n",
       "1     -36.308328   -8.560263                                1\n",
       "2     -35.706947   -7.980804                                1\n",
       "3     -35.223401   -9.267870                                1\n",
       "4     -34.314026   -7.435060                                1\n",
       "...          ...         ...                              ...\n",
       "1996  -12.121142  -11.139094                                1\n",
       "1997  -12.116140  -12.021918                                1\n",
       "1998  -12.110645   -8.180999                                1\n",
       "1999  -12.089478  -10.122159                                1\n",
       "2000  -12.086809   -5.594096                                1\n",
       "\n",
       "[2001 rows x 3 columns]"
      ]
     },
     "execution_count": 159,
     "metadata": {},
     "output_type": "execute_result"
    }
   ],
   "source": [
    "validation_set"
   ]
  },
  {
   "cell_type": "code",
   "execution_count": 160,
   "metadata": {},
   "outputs": [
    {
     "data": {
      "image/png": "[encoded data removed]",
      "text/plain": [
       "<Figure size 1728x432 with 2 Axes>"
      ]
     },
     "metadata": {
      "needs_background": "light"
     },
     "output_type": "display_data"
    }
   ],
   "source": [
    "f, (ax1, ax2) = plt.subplots(1, 2, figsize=(24,6))\n",
    "sns.boxplot(x=validation_set.au_dessus_60e_parallele_binaire, y=validation_set.hiver_2015,ax=ax1)\n",
    "sns.boxplot(x=validation_set.au_dessus_60e_parallele_binaire, y=validation_set.hiver_2016,ax=ax2)\n",
    "f.show()"
   ]
  },
  {
   "cell_type": "code",
   "execution_count": 161,
   "metadata": {},
   "outputs": [
    {
     "name": "stdout",
     "output_type": "stream",
     "text": [
      "Accuracy sur le validation set:\n",
      "Logistic Regression : 1.0\n",
      "Random Forest : 1.0\n"
     ]
    }
   ],
   "source": [
    "print(\"Accuracy sur le validation set:\")\n",
    "for model in models:\n",
    "    model_fit = models[model].fit(X_train,y_train)\n",
    "    y_pred = model_fit.predict(X_val)\n",
    "    print(f\"{model} : {round(accuracy_score(y_val, y_pred),3)}\")"
   ]
  },
  {
   "cell_type": "markdown",
   "metadata": {},
   "source": [
    "##  <u>2ème Partie :</u> Prédiction du type d’immeuble (haut ou bas) en fonction des coordonnées géographiques et de l’altitude "
   ]
  },
  {
   "cell_type": "markdown",
   "metadata": {},
   "source": [
    "L’objectif de cet exercice est d’essayer de prédire si un immeuble est de grande hauteur ou pas en fonction des coordonnées de type GPS (l’unité n’est pas connue). Quand les données ne sont pas connues elles ont été renseignées à 0.<br/><br/>\n",
    "Pour cela utiliser le fichier : data\\data_ex_2.csv<br/><br/>\n",
    "Les trois questions devront être traitée par deux modèles ensemblistes.\n"
   ]
  },
  {
   "cell_type": "code",
   "execution_count": 205,
   "metadata": {},
   "outputs": [],
   "source": [
    "from sklearn.ensemble import AdaBoostClassifier\n",
    "from sklearn.model_selection import GridSearchCV\n",
    "from sklearn.metrics import confusion_matrix"
   ]
  },
  {
   "cell_type": "code",
   "execution_count": 184,
   "metadata": {},
   "outputs": [],
   "source": [
    "df = pd.read_csv('data/data_ex_2.csv',delimiter=\";\",decimal=',')"
   ]
  },
  {
   "cell_type": "markdown",
   "metadata": {},
   "source": [
    "### a.\tEssayer d’obtenir le meilleur modèle en minimisant le taux d’erreur pour chacun des deux algorithmes en jouant sur les données."
   ]
  },
  {
   "cell_type": "code",
   "execution_count": 185,
   "metadata": {},
   "outputs": [
    {
     "data": {
      "text/plain": [
       "(6000, 5)"
      ]
     },
     "execution_count": 185,
     "metadata": {},
     "output_type": "execute_result"
    }
   ],
   "source": [
    "df.shape"
   ]
  },
  {
   "cell_type": "code",
   "execution_count": 186,
   "metadata": {},
   "outputs": [
    {
     "data": {
      "text/html": [
       "<div>\n",
       "<style scoped>\n",
       "    .dataframe tbody tr th:only-of-type {\n",
       "        vertical-align: middle;\n",
       "    }\n",
       "\n",
       "    .dataframe tbody tr th {\n",
       "        vertical-align: top;\n",
       "    }\n",
       "\n",
       "    .dataframe thead th {\n",
       "        text-align: right;\n",
       "    }\n",
       "</style>\n",
       "<table border=\"1\" class=\"dataframe\">\n",
       "  <thead>\n",
       "    <tr style=\"text-align: right;\">\n",
       "      <th></th>\n",
       "      <th>Unnamed: 0</th>\n",
       "      <th>longitude</th>\n",
       "      <th>latitude</th>\n",
       "      <th>altitude</th>\n",
       "      <th>type_habitat</th>\n",
       "    </tr>\n",
       "  </thead>\n",
       "  <tbody>\n",
       "    <tr>\n",
       "      <th>0</th>\n",
       "      <td>4615</td>\n",
       "      <td>1.195212</td>\n",
       "      <td>-2.184525</td>\n",
       "      <td>19</td>\n",
       "      <td>2</td>\n",
       "    </tr>\n",
       "    <tr>\n",
       "      <th>1</th>\n",
       "      <td>3915</td>\n",
       "      <td>-1.352191</td>\n",
       "      <td>-2.180299</td>\n",
       "      <td>0</td>\n",
       "      <td>1</td>\n",
       "    </tr>\n",
       "    <tr>\n",
       "      <th>2</th>\n",
       "      <td>1213</td>\n",
       "      <td>1.142500</td>\n",
       "      <td>-2.162208</td>\n",
       "      <td>19</td>\n",
       "      <td>2</td>\n",
       "    </tr>\n",
       "    <tr>\n",
       "      <th>3</th>\n",
       "      <td>5574</td>\n",
       "      <td>-1.660502</td>\n",
       "      <td>-2.153251</td>\n",
       "      <td>0</td>\n",
       "      <td>1</td>\n",
       "    </tr>\n",
       "    <tr>\n",
       "      <th>4</th>\n",
       "      <td>584</td>\n",
       "      <td>-1.899432</td>\n",
       "      <td>-2.124258</td>\n",
       "      <td>0</td>\n",
       "      <td>1</td>\n",
       "    </tr>\n",
       "    <tr>\n",
       "      <th>...</th>\n",
       "      <td>...</td>\n",
       "      <td>...</td>\n",
       "      <td>...</td>\n",
       "      <td>...</td>\n",
       "      <td>...</td>\n",
       "    </tr>\n",
       "    <tr>\n",
       "      <th>5995</th>\n",
       "      <td>1449</td>\n",
       "      <td>0.965924</td>\n",
       "      <td>2.114656</td>\n",
       "      <td>10</td>\n",
       "      <td>2</td>\n",
       "    </tr>\n",
       "    <tr>\n",
       "      <th>5996</th>\n",
       "      <td>5414</td>\n",
       "      <td>-0.558706</td>\n",
       "      <td>2.115647</td>\n",
       "      <td>0</td>\n",
       "      <td>1</td>\n",
       "    </tr>\n",
       "    <tr>\n",
       "      <th>5997</th>\n",
       "      <td>3702</td>\n",
       "      <td>-0.705870</td>\n",
       "      <td>2.155908</td>\n",
       "      <td>0</td>\n",
       "      <td>1</td>\n",
       "    </tr>\n",
       "    <tr>\n",
       "      <th>5998</th>\n",
       "      <td>1681</td>\n",
       "      <td>-1.419859</td>\n",
       "      <td>2.202217</td>\n",
       "      <td>0</td>\n",
       "      <td>2</td>\n",
       "    </tr>\n",
       "    <tr>\n",
       "      <th>5999</th>\n",
       "      <td>268</td>\n",
       "      <td>-0.753470</td>\n",
       "      <td>2.208995</td>\n",
       "      <td>0</td>\n",
       "      <td>1</td>\n",
       "    </tr>\n",
       "  </tbody>\n",
       "</table>\n",
       "<p>6000 rows × 5 columns</p>\n",
       "</div>"
      ],
      "text/plain": [
       "      Unnamed: 0  longitude  latitude  altitude  type_habitat\n",
       "0           4615   1.195212 -2.184525        19             2\n",
       "1           3915  -1.352191 -2.180299         0             1\n",
       "2           1213   1.142500 -2.162208        19             2\n",
       "3           5574  -1.660502 -2.153251         0             1\n",
       "4            584  -1.899432 -2.124258         0             1\n",
       "...          ...        ...       ...       ...           ...\n",
       "5995        1449   0.965924  2.114656        10             2\n",
       "5996        5414  -0.558706  2.115647         0             1\n",
       "5997        3702  -0.705870  2.155908         0             1\n",
       "5998        1681  -1.419859  2.202217         0             2\n",
       "5999         268  -0.753470  2.208995         0             1\n",
       "\n",
       "[6000 rows x 5 columns]"
      ]
     },
     "execution_count": 186,
     "metadata": {},
     "output_type": "execute_result"
    }
   ],
   "source": [
    "df"
   ]
  },
  {
   "cell_type": "code",
   "execution_count": 187,
   "metadata": {},
   "outputs": [
    {
     "data": {
      "text/html": [
       "<div>\n",
       "<style scoped>\n",
       "    .dataframe tbody tr th:only-of-type {\n",
       "        vertical-align: middle;\n",
       "    }\n",
       "\n",
       "    .dataframe tbody tr th {\n",
       "        vertical-align: top;\n",
       "    }\n",
       "\n",
       "    .dataframe thead th {\n",
       "        text-align: right;\n",
       "    }\n",
       "</style>\n",
       "<table border=\"1\" class=\"dataframe\">\n",
       "  <thead>\n",
       "    <tr style=\"text-align: right;\">\n",
       "      <th></th>\n",
       "      <th>Unnamed: 0</th>\n",
       "      <th>longitude</th>\n",
       "      <th>latitude</th>\n",
       "      <th>altitude</th>\n",
       "      <th>type_habitat</th>\n",
       "    </tr>\n",
       "  </thead>\n",
       "  <tbody>\n",
       "    <tr>\n",
       "      <th>5252</th>\n",
       "      <td>0</td>\n",
       "      <td>1.453030</td>\n",
       "      <td>1.528280</td>\n",
       "      <td>12</td>\n",
       "      <td>1</td>\n",
       "    </tr>\n",
       "    <tr>\n",
       "      <th>2791</th>\n",
       "      <td>1</td>\n",
       "      <td>-0.599727</td>\n",
       "      <td>-0.148085</td>\n",
       "      <td>0</td>\n",
       "      <td>1</td>\n",
       "    </tr>\n",
       "    <tr>\n",
       "      <th>4550</th>\n",
       "      <td>2</td>\n",
       "      <td>-0.064971</td>\n",
       "      <td>1.022435</td>\n",
       "      <td>0</td>\n",
       "      <td>1</td>\n",
       "    </tr>\n",
       "    <tr>\n",
       "      <th>5268</th>\n",
       "      <td>3</td>\n",
       "      <td>-0.962616</td>\n",
       "      <td>1.539007</td>\n",
       "      <td>0</td>\n",
       "      <td>1</td>\n",
       "    </tr>\n",
       "    <tr>\n",
       "      <th>5889</th>\n",
       "      <td>4</td>\n",
       "      <td>1.520611</td>\n",
       "      <td>1.936212</td>\n",
       "      <td>23</td>\n",
       "      <td>1</td>\n",
       "    </tr>\n",
       "    <tr>\n",
       "      <th>...</th>\n",
       "      <td>...</td>\n",
       "      <td>...</td>\n",
       "      <td>...</td>\n",
       "      <td>...</td>\n",
       "      <td>...</td>\n",
       "    </tr>\n",
       "    <tr>\n",
       "      <th>5449</th>\n",
       "      <td>5995</td>\n",
       "      <td>1.273288</td>\n",
       "      <td>1.651343</td>\n",
       "      <td>28</td>\n",
       "      <td>1</td>\n",
       "    </tr>\n",
       "    <tr>\n",
       "      <th>4719</th>\n",
       "      <td>5996</td>\n",
       "      <td>-0.183237</td>\n",
       "      <td>1.141246</td>\n",
       "      <td>0</td>\n",
       "      <td>2</td>\n",
       "    </tr>\n",
       "    <tr>\n",
       "      <th>5313</th>\n",
       "      <td>5997</td>\n",
       "      <td>-2.082577</td>\n",
       "      <td>1.567263</td>\n",
       "      <td>0</td>\n",
       "      <td>2</td>\n",
       "    </tr>\n",
       "    <tr>\n",
       "      <th>2121</th>\n",
       "      <td>5998</td>\n",
       "      <td>1.243151</td>\n",
       "      <td>-0.581093</td>\n",
       "      <td>12</td>\n",
       "      <td>1</td>\n",
       "    </tr>\n",
       "    <tr>\n",
       "      <th>2193</th>\n",
       "      <td>5999</td>\n",
       "      <td>1.209513</td>\n",
       "      <td>-0.543405</td>\n",
       "      <td>12</td>\n",
       "      <td>1</td>\n",
       "    </tr>\n",
       "  </tbody>\n",
       "</table>\n",
       "<p>6000 rows × 5 columns</p>\n",
       "</div>"
      ],
      "text/plain": [
       "      Unnamed: 0  longitude  latitude  altitude  type_habitat\n",
       "5252           0   1.453030  1.528280        12             1\n",
       "2791           1  -0.599727 -0.148085         0             1\n",
       "4550           2  -0.064971  1.022435         0             1\n",
       "5268           3  -0.962616  1.539007         0             1\n",
       "5889           4   1.520611  1.936212        23             1\n",
       "...          ...        ...       ...       ...           ...\n",
       "5449        5995   1.273288  1.651343        28             1\n",
       "4719        5996  -0.183237  1.141246         0             2\n",
       "5313        5997  -2.082577  1.567263         0             2\n",
       "2121        5998   1.243151 -0.581093        12             1\n",
       "2193        5999   1.209513 -0.543405        12             1\n",
       "\n",
       "[6000 rows x 5 columns]"
      ]
     },
     "execution_count": 187,
     "metadata": {},
     "output_type": "execute_result"
    }
   ],
   "source": [
    "df.sort_values(\"Unnamed: 0\")"
   ]
  },
  {
   "cell_type": "code",
   "execution_count": 188,
   "metadata": {},
   "outputs": [],
   "source": [
    "df = df.drop(\"Unnamed: 0\",axis=1)"
   ]
  },
  {
   "cell_type": "code",
   "execution_count": 189,
   "metadata": {},
   "outputs": [
    {
     "data": {
      "text/html": [
       "<div>\n",
       "<style scoped>\n",
       "    .dataframe tbody tr th:only-of-type {\n",
       "        vertical-align: middle;\n",
       "    }\n",
       "\n",
       "    .dataframe tbody tr th {\n",
       "        vertical-align: top;\n",
       "    }\n",
       "\n",
       "    .dataframe thead th {\n",
       "        text-align: right;\n",
       "    }\n",
       "</style>\n",
       "<table border=\"1\" class=\"dataframe\">\n",
       "  <thead>\n",
       "    <tr style=\"text-align: right;\">\n",
       "      <th></th>\n",
       "      <th>longitude</th>\n",
       "      <th>latitude</th>\n",
       "      <th>altitude</th>\n",
       "      <th>type_habitat</th>\n",
       "    </tr>\n",
       "  </thead>\n",
       "  <tbody>\n",
       "    <tr>\n",
       "      <th>count</th>\n",
       "      <td>6000.000000</td>\n",
       "      <td>6000.000000</td>\n",
       "      <td>6000.000000</td>\n",
       "      <td>6000.000000</td>\n",
       "    </tr>\n",
       "    <tr>\n",
       "      <th>mean</th>\n",
       "      <td>0.000543</td>\n",
       "      <td>0.000784</td>\n",
       "      <td>7.226333</td>\n",
       "      <td>1.375000</td>\n",
       "    </tr>\n",
       "    <tr>\n",
       "      <th>std</th>\n",
       "      <td>1.156446</td>\n",
       "      <td>1.155857</td>\n",
       "      <td>10.129719</td>\n",
       "      <td>0.484163</td>\n",
       "    </tr>\n",
       "    <tr>\n",
       "      <th>min</th>\n",
       "      <td>-2.193142</td>\n",
       "      <td>-2.184525</td>\n",
       "      <td>0.000000</td>\n",
       "      <td>1.000000</td>\n",
       "    </tr>\n",
       "    <tr>\n",
       "      <th>25%</th>\n",
       "      <td>-0.998105</td>\n",
       "      <td>-0.998683</td>\n",
       "      <td>0.000000</td>\n",
       "      <td>1.000000</td>\n",
       "    </tr>\n",
       "    <tr>\n",
       "      <th>50%</th>\n",
       "      <td>-0.005440</td>\n",
       "      <td>0.001945</td>\n",
       "      <td>0.000000</td>\n",
       "      <td>1.000000</td>\n",
       "    </tr>\n",
       "    <tr>\n",
       "      <th>75%</th>\n",
       "      <td>0.991935</td>\n",
       "      <td>0.991139</td>\n",
       "      <td>16.000000</td>\n",
       "      <td>2.000000</td>\n",
       "    </tr>\n",
       "    <tr>\n",
       "      <th>max</th>\n",
       "      <td>2.252093</td>\n",
       "      <td>2.208995</td>\n",
       "      <td>30.000000</td>\n",
       "      <td>2.000000</td>\n",
       "    </tr>\n",
       "  </tbody>\n",
       "</table>\n",
       "</div>"
      ],
      "text/plain": [
       "         longitude     latitude     altitude  type_habitat\n",
       "count  6000.000000  6000.000000  6000.000000   6000.000000\n",
       "mean      0.000543     0.000784     7.226333      1.375000\n",
       "std       1.156446     1.155857    10.129719      0.484163\n",
       "min      -2.193142    -2.184525     0.000000      1.000000\n",
       "25%      -0.998105    -0.998683     0.000000      1.000000\n",
       "50%      -0.005440     0.001945     0.000000      1.000000\n",
       "75%       0.991935     0.991139    16.000000      2.000000\n",
       "max       2.252093     2.208995    30.000000      2.000000"
      ]
     },
     "execution_count": 189,
     "metadata": {},
     "output_type": "execute_result"
    }
   ],
   "source": [
    "df.describe()"
   ]
  },
  {
   "cell_type": "code",
   "execution_count": 190,
   "metadata": {},
   "outputs": [
    {
     "data": {
      "text/plain": [
       "longitude       float64\n",
       "latitude        float64\n",
       "altitude          int64\n",
       "type_habitat      int64\n",
       "dtype: object"
      ]
     },
     "execution_count": 190,
     "metadata": {},
     "output_type": "execute_result"
    }
   ],
   "source": [
    "df.dtypes"
   ]
  },
  {
   "cell_type": "code",
   "execution_count": 191,
   "metadata": {},
   "outputs": [
    {
     "data": {
      "text/plain": [
       "longitude          0\n",
       "latitude           0\n",
       "altitude        3737\n",
       "type_habitat       0\n",
       "dtype: int64"
      ]
     },
     "execution_count": 191,
     "metadata": {},
     "output_type": "execute_result"
    }
   ],
   "source": [
    "df[df==0].count()"
   ]
  },
  {
   "cell_type": "code",
   "execution_count": 196,
   "metadata": {},
   "outputs": [
    {
     "data": {
      "text/plain": [
       "<AxesSubplot:>"
      ]
     },
     "execution_count": 196,
     "metadata": {},
     "output_type": "execute_result"
    },
    {
     "data": {
      "image/png": "[encoded data removed]",
      "text/plain": [
       "<Figure size 432x288 with 1 Axes>"
      ]
     },
     "metadata": {
      "needs_background": "light"
     },
     "output_type": "display_data"
    }
   ],
   "source": [
    "df.type_habitat.value_counts().plot(kind=\"bar\")"
   ]
  },
  {
   "cell_type": "code",
   "execution_count": 198,
   "metadata": {},
   "outputs": [
    {
     "data": {
      "text/plain": [
       "1    3750\n",
       "2    2250\n",
       "Name: type_habitat, dtype: int64"
      ]
     },
     "execution_count": 198,
     "metadata": {},
     "output_type": "execute_result"
    }
   ],
   "source": [
    "df.type_habitat.value_counts()"
   ]
  },
  {
   "cell_type": "code",
   "execution_count": 199,
   "metadata": {},
   "outputs": [],
   "source": [
    "downsampling = df[df.type_habitat==1][:2250]\n",
    "data = pd.concat([downsampling,df[df.type_habitat==2]])"
   ]
  },
  {
   "cell_type": "code",
   "execution_count": 200,
   "metadata": {},
   "outputs": [
    {
     "data": {
      "text/plain": [
       "<AxesSubplot:>"
      ]
     },
     "execution_count": 200,
     "metadata": {},
     "output_type": "execute_result"
    },
    {
     "data": {
      "image/png": "[encoded data removed]",
      "text/plain": [
       "<Figure size 432x288 with 1 Axes>"
      ]
     },
     "metadata": {
      "needs_background": "light"
     },
     "output_type": "display_data"
    }
   ],
   "source": [
    "data.type_habitat.value_counts().plot(kind=\"bar\")"
   ]
  },
  {
   "cell_type": "code",
   "execution_count": 201,
   "metadata": {},
   "outputs": [],
   "source": [
    "data.type_habitat = data.type_habitat - 1"
   ]
  },
  {
   "cell_type": "code",
   "execution_count": 194,
   "metadata": {},
   "outputs": [],
   "source": [
    "models = {\n",
    "    'Random Forest':RandomForestClassifier(),\n",
    "    'Adaboost':AdaBoostClassifier()\n",
    "}"
   ]
  },
  {
   "cell_type": "code",
   "execution_count": 202,
   "metadata": {},
   "outputs": [],
   "source": [
    "X_train, X_test, y_train, y_test = train_test_split(data.iloc[:,data.columns!='type_habitat'], \n",
    "                                                    data['type_habitat'], test_size=0.2, \n",
    "                                                    random_state=42)"
   ]
  },
  {
   "cell_type": "code",
   "execution_count": 203,
   "metadata": {},
   "outputs": [
    {
     "name": "stdout",
     "output_type": "stream",
     "text": [
      "******************************\n",
      "Taux d'erreur cross validation sur le train set:\n",
      "Random Forest : 0.044\n",
      "Adaboost : 0.172\n",
      "******************************\n",
      "Taux d'erreur sur le test set:\n",
      "Random Forest : 0.058\n",
      "Adaboost : 0.212\n"
     ]
    }
   ],
   "source": [
    "scores_cv = []\n",
    "\n",
    "for model in models:\n",
    "    scores_cv.append(cross_val_score(models[model], X_train, y_train, cv=5,).mean())\n",
    "    \n",
    "print(\"***\"*10)    \n",
    "print(\"Taux d'erreur cross validation sur le train set:\")\n",
    "for i,model in enumerate(models):\n",
    "    print(f\"{model} : {round(1 - scores_cv[i],3)}\")\n",
    "    \n",
    "print(\"***\"*10)   \n",
    "print(\"Taux d'erreur sur le test set:\")\n",
    "for model in models:\n",
    "    model_fit = models[model].fit(X_train,y_train)\n",
    "    y_pred = model_fit.predict(X_test)\n",
    "    print(f\"{model} : {round(1 - accuracy_score(y_test, y_pred),3)}\")"
   ]
  },
  {
   "cell_type": "markdown",
   "metadata": {},
   "source": [
    "### b.\tEssayer d’améliorer ces modèles en optimisant leurs paramètres."
   ]
  },
  {
   "cell_type": "code",
   "execution_count": 207,
   "metadata": {},
   "outputs": [],
   "source": [
    "params_rf = {'n_estimators':[40,50,60,100],\n",
    "            'criterion': ['gini', 'entropy'],\n",
    "             'max_depth':[2,5,None],\n",
    "             'min_weight_fraction_leaf':[0.,0.3,0.5],\n",
    "             'max_features': ['auto', 'sqrt', 'log2']\n",
    "            }\n",
    "rf_grid = GridSearchCV(RandomForestClassifier(), params_rf)\n",
    "rf_fit = rf_grid.fit(X_train, y_train)"
   ]
  },
  {
   "cell_type": "code",
   "execution_count": 208,
   "metadata": {},
   "outputs": [],
   "source": [
    "rf_cv = cross_val_score(rf_fit.best_estimator_,X_train,y_train)"
   ]
  },
  {
   "cell_type": "code",
   "execution_count": 209,
   "metadata": {},
   "outputs": [
    {
     "data": {
      "text/plain": [
       "0.9561111111111111"
      ]
     },
     "execution_count": 209,
     "metadata": {},
     "output_type": "execute_result"
    }
   ],
   "source": [
    "rf_cv.mean()"
   ]
  },
  {
   "cell_type": "code",
   "execution_count": 211,
   "metadata": {},
   "outputs": [],
   "source": [
    "params_ada = {'n_estimators':[40,50,60,80,100],\n",
    "             'learning_rate': [0.1,0.3,0.5,0.8,0.9,1.],\n",
    "            'algorithm': ['SAMME', 'SAMME.R']\n",
    "            }\n",
    "ada_grid = GridSearchCV(AdaBoostClassifier(), params_ada)\n",
    "ada_fit = ada_grid.fit(X_train, y_train)"
   ]
  },
  {
   "cell_type": "code",
   "execution_count": 212,
   "metadata": {},
   "outputs": [],
   "source": [
    "ada_cv = cross_val_score(ada_fit.best_estimator_,X_train,y_train)"
   ]
  },
  {
   "cell_type": "code",
   "execution_count": 213,
   "metadata": {},
   "outputs": [
    {
     "data": {
      "text/plain": [
       "0.8308333333333333"
      ]
     },
     "execution_count": 213,
     "metadata": {},
     "output_type": "execute_result"
    }
   ],
   "source": [
    "ada_cv.mean()"
   ]
  },
  {
   "cell_type": "code",
   "execution_count": 214,
   "metadata": {},
   "outputs": [
    {
     "data": {
      "image/png": "[encoded data removed]",
      "text/plain": [
       "<Figure size 432x288 with 2 Axes>"
      ]
     },
     "metadata": {
      "needs_background": "light"
     },
     "output_type": "display_data"
    }
   ],
   "source": [
    "rf_best = rf_fit.best_estimator_.fit(X_train,y_train)\n",
    "y_pred_rf = rf_best.predict(X_test)\n",
    "rf_cf = confusion_matrix(y_test, y_pred_rf)\n",
    "fig = plt.plot(figsize=(22,12))\n",
    "sns.heatmap(rf_cf, annot=True, cmap=plt.cm.copper)\n",
    "plt.title(\"Random Forest \\n Confusion Matrix\", fontsize=14)\n",
    "\n",
    "plt.show()"
   ]
  },
  {
   "cell_type": "code",
   "execution_count": 215,
   "metadata": {},
   "outputs": [
    {
     "data": {
      "image/png": "[encoded data removed]",
      "text/plain": [
       "<Figure size 432x288 with 2 Axes>"
      ]
     },
     "metadata": {
      "needs_background": "light"
     },
     "output_type": "display_data"
    }
   ],
   "source": [
    "ada_best = ada_fit.best_estimator_.fit(X_train,y_train)\n",
    "y_pred_ada = ada_best.predict(X_test)\n",
    "ada_cf = confusion_matrix(y_test, y_pred_ada)\n",
    "fig = plt.plot(figsize=(22,12))\n",
    "sns.heatmap(ada_cf, annot=True, cmap=plt.cm.copper)\n",
    "plt.title(\"AdaBoost \\n Confusion Matrix\", fontsize=14)\n",
    "\n",
    "plt.show()"
   ]
  },
  {
   "cell_type": "markdown",
   "metadata": {},
   "source": [
    "### c.\tCe qui nous intéresse c’est de ne jamais nous tromper quand on prédit qu’un immeuble est haut. Quel est le meilleur modèle ?"
   ]
  },
  {
   "cell_type": "code",
   "execution_count": 217,
   "metadata": {},
   "outputs": [
    {
     "name": "stdout",
     "output_type": "stream",
     "text": [
      "Recall:\n",
      "Random Forst recall: 0.941\n",
      "AdaBoost recall: 0.795\n"
     ]
    }
   ],
   "source": [
    "print(\"Recall:\")\n",
    "print(f\"Random Forst recall: {round(recall_score(y_test, y_pred_rf),3)}\") \n",
    "print(f\"AdaBoost recall: {round(recall_score(y_test, y_pred_ada),3)}\")    "
   ]
  },
  {
   "cell_type": "markdown",
   "metadata": {},
   "source": [
    "<b> Random Forst est le meilleur pour minimiser l'erreur pour prédir si un immeuble est haut"
   ]
  },
  {
   "cell_type": "markdown",
   "metadata": {},
   "source": [
    "##  <u>3ème partie :</u> Visualisation de données"
   ]
  },
  {
   "cell_type": "markdown",
   "metadata": {},
   "source": [
    "L’objectif de cet exercice est de Proposer une synthèse descriptive des données pour le fichier resultats-provisoires-par-canton.txt et resultats-provisoires-par-canton-light.txt (même répertoire)"
   ]
  },
  {
   "cell_type": "markdown",
   "metadata": {},
   "source": [
    "### a.\tExclure de la visualisation les données 'Code du département','Libellé du département','Code du canton','Libellé du canton' et tout celles qui commencent par 'N°Liste','Libellé Abrégé Liste' ,'Libellé Etendu Liste' ,'Nom Tête de Liste' ."
   ]
  },
  {
   "cell_type": "markdown",
   "metadata": {},
   "source": [
    "On pourra renommer les colonnes avec la fonction"
   ]
  },
  {
   "cell_type": "code",
   "execution_count": 2,
   "metadata": {
    "collapsed": true
   },
   "outputs": [],
   "source": [
    "import re\n",
    "import unicodedata\n",
    "def nettoie_text(text):\n",
    "    if (str(text)!='nan'):\n",
    "        text = text.strip()\n",
    "    else :\n",
    "        text = ''\n",
    "    text = text.lower()\n",
    "    text = text.replace(')', ' ')\n",
    "    text = text.replace('(', ' ')\n",
    "    text = text.replace(',', ' ')\n",
    "    text = text.replace('\\’', ' ')\n",
    "    text = text.replace('\\'', ' ')\n",
    "    text = text.replace(';', ' ')\n",
    "    text = text.replace('\\n', ' ')\n",
    "    text = text.replace('\\t', ' ')\n",
    "    text = text.replace('-', ' ')\n",
    "    text = text.replace('  ', ' ')\n",
    "    text = unicodedata.normalize('NFD', text).encode('ascii', 'ignore') \n",
    "    text = text.decode('utf-8')\n",
    "    text = re.sub('[^A-Z\\' a-z 0-9]+', ' ', text)\n",
    "    text = text.strip()\n",
    "    return text\n"
   ]
  },
  {
   "cell_type": "code",
   "execution_count": 268,
   "metadata": {},
   "outputs": [
    {
     "name": "stderr",
     "output_type": "stream",
     "text": [
      "/srv/conda/envs/notebook/lib/python3.7/site-packages/IPython/core/interactiveshell.py:3156: DtypeWarning: Columns (37) have mixed types.Specify dtype option on import or set low_memory=False.\n",
      "  interactivity=interactivity, compiler=compiler, result=result)\n"
     ]
    }
   ],
   "source": [
    "df = pd.read_csv('data/resultats-provisoires-par-canton.txt', delimiter = \"\\t\")"
   ]
  },
  {
   "cell_type": "code",
   "execution_count": 269,
   "metadata": {},
   "outputs": [
    {
     "data": {
      "text/html": [
       "<div>\n",
       "<style scoped>\n",
       "    .dataframe tbody tr th:only-of-type {\n",
       "        vertical-align: middle;\n",
       "    }\n",
       "\n",
       "    .dataframe tbody tr th {\n",
       "        vertical-align: top;\n",
       "    }\n",
       "\n",
       "    .dataframe thead th {\n",
       "        text-align: right;\n",
       "    }\n",
       "</style>\n",
       "<table border=\"1\" class=\"dataframe\">\n",
       "  <thead>\n",
       "    <tr style=\"text-align: right;\">\n",
       "      <th></th>\n",
       "      <th>Code du département</th>\n",
       "      <th>Libellé du département</th>\n",
       "      <th>Code du canton</th>\n",
       "      <th>Libellé du canton</th>\n",
       "      <th>Inscrits</th>\n",
       "      <th>Abstentions</th>\n",
       "      <th>% Abs/Ins</th>\n",
       "      <th>Votants</th>\n",
       "      <th>% Vot/Ins</th>\n",
       "      <th>Blancs</th>\n",
       "      <th>...</th>\n",
       "      <th>Voix 33</th>\n",
       "      <th>% Voix/Ins 33</th>\n",
       "      <th>% Voix/Exp 33</th>\n",
       "      <th>N°Liste 34</th>\n",
       "      <th>Libellé Abrégé Liste 34</th>\n",
       "      <th>Libellé Etendu Liste 34</th>\n",
       "      <th>Nom Tête de Liste 34</th>\n",
       "      <th>Voix 34</th>\n",
       "      <th>% Voix/Ins 34</th>\n",
       "      <th>% Voix/Exp 34</th>\n",
       "    </tr>\n",
       "  </thead>\n",
       "  <tbody>\n",
       "    <tr>\n",
       "      <th>0</th>\n",
       "      <td>1</td>\n",
       "      <td>Ain</td>\n",
       "      <td>1</td>\n",
       "      <td>Ambérieu-en-Bugey</td>\n",
       "      <td>19318</td>\n",
       "      <td>9136</td>\n",
       "      <td>47,29</td>\n",
       "      <td>10182</td>\n",
       "      <td>52,71</td>\n",
       "      <td>253</td>\n",
       "      <td>...</td>\n",
       "      <td>0</td>\n",
       "      <td>0</td>\n",
       "      <td>0</td>\n",
       "      <td>34</td>\n",
       "      <td>EUROPE AU SERVICE PEUPLES</td>\n",
       "      <td>UNE EUROPE AU SERVICE DES PEUPLES</td>\n",
       "      <td>AZERGUI Nagib</td>\n",
       "      <td>61</td>\n",
       "      <td>0,32</td>\n",
       "      <td>0,63</td>\n",
       "    </tr>\n",
       "    <tr>\n",
       "      <th>1</th>\n",
       "      <td>1</td>\n",
       "      <td>Ain</td>\n",
       "      <td>2</td>\n",
       "      <td>Attignat</td>\n",
       "      <td>17843</td>\n",
       "      <td>8967</td>\n",
       "      <td>50,26</td>\n",
       "      <td>8876</td>\n",
       "      <td>49,74</td>\n",
       "      <td>278</td>\n",
       "      <td>...</td>\n",
       "      <td>0</td>\n",
       "      <td>0</td>\n",
       "      <td>0</td>\n",
       "      <td>34</td>\n",
       "      <td>EUROPE AU SERVICE PEUPLES</td>\n",
       "      <td>UNE EUROPE AU SERVICE DES PEUPLES</td>\n",
       "      <td>AZERGUI Nagib</td>\n",
       "      <td>0</td>\n",
       "      <td>0</td>\n",
       "      <td>0</td>\n",
       "    </tr>\n",
       "    <tr>\n",
       "      <th>2</th>\n",
       "      <td>1</td>\n",
       "      <td>Ain</td>\n",
       "      <td>3</td>\n",
       "      <td>Bellegarde-sur-Valserine</td>\n",
       "      <td>12675</td>\n",
       "      <td>6973</td>\n",
       "      <td>55,01</td>\n",
       "      <td>5702</td>\n",
       "      <td>44,99</td>\n",
       "      <td>141</td>\n",
       "      <td>...</td>\n",
       "      <td>0</td>\n",
       "      <td>0</td>\n",
       "      <td>0</td>\n",
       "      <td>34</td>\n",
       "      <td>EUROPE AU SERVICE PEUPLES</td>\n",
       "      <td>UNE EUROPE AU SERVICE DES PEUPLES</td>\n",
       "      <td>AZERGUI Nagib</td>\n",
       "      <td>5</td>\n",
       "      <td>0,04</td>\n",
       "      <td>0,09</td>\n",
       "    </tr>\n",
       "    <tr>\n",
       "      <th>3</th>\n",
       "      <td>1</td>\n",
       "      <td>Ain</td>\n",
       "      <td>4</td>\n",
       "      <td>Belley</td>\n",
       "      <td>17728</td>\n",
       "      <td>8169</td>\n",
       "      <td>46,08</td>\n",
       "      <td>9559</td>\n",
       "      <td>53,92</td>\n",
       "      <td>218</td>\n",
       "      <td>...</td>\n",
       "      <td>0</td>\n",
       "      <td>0</td>\n",
       "      <td>0</td>\n",
       "      <td>34</td>\n",
       "      <td>EUROPE AU SERVICE PEUPLES</td>\n",
       "      <td>UNE EUROPE AU SERVICE DES PEUPLES</td>\n",
       "      <td>AZERGUI Nagib</td>\n",
       "      <td>0</td>\n",
       "      <td>0</td>\n",
       "      <td>0</td>\n",
       "    </tr>\n",
       "    <tr>\n",
       "      <th>4</th>\n",
       "      <td>1</td>\n",
       "      <td>Ain</td>\n",
       "      <td>5</td>\n",
       "      <td>Bourg-en-Bresse-1</td>\n",
       "      <td>19562</td>\n",
       "      <td>10335</td>\n",
       "      <td>52,83</td>\n",
       "      <td>9227</td>\n",
       "      <td>47,17</td>\n",
       "      <td>163</td>\n",
       "      <td>...</td>\n",
       "      <td>0</td>\n",
       "      <td>0</td>\n",
       "      <td>0</td>\n",
       "      <td>34</td>\n",
       "      <td>EUROPE AU SERVICE PEUPLES</td>\n",
       "      <td>UNE EUROPE AU SERVICE DES PEUPLES</td>\n",
       "      <td>AZERGUI Nagib</td>\n",
       "      <td>9</td>\n",
       "      <td>0,05</td>\n",
       "      <td>0,1</td>\n",
       "    </tr>\n",
       "    <tr>\n",
       "      <th>...</th>\n",
       "      <td>...</td>\n",
       "      <td>...</td>\n",
       "      <td>...</td>\n",
       "      <td>...</td>\n",
       "      <td>...</td>\n",
       "      <td>...</td>\n",
       "      <td>...</td>\n",
       "      <td>...</td>\n",
       "      <td>...</td>\n",
       "      <td>...</td>\n",
       "      <td>...</td>\n",
       "      <td>...</td>\n",
       "      <td>...</td>\n",
       "      <td>...</td>\n",
       "      <td>...</td>\n",
       "      <td>...</td>\n",
       "      <td>...</td>\n",
       "      <td>...</td>\n",
       "      <td>...</td>\n",
       "      <td>...</td>\n",
       "      <td>...</td>\n",
       "    </tr>\n",
       "    <tr>\n",
       "      <th>2085</th>\n",
       "      <td>ZP</td>\n",
       "      <td>Polynésie française</td>\n",
       "      <td>6</td>\n",
       "      <td>AUSTRALES (fictif)</td>\n",
       "      <td>5766</td>\n",
       "      <td>3501</td>\n",
       "      <td>60,72</td>\n",
       "      <td>2265</td>\n",
       "      <td>39,28</td>\n",
       "      <td>28</td>\n",
       "      <td>...</td>\n",
       "      <td>0</td>\n",
       "      <td>0</td>\n",
       "      <td>0</td>\n",
       "      <td>34</td>\n",
       "      <td>EUROPE AU SERVICE PEUPLES</td>\n",
       "      <td>UNE EUROPE AU SERVICE DES PEUPLES</td>\n",
       "      <td>AZERGUI Nagib</td>\n",
       "      <td>0</td>\n",
       "      <td>0</td>\n",
       "      <td>0</td>\n",
       "    </tr>\n",
       "    <tr>\n",
       "      <th>2086</th>\n",
       "      <td>ZS</td>\n",
       "      <td>Saint-Pierre-et-Miquelon</td>\n",
       "      <td>1</td>\n",
       "      <td>Canton fictif</td>\n",
       "      <td>4958</td>\n",
       "      <td>3530</td>\n",
       "      <td>71,2</td>\n",
       "      <td>1428</td>\n",
       "      <td>28,8</td>\n",
       "      <td>60</td>\n",
       "      <td>...</td>\n",
       "      <td>1</td>\n",
       "      <td>0,02</td>\n",
       "      <td>0,08</td>\n",
       "      <td>34</td>\n",
       "      <td>EUROPE AU SERVICE PEUPLES</td>\n",
       "      <td>UNE EUROPE AU SERVICE DES PEUPLES</td>\n",
       "      <td>AZERGUI Nagib</td>\n",
       "      <td>0</td>\n",
       "      <td>0</td>\n",
       "      <td>0</td>\n",
       "    </tr>\n",
       "    <tr>\n",
       "      <th>2087</th>\n",
       "      <td>ZW</td>\n",
       "      <td>Wallis et Futuna</td>\n",
       "      <td>1</td>\n",
       "      <td>1er CANTON</td>\n",
       "      <td>8762</td>\n",
       "      <td>5728</td>\n",
       "      <td>65,37</td>\n",
       "      <td>3034</td>\n",
       "      <td>34,63</td>\n",
       "      <td>39</td>\n",
       "      <td>...</td>\n",
       "      <td>0</td>\n",
       "      <td>0</td>\n",
       "      <td>0</td>\n",
       "      <td>34</td>\n",
       "      <td>EUROPE AU SERVICE PEUPLES</td>\n",
       "      <td>UNE EUROPE AU SERVICE DES PEUPLES</td>\n",
       "      <td>AZERGUI Nagib</td>\n",
       "      <td>0</td>\n",
       "      <td>0</td>\n",
       "      <td>0</td>\n",
       "    </tr>\n",
       "    <tr>\n",
       "      <th>2088</th>\n",
       "      <td>ZX</td>\n",
       "      <td>Saint-Martin/Saint-Barthélemy</td>\n",
       "      <td>1</td>\n",
       "      <td>1er Canton</td>\n",
       "      <td>23327</td>\n",
       "      <td>19913</td>\n",
       "      <td>85,36</td>\n",
       "      <td>3414</td>\n",
       "      <td>14,64</td>\n",
       "      <td>141</td>\n",
       "      <td>...</td>\n",
       "      <td>0</td>\n",
       "      <td>0</td>\n",
       "      <td>0</td>\n",
       "      <td>34</td>\n",
       "      <td>EUROPE AU SERVICE PEUPLES</td>\n",
       "      <td>UNE EUROPE AU SERVICE DES PEUPLES</td>\n",
       "      <td>AZERGUI Nagib</td>\n",
       "      <td>1</td>\n",
       "      <td>0</td>\n",
       "      <td>0,03</td>\n",
       "    </tr>\n",
       "    <tr>\n",
       "      <th>2089</th>\n",
       "      <td>ZZ</td>\n",
       "      <td>Français établis hors de France</td>\n",
       "      <td>1</td>\n",
       "      <td>Canton fictif</td>\n",
       "      <td>1247127</td>\n",
       "      <td>1018198</td>\n",
       "      <td>81,64</td>\n",
       "      <td>228929</td>\n",
       "      <td>18,36</td>\n",
       "      <td>1114</td>\n",
       "      <td>...</td>\n",
       "      <td>8</td>\n",
       "      <td>0</td>\n",
       "      <td>0</td>\n",
       "      <td>34</td>\n",
       "      <td>EUROPE AU SERVICE PEUPLES</td>\n",
       "      <td>UNE EUROPE AU SERVICE DES PEUPLES</td>\n",
       "      <td>AZERGUI Nagib</td>\n",
       "      <td>50</td>\n",
       "      <td>0</td>\n",
       "      <td>0,02</td>\n",
       "    </tr>\n",
       "  </tbody>\n",
       "</table>\n",
       "<p>2090 rows × 256 columns</p>\n",
       "</div>"
      ],
      "text/plain": [
       "     Code du département           Libellé du département  Code du canton  \\\n",
       "0                      1                              Ain               1   \n",
       "1                      1                              Ain               2   \n",
       "2                      1                              Ain               3   \n",
       "3                      1                              Ain               4   \n",
       "4                      1                              Ain               5   \n",
       "...                  ...                              ...             ...   \n",
       "2085                  ZP              Polynésie française               6   \n",
       "2086                  ZS         Saint-Pierre-et-Miquelon               1   \n",
       "2087                  ZW                 Wallis et Futuna               1   \n",
       "2088                  ZX    Saint-Martin/Saint-Barthélemy               1   \n",
       "2089                  ZZ  Français établis hors de France               1   \n",
       "\n",
       "             Libellé du canton  Inscrits  Abstentions % Abs/Ins  Votants  \\\n",
       "0            Ambérieu-en-Bugey     19318         9136     47,29    10182   \n",
       "1                     Attignat     17843         8967     50,26     8876   \n",
       "2     Bellegarde-sur-Valserine     12675         6973     55,01     5702   \n",
       "3                       Belley     17728         8169     46,08     9559   \n",
       "4            Bourg-en-Bresse-1     19562        10335     52,83     9227   \n",
       "...                        ...       ...          ...       ...      ...   \n",
       "2085        AUSTRALES (fictif)      5766         3501     60,72     2265   \n",
       "2086             Canton fictif      4958         3530      71,2     1428   \n",
       "2087                1er CANTON      8762         5728     65,37     3034   \n",
       "2088                1er Canton     23327        19913     85,36     3414   \n",
       "2089             Canton fictif   1247127      1018198     81,64   228929   \n",
       "\n",
       "     % Vot/Ins  Blancs  ... Voix 33 % Voix/Ins 33  % Voix/Exp 33 N°Liste 34  \\\n",
       "0        52,71     253  ...       0             0              0         34   \n",
       "1        49,74     278  ...       0             0              0         34   \n",
       "2        44,99     141  ...       0             0              0         34   \n",
       "3        53,92     218  ...       0             0              0         34   \n",
       "4        47,17     163  ...       0             0              0         34   \n",
       "...        ...     ...  ...     ...           ...            ...        ...   \n",
       "2085     39,28      28  ...       0             0              0         34   \n",
       "2086      28,8      60  ...       1          0,02           0,08         34   \n",
       "2087     34,63      39  ...       0             0              0         34   \n",
       "2088     14,64     141  ...       0             0              0         34   \n",
       "2089     18,36    1114  ...       8             0              0         34   \n",
       "\n",
       "        Libellé Abrégé Liste 34            Libellé Etendu Liste 34  \\\n",
       "0     EUROPE AU SERVICE PEUPLES  UNE EUROPE AU SERVICE DES PEUPLES   \n",
       "1     EUROPE AU SERVICE PEUPLES  UNE EUROPE AU SERVICE DES PEUPLES   \n",
       "2     EUROPE AU SERVICE PEUPLES  UNE EUROPE AU SERVICE DES PEUPLES   \n",
       "3     EUROPE AU SERVICE PEUPLES  UNE EUROPE AU SERVICE DES PEUPLES   \n",
       "4     EUROPE AU SERVICE PEUPLES  UNE EUROPE AU SERVICE DES PEUPLES   \n",
       "...                         ...                                ...   \n",
       "2085  EUROPE AU SERVICE PEUPLES  UNE EUROPE AU SERVICE DES PEUPLES   \n",
       "2086  EUROPE AU SERVICE PEUPLES  UNE EUROPE AU SERVICE DES PEUPLES   \n",
       "2087  EUROPE AU SERVICE PEUPLES  UNE EUROPE AU SERVICE DES PEUPLES   \n",
       "2088  EUROPE AU SERVICE PEUPLES  UNE EUROPE AU SERVICE DES PEUPLES   \n",
       "2089  EUROPE AU SERVICE PEUPLES  UNE EUROPE AU SERVICE DES PEUPLES   \n",
       "\n",
       "     Nom Tête de Liste 34 Voix 34  % Voix/Ins 34 % Voix/Exp 34  \n",
       "0           AZERGUI Nagib      61           0,32          0,63  \n",
       "1           AZERGUI Nagib       0              0             0  \n",
       "2           AZERGUI Nagib       5           0,04          0,09  \n",
       "3           AZERGUI Nagib       0              0             0  \n",
       "4           AZERGUI Nagib       9           0,05           0,1  \n",
       "...                   ...     ...            ...           ...  \n",
       "2085        AZERGUI Nagib       0              0             0  \n",
       "2086        AZERGUI Nagib       0              0             0  \n",
       "2087        AZERGUI Nagib       0              0             0  \n",
       "2088        AZERGUI Nagib       1              0          0,03  \n",
       "2089        AZERGUI Nagib      50              0          0,02  \n",
       "\n",
       "[2090 rows x 256 columns]"
      ]
     },
     "execution_count": 269,
     "metadata": {},
     "output_type": "execute_result"
    }
   ],
   "source": [
    "df"
   ]
  },
  {
   "cell_type": "code",
   "execution_count": 270,
   "metadata": {},
   "outputs": [],
   "source": [
    "to_drop = []\n",
    "l = ['Code du département','Libellé du département','Code du canton','Libellé du canton']\n",
    "for col in l:\n",
    "    if col in df.columns:\n",
    "        to_drop.append(col)  "
   ]
  },
  {
   "cell_type": "code",
   "execution_count": 271,
   "metadata": {},
   "outputs": [],
   "source": [
    "starts = ['N°Liste','Libellé Abrégé Liste' ,'Libellé Etendu Liste' ,'Nom Tête de Liste' ]\n",
    "for col in df.columns:\n",
    "    for start in starts:\n",
    "        if col.startswith(start):\n",
    "            to_drop.append(col)"
   ]
  },
  {
   "cell_type": "code",
   "execution_count": 272,
   "metadata": {
    "scrolled": true
   },
   "outputs": [
    {
     "data": {
      "text/plain": [
       "['Code du département',\n",
       " 'Libellé du département',\n",
       " 'Code du canton',\n",
       " 'Libellé du canton',\n",
       " 'N°Liste 1',\n",
       " 'Libellé Abrégé Liste 1',\n",
       " 'Libellé Etendu Liste 1',\n",
       " 'Nom Tête de Liste 1',\n",
       " 'N°Liste 2',\n",
       " 'Libellé Abrégé Liste 2',\n",
       " 'Libellé Etendu Liste 2',\n",
       " 'Nom Tête de Liste 2',\n",
       " 'N°Liste 3',\n",
       " 'Libellé Abrégé Liste 3',\n",
       " 'Libellé Etendu Liste 3',\n",
       " 'Nom Tête de Liste 3',\n",
       " 'N°Liste 4',\n",
       " 'Libellé Abrégé Liste 4',\n",
       " 'Libellé Etendu Liste 4',\n",
       " 'Nom Tête de Liste 4',\n",
       " 'N°Liste 5',\n",
       " 'Libellé Abrégé Liste 5',\n",
       " 'Libellé Etendu Liste 5',\n",
       " 'Nom Tête de Liste 5',\n",
       " 'N°Liste 6',\n",
       " 'Libellé Abrégé Liste 6',\n",
       " 'Libellé Etendu Liste 6',\n",
       " 'Nom Tête de Liste 6',\n",
       " 'N°Liste 7',\n",
       " 'Libellé Abrégé Liste 7',\n",
       " 'Libellé Etendu Liste 7',\n",
       " 'Nom Tête de Liste 7',\n",
       " 'N°Liste 8',\n",
       " 'Libellé Abrégé Liste 8',\n",
       " 'Libellé Etendu Liste 8',\n",
       " 'Nom Tête de Liste 8',\n",
       " 'N°Liste 9',\n",
       " 'Libellé Abrégé Liste 9',\n",
       " 'Libellé Etendu Liste 9',\n",
       " 'Nom Tête de Liste 9',\n",
       " 'N°Liste 10',\n",
       " 'Libellé Abrégé Liste 10',\n",
       " 'Libellé Etendu Liste 10',\n",
       " 'Nom Tête de Liste 10',\n",
       " 'N°Liste 11',\n",
       " 'Libellé Abrégé Liste 11',\n",
       " 'Libellé Etendu Liste 11',\n",
       " 'Nom Tête de Liste 11',\n",
       " 'N°Liste 12',\n",
       " 'Libellé Abrégé Liste 12',\n",
       " 'Libellé Etendu Liste 12',\n",
       " 'Nom Tête de Liste 12',\n",
       " 'N°Liste 13',\n",
       " 'Libellé Abrégé Liste 13',\n",
       " 'Libellé Etendu Liste 13',\n",
       " 'Nom Tête de Liste 13',\n",
       " 'N°Liste 14',\n",
       " 'Libellé Abrégé Liste 14',\n",
       " 'Libellé Etendu Liste 14',\n",
       " 'Nom Tête de Liste 14',\n",
       " 'N°Liste 15',\n",
       " 'Libellé Abrégé Liste 15',\n",
       " 'Libellé Etendu Liste 15',\n",
       " 'Nom Tête de Liste 15',\n",
       " 'N°Liste 16',\n",
       " 'Libellé Abrégé Liste 16',\n",
       " 'Libellé Etendu Liste 16',\n",
       " 'Nom Tête de Liste 16',\n",
       " 'N°Liste 17',\n",
       " 'Libellé Abrégé Liste 17',\n",
       " 'Libellé Etendu Liste 17',\n",
       " 'Nom Tête de Liste 17',\n",
       " 'N°Liste 18',\n",
       " 'Libellé Abrégé Liste 18',\n",
       " 'Libellé Etendu Liste 18',\n",
       " 'Nom Tête de Liste 18',\n",
       " 'N°Liste 19',\n",
       " 'Libellé Abrégé Liste 19',\n",
       " 'Libellé Etendu Liste 19',\n",
       " 'Nom Tête de Liste 19',\n",
       " 'N°Liste 20',\n",
       " 'Libellé Abrégé Liste 20',\n",
       " 'Libellé Etendu Liste 20',\n",
       " 'Nom Tête de Liste 20',\n",
       " 'N°Liste 21',\n",
       " 'Libellé Abrégé Liste 21',\n",
       " 'Libellé Etendu Liste 21',\n",
       " 'Nom Tête de Liste 21',\n",
       " 'N°Liste 22',\n",
       " 'Libellé Abrégé Liste 22',\n",
       " 'Libellé Etendu Liste 22',\n",
       " 'Nom Tête de Liste 22',\n",
       " 'N°Liste 23',\n",
       " 'Libellé Abrégé Liste 23',\n",
       " 'Libellé Etendu Liste 23',\n",
       " 'Nom Tête de Liste 23',\n",
       " 'N°Liste 24',\n",
       " 'Libellé Abrégé Liste 24',\n",
       " 'Libellé Etendu Liste 24',\n",
       " 'Nom Tête de Liste 24',\n",
       " 'N°Liste 25',\n",
       " 'Libellé Abrégé Liste 25',\n",
       " 'Libellé Etendu Liste 25',\n",
       " 'Nom Tête de Liste 25',\n",
       " 'N°Liste 26',\n",
       " 'Libellé Abrégé Liste 26',\n",
       " 'Libellé Etendu Liste 26',\n",
       " 'Nom Tête de Liste 26',\n",
       " 'N°Liste 27',\n",
       " 'Libellé Abrégé Liste 27',\n",
       " 'Libellé Etendu Liste 27',\n",
       " 'Nom Tête de Liste 27',\n",
       " 'N°Liste 28',\n",
       " 'Libellé Abrégé Liste 28',\n",
       " 'Libellé Etendu Liste 28',\n",
       " 'Nom Tête de Liste 28',\n",
       " 'N°Liste 29',\n",
       " 'Libellé Abrégé Liste 29',\n",
       " 'Libellé Etendu Liste 29',\n",
       " 'Nom Tête de Liste 29',\n",
       " 'N°Liste 30',\n",
       " 'Libellé Abrégé Liste 30',\n",
       " 'Libellé Etendu Liste 30',\n",
       " 'Nom Tête de Liste 30',\n",
       " 'N°Liste 31',\n",
       " 'Libellé Abrégé Liste 31',\n",
       " 'Libellé Etendu Liste 31',\n",
       " 'Nom Tête de Liste 31',\n",
       " 'N°Liste 32',\n",
       " 'Libellé Abrégé Liste 32',\n",
       " 'Libellé Etendu Liste 32',\n",
       " 'Nom Tête de Liste 32',\n",
       " 'N°Liste 33',\n",
       " 'Libellé Abrégé Liste 33',\n",
       " 'Libellé Etendu Liste 33',\n",
       " 'Nom Tête de Liste 33',\n",
       " 'N°Liste 34',\n",
       " 'Libellé Abrégé Liste 34',\n",
       " 'Libellé Etendu Liste 34',\n",
       " 'Nom Tête de Liste 34']"
      ]
     },
     "execution_count": 272,
     "metadata": {},
     "output_type": "execute_result"
    }
   ],
   "source": [
    "to_drop"
   ]
  },
  {
   "cell_type": "code",
   "execution_count": 273,
   "metadata": {},
   "outputs": [],
   "source": [
    "df = df.drop(to_drop,axis=1)"
   ]
  },
  {
   "cell_type": "code",
   "execution_count": 258,
   "metadata": {},
   "outputs": [],
   "source": [
    "df_light = pd.read_csv('data/resultats-provisoires-par-canton-light.txt', delimiter = \"\\t\")"
   ]
  },
  {
   "cell_type": "code",
   "execution_count": 259,
   "metadata": {},
   "outputs": [
    {
     "data": {
      "text/html": [
       "<div>\n",
       "<style scoped>\n",
       "    .dataframe tbody tr th:only-of-type {\n",
       "        vertical-align: middle;\n",
       "    }\n",
       "\n",
       "    .dataframe tbody tr th {\n",
       "        vertical-align: top;\n",
       "    }\n",
       "\n",
       "    .dataframe thead th {\n",
       "        text-align: right;\n",
       "    }\n",
       "</style>\n",
       "<table border=\"1\" class=\"dataframe\">\n",
       "  <thead>\n",
       "    <tr style=\"text-align: right;\">\n",
       "      <th></th>\n",
       "      <th>Unnamed: 0</th>\n",
       "      <th>inscrits</th>\n",
       "      <th>blancs</th>\n",
       "      <th>vot ins</th>\n",
       "      <th>abs ins</th>\n",
       "      <th>blancs ins</th>\n",
       "      <th>voix 5</th>\n",
       "      <th>voix 23</th>\n",
       "      <th>exp vot</th>\n",
       "      <th>exp ins</th>\n",
       "      <th>...</th>\n",
       "      <th>voix exp 5</th>\n",
       "      <th>nuls ins</th>\n",
       "      <th>voix ins 5</th>\n",
       "      <th>votants</th>\n",
       "      <th>nuls</th>\n",
       "      <th>abstentions</th>\n",
       "      <th>nuls vot</th>\n",
       "      <th>blancs vot</th>\n",
       "      <th>exprimes</th>\n",
       "      <th>voix exp 23</th>\n",
       "    </tr>\n",
       "  </thead>\n",
       "  <tbody>\n",
       "    <tr>\n",
       "      <th>0</th>\n",
       "      <td>0</td>\n",
       "      <td>19318</td>\n",
       "      <td>253</td>\n",
       "      <td>52,71</td>\n",
       "      <td>47,29</td>\n",
       "      <td>1,31</td>\n",
       "      <td>1716</td>\n",
       "      <td>2764</td>\n",
       "      <td>95,61</td>\n",
       "      <td>50,39</td>\n",
       "      <td>...</td>\n",
       "      <td>17,63</td>\n",
       "      <td>1</td>\n",
       "      <td>8,88</td>\n",
       "      <td>10182</td>\n",
       "      <td>194</td>\n",
       "      <td>9136</td>\n",
       "      <td>1,91</td>\n",
       "      <td>2,48</td>\n",
       "      <td>9735</td>\n",
       "      <td>28,39</td>\n",
       "    </tr>\n",
       "    <tr>\n",
       "      <th>1</th>\n",
       "      <td>1</td>\n",
       "      <td>17843</td>\n",
       "      <td>278</td>\n",
       "      <td>49,74</td>\n",
       "      <td>50,26</td>\n",
       "      <td>1,56</td>\n",
       "      <td>1746</td>\n",
       "      <td>2214</td>\n",
       "      <td>93,85</td>\n",
       "      <td>46,68</td>\n",
       "      <td>...</td>\n",
       "      <td>20,96</td>\n",
       "      <td>1,5</td>\n",
       "      <td>9,79</td>\n",
       "      <td>8876</td>\n",
       "      <td>268</td>\n",
       "      <td>8967</td>\n",
       "      <td>3,02</td>\n",
       "      <td>3,13</td>\n",
       "      <td>8330</td>\n",
       "      <td>26,58</td>\n",
       "    </tr>\n",
       "    <tr>\n",
       "      <th>2</th>\n",
       "      <td>2</td>\n",
       "      <td>12675</td>\n",
       "      <td>141</td>\n",
       "      <td>44,99</td>\n",
       "      <td>55,01</td>\n",
       "      <td>1,11</td>\n",
       "      <td>1025</td>\n",
       "      <td>1416</td>\n",
       "      <td>95,23</td>\n",
       "      <td>42,84</td>\n",
       "      <td>...</td>\n",
       "      <td>18,88</td>\n",
       "      <td>1,03</td>\n",
       "      <td>8,09</td>\n",
       "      <td>5702</td>\n",
       "      <td>131</td>\n",
       "      <td>6973</td>\n",
       "      <td>2,3</td>\n",
       "      <td>2,47</td>\n",
       "      <td>5430</td>\n",
       "      <td>26,08</td>\n",
       "    </tr>\n",
       "    <tr>\n",
       "      <th>3</th>\n",
       "      <td>3</td>\n",
       "      <td>17728</td>\n",
       "      <td>218</td>\n",
       "      <td>53,92</td>\n",
       "      <td>46,08</td>\n",
       "      <td>1,23</td>\n",
       "      <td>1888</td>\n",
       "      <td>2426</td>\n",
       "      <td>95,38</td>\n",
       "      <td>51,43</td>\n",
       "      <td>...</td>\n",
       "      <td>20,71</td>\n",
       "      <td>1,26</td>\n",
       "      <td>10,65</td>\n",
       "      <td>9559</td>\n",
       "      <td>224</td>\n",
       "      <td>8169</td>\n",
       "      <td>2,34</td>\n",
       "      <td>2,28</td>\n",
       "      <td>9117</td>\n",
       "      <td>26,61</td>\n",
       "    </tr>\n",
       "    <tr>\n",
       "      <th>4</th>\n",
       "      <td>4</td>\n",
       "      <td>19562</td>\n",
       "      <td>163</td>\n",
       "      <td>47,17</td>\n",
       "      <td>52,83</td>\n",
       "      <td>0,83</td>\n",
       "      <td>2129</td>\n",
       "      <td>1783</td>\n",
       "      <td>96,5</td>\n",
       "      <td>45,52</td>\n",
       "      <td>...</td>\n",
       "      <td>23,91</td>\n",
       "      <td>0,82</td>\n",
       "      <td>10,88</td>\n",
       "      <td>9227</td>\n",
       "      <td>160</td>\n",
       "      <td>10335</td>\n",
       "      <td>1,73</td>\n",
       "      <td>1,77</td>\n",
       "      <td>8904</td>\n",
       "      <td>20,02</td>\n",
       "    </tr>\n",
       "    <tr>\n",
       "      <th>...</th>\n",
       "      <td>...</td>\n",
       "      <td>...</td>\n",
       "      <td>...</td>\n",
       "      <td>...</td>\n",
       "      <td>...</td>\n",
       "      <td>...</td>\n",
       "      <td>...</td>\n",
       "      <td>...</td>\n",
       "      <td>...</td>\n",
       "      <td>...</td>\n",
       "      <td>...</td>\n",
       "      <td>...</td>\n",
       "      <td>...</td>\n",
       "      <td>...</td>\n",
       "      <td>...</td>\n",
       "      <td>...</td>\n",
       "      <td>...</td>\n",
       "      <td>...</td>\n",
       "      <td>...</td>\n",
       "      <td>...</td>\n",
       "      <td>...</td>\n",
       "    </tr>\n",
       "    <tr>\n",
       "      <th>2085</th>\n",
       "      <td>2085</td>\n",
       "      <td>5766</td>\n",
       "      <td>28</td>\n",
       "      <td>39,28</td>\n",
       "      <td>60,72</td>\n",
       "      <td>0,49</td>\n",
       "      <td>1341</td>\n",
       "      <td>214</td>\n",
       "      <td>93,51</td>\n",
       "      <td>36,73</td>\n",
       "      <td>...</td>\n",
       "      <td>63,31</td>\n",
       "      <td>2,06</td>\n",
       "      <td>23,26</td>\n",
       "      <td>2265</td>\n",
       "      <td>119</td>\n",
       "      <td>3501</td>\n",
       "      <td>5,25</td>\n",
       "      <td>1,24</td>\n",
       "      <td>2118</td>\n",
       "      <td>10,1</td>\n",
       "    </tr>\n",
       "    <tr>\n",
       "      <th>2086</th>\n",
       "      <td>2086</td>\n",
       "      <td>4958</td>\n",
       "      <td>60</td>\n",
       "      <td>28,8</td>\n",
       "      <td>71,2</td>\n",
       "      <td>1,21</td>\n",
       "      <td>238</td>\n",
       "      <td>313</td>\n",
       "      <td>91,25</td>\n",
       "      <td>26,28</td>\n",
       "      <td>...</td>\n",
       "      <td>18,27</td>\n",
       "      <td>1,31</td>\n",
       "      <td>4,8</td>\n",
       "      <td>1428</td>\n",
       "      <td>65</td>\n",
       "      <td>3530</td>\n",
       "      <td>4,55</td>\n",
       "      <td>4,2</td>\n",
       "      <td>1303</td>\n",
       "      <td>24,02</td>\n",
       "    </tr>\n",
       "    <tr>\n",
       "      <th>2087</th>\n",
       "      <td>2087</td>\n",
       "      <td>8762</td>\n",
       "      <td>39</td>\n",
       "      <td>34,63</td>\n",
       "      <td>65,37</td>\n",
       "      <td>0,45</td>\n",
       "      <td>1106</td>\n",
       "      <td>397</td>\n",
       "      <td>98,19</td>\n",
       "      <td>34</td>\n",
       "      <td>...</td>\n",
       "      <td>37,13</td>\n",
       "      <td>0,18</td>\n",
       "      <td>12,62</td>\n",
       "      <td>3034</td>\n",
       "      <td>16</td>\n",
       "      <td>5728</td>\n",
       "      <td>0,53</td>\n",
       "      <td>1,29</td>\n",
       "      <td>2979</td>\n",
       "      <td>13,33</td>\n",
       "    </tr>\n",
       "    <tr>\n",
       "      <th>2088</th>\n",
       "      <td>2088</td>\n",
       "      <td>23327</td>\n",
       "      <td>141</td>\n",
       "      <td>14,64</td>\n",
       "      <td>85,36</td>\n",
       "      <td>0,6</td>\n",
       "      <td>631</td>\n",
       "      <td>889</td>\n",
       "      <td>91,74</td>\n",
       "      <td>13,43</td>\n",
       "      <td>...</td>\n",
       "      <td>20,15</td>\n",
       "      <td>0,6</td>\n",
       "      <td>2,71</td>\n",
       "      <td>3414</td>\n",
       "      <td>141</td>\n",
       "      <td>19913</td>\n",
       "      <td>4,13</td>\n",
       "      <td>4,13</td>\n",
       "      <td>3132</td>\n",
       "      <td>28,38</td>\n",
       "    </tr>\n",
       "    <tr>\n",
       "      <th>2089</th>\n",
       "      <td>2089</td>\n",
       "      <td>1247127</td>\n",
       "      <td>1114</td>\n",
       "      <td>18,36</td>\n",
       "      <td>81,64</td>\n",
       "      <td>0,09</td>\n",
       "      <td>82598</td>\n",
       "      <td>15916</td>\n",
       "      <td>97,93</td>\n",
       "      <td>17,98</td>\n",
       "      <td>...</td>\n",
       "      <td>36,84</td>\n",
       "      <td>0,29</td>\n",
       "      <td>6,62</td>\n",
       "      <td>228929</td>\n",
       "      <td>3636</td>\n",
       "      <td>1018198</td>\n",
       "      <td>1,59</td>\n",
       "      <td>0,49</td>\n",
       "      <td>224179</td>\n",
       "      <td>7,1</td>\n",
       "    </tr>\n",
       "  </tbody>\n",
       "</table>\n",
       "<p>2090 rows × 21 columns</p>\n",
       "</div>"
      ],
      "text/plain": [
       "      Unnamed: 0  inscrits  blancs vot ins abs ins blancs ins  voix 5  \\\n",
       "0              0     19318     253   52,71   47,29       1,31    1716   \n",
       "1              1     17843     278   49,74   50,26       1,56    1746   \n",
       "2              2     12675     141   44,99   55,01       1,11    1025   \n",
       "3              3     17728     218   53,92   46,08       1,23    1888   \n",
       "4              4     19562     163   47,17   52,83       0,83    2129   \n",
       "...          ...       ...     ...     ...     ...        ...     ...   \n",
       "2085        2085      5766      28   39,28   60,72       0,49    1341   \n",
       "2086        2086      4958      60    28,8    71,2       1,21     238   \n",
       "2087        2087      8762      39   34,63   65,37       0,45    1106   \n",
       "2088        2088     23327     141   14,64   85,36        0,6     631   \n",
       "2089        2089   1247127    1114   18,36   81,64       0,09   82598   \n",
       "\n",
       "      voix 23 exp vot exp ins  ... voix exp 5 nuls ins voix ins 5 votants  \\\n",
       "0        2764   95,61   50,39  ...      17,63        1       8,88   10182   \n",
       "1        2214   93,85   46,68  ...      20,96      1,5       9,79    8876   \n",
       "2        1416   95,23   42,84  ...      18,88     1,03       8,09    5702   \n",
       "3        2426   95,38   51,43  ...      20,71     1,26      10,65    9559   \n",
       "4        1783    96,5   45,52  ...      23,91     0,82      10,88    9227   \n",
       "...       ...     ...     ...  ...        ...      ...        ...     ...   \n",
       "2085      214   93,51   36,73  ...      63,31     2,06      23,26    2265   \n",
       "2086      313   91,25   26,28  ...      18,27     1,31        4,8    1428   \n",
       "2087      397   98,19      34  ...      37,13     0,18      12,62    3034   \n",
       "2088      889   91,74   13,43  ...      20,15      0,6       2,71    3414   \n",
       "2089    15916   97,93   17,98  ...      36,84     0,29       6,62  228929   \n",
       "\n",
       "      nuls  abstentions  nuls vot blancs vot exprimes  voix exp 23  \n",
       "0      194         9136      1,91       2,48     9735        28,39  \n",
       "1      268         8967      3,02       3,13     8330        26,58  \n",
       "2      131         6973       2,3       2,47     5430        26,08  \n",
       "3      224         8169      2,34       2,28     9117        26,61  \n",
       "4      160        10335      1,73       1,77     8904        20,02  \n",
       "...    ...          ...       ...        ...      ...          ...  \n",
       "2085   119         3501      5,25       1,24     2118         10,1  \n",
       "2086    65         3530      4,55        4,2     1303        24,02  \n",
       "2087    16         5728      0,53       1,29     2979        13,33  \n",
       "2088   141        19913      4,13       4,13     3132        28,38  \n",
       "2089  3636      1018198      1,59       0,49   224179          7,1  \n",
       "\n",
       "[2090 rows x 21 columns]"
      ]
     },
     "execution_count": 259,
     "metadata": {},
     "output_type": "execute_result"
    }
   ],
   "source": [
    "df_light"
   ]
  },
  {
   "cell_type": "code",
   "execution_count": 260,
   "metadata": {},
   "outputs": [],
   "source": [
    "to_drop_light = []\n",
    "l = ['Unnamed: 0','Code du département','Libellé du département','Code du canton','Libellé du canton']\n",
    "for col in l:\n",
    "    if col in df_light.columns:\n",
    "        to_drop_light.append(col)  "
   ]
  },
  {
   "cell_type": "code",
   "execution_count": 261,
   "metadata": {},
   "outputs": [],
   "source": [
    "starts = ['N°Liste','Libellé Abrégé Liste' ,'Libellé Etendu Liste' ,'Nom Tête de Liste' ]\n",
    "for col in df_light.columns:\n",
    "    for start in starts:\n",
    "        if col.startswith(start):\n",
    "            to_drop_light.append(col)"
   ]
  },
  {
   "cell_type": "code",
   "execution_count": 262,
   "metadata": {},
   "outputs": [
    {
     "data": {
      "text/plain": [
       "['Unnamed: 0']"
      ]
     },
     "execution_count": 262,
     "metadata": {},
     "output_type": "execute_result"
    }
   ],
   "source": [
    "to_drop_light"
   ]
  },
  {
   "cell_type": "code",
   "execution_count": 264,
   "metadata": {},
   "outputs": [],
   "source": [
    "df_light = df_light.drop(to_drop_light,axis=1)"
   ]
  },
  {
   "cell_type": "markdown",
   "metadata": {},
   "source": [
    "### b.\tAprès avoir conservé uniquement les données générales <font color=blue>( Inscrits, Abstentions, % Abs/Ins, Votants, % Vot/Ins, Blancs, % Blancs/Ins, % Blancs/Vot, Nuls, % Nuls/Ins, % Nuls/Vot, Exprimés, % Exp/Ins, % Exp/Vot)</font> et celles de LOISEAU Nathalie n°5 et de BARDELLA Jordan n°23 <font color=blue>(Voix ,% Voix/Ins ,% Voix/Exp x)</font>, proposer une réduction de dimension afin de visualiser en 2 dimensions les données, avec les points libellés par département."
   ]
  },
  {
   "cell_type": "markdown",
   "metadata": {},
   "source": [
    "(Si jamais le traitement a et b vous prenaient trop de temps, utiliser le fichier resultats-provisoires-par-canton-light.txt)<br/><br/>\n",
    "Essayer d’avoir quelque chose du genre :\n"
   ]
  },
  {
   "cell_type": "markdown",
   "metadata": {},
   "source": [
    "<img src=\"data/visulisation.png\" title=\"visulisation\" />"
   ]
  },
  {
   "cell_type": "code",
   "execution_count": null,
   "metadata": {
    "collapsed": true
   },
   "outputs": [],
   "source": []
  }
 ],
 "metadata": {
  "kernelspec": {
   "display_name": "Python 3",
   "language": "python",
   "name": "python3"
  },
  "language_info": {
   "codemirror_mode": {
    "name": "ipython",
    "version": 3
   },
   "file_extension": ".py",
   "mimetype": "text/x-python",
   "name": "python",
   "nbconvert_exporter": "python",
   "pygments_lexer": "ipython3",
   "version": "3.7.6"
  }
 },
 "nbformat": 4,
 "nbformat_minor": 2
}
