{
 "cells": [
  {
   "cell_type": "markdown",
   "metadata": {},
   "source": [
    "# <center>  ACP and T-SNE"
   ]
  },
  {
   "cell_type": "code",
   "execution_count": 1,
   "metadata": {},
   "outputs": [],
   "source": [
    "# Library\n",
    "\n",
    "import pandas as pd\n",
    "import numpy as np\n",
    "from scipy.stats import norm, multivariate_normal  \n",
    "from sklearn.decomposition import PCA\n",
    "from sklearn.manifold import TSNE\n",
    "import matplotlib.pyplot as plt\n",
    "from mpl_toolkits.mplot3d import Axes3D"
   ]
  },
  {
   "cell_type": "markdown",
   "metadata": {},
   "source": [
    "## PCA"
   ]
  },
  {
   "cell_type": "code",
   "execution_count": 2,
   "metadata": {},
   "outputs": [],
   "source": [
    "# Gaussian data simulation\n",
    "\n",
    "n = 100\n",
    "mean = np.array([0 for i in range(n)])\n",
    "cov = np.eye(n) \n",
    "col = ['X'+str(i) for i in range(n)]\n",
    "X_1 = pd.DataFrame(np.random.multivariate_normal(mean, cov, (500)),columns=col)\n",
    "X_1['Class'] = 0\n",
    "X_2 = pd.DataFrame(np.random.multivariate_normal(mean+3, cov+3, (500)),columns=col)\n",
    "X_2['Class'] = 1\n",
    "X = X_1.append(X_2).reset_index(drop=True)"
   ]
  },
  {
   "cell_type": "code",
   "execution_count": 3,
   "metadata": {},
   "outputs": [
    {
     "data": {
      "text/html": [
       "<div>\n",
       "<style scoped>\n",
       "    .dataframe tbody tr th:only-of-type {\n",
       "        vertical-align: middle;\n",
       "    }\n",
       "\n",
       "    .dataframe tbody tr th {\n",
       "        vertical-align: top;\n",
       "    }\n",
       "\n",
       "    .dataframe thead th {\n",
       "        text-align: right;\n",
       "    }\n",
       "</style>\n",
       "<table border=\"1\" class=\"dataframe\">\n",
       "  <thead>\n",
       "    <tr style=\"text-align: right;\">\n",
       "      <th></th>\n",
       "      <th>X0</th>\n",
       "      <th>X1</th>\n",
       "      <th>X2</th>\n",
       "      <th>X3</th>\n",
       "      <th>X4</th>\n",
       "      <th>X5</th>\n",
       "      <th>X6</th>\n",
       "      <th>X7</th>\n",
       "      <th>X8</th>\n",
       "      <th>X9</th>\n",
       "      <th>...</th>\n",
       "      <th>X91</th>\n",
       "      <th>X92</th>\n",
       "      <th>X93</th>\n",
       "      <th>X94</th>\n",
       "      <th>X95</th>\n",
       "      <th>X96</th>\n",
       "      <th>X97</th>\n",
       "      <th>X98</th>\n",
       "      <th>X99</th>\n",
       "      <th>Class</th>\n",
       "    </tr>\n",
       "  </thead>\n",
       "  <tbody>\n",
       "    <tr>\n",
       "      <th>0</th>\n",
       "      <td>1.055352</td>\n",
       "      <td>0.330819</td>\n",
       "      <td>-1.683345</td>\n",
       "      <td>-1.464089</td>\n",
       "      <td>-1.922995</td>\n",
       "      <td>0.360842</td>\n",
       "      <td>0.548514</td>\n",
       "      <td>0.542992</td>\n",
       "      <td>0.691414</td>\n",
       "      <td>1.290870</td>\n",
       "      <td>...</td>\n",
       "      <td>0.621125</td>\n",
       "      <td>0.566242</td>\n",
       "      <td>-1.219080</td>\n",
       "      <td>-1.383944</td>\n",
       "      <td>2.396040</td>\n",
       "      <td>0.008449</td>\n",
       "      <td>0.387959</td>\n",
       "      <td>0.924071</td>\n",
       "      <td>-0.949439</td>\n",
       "      <td>0</td>\n",
       "    </tr>\n",
       "    <tr>\n",
       "      <th>1</th>\n",
       "      <td>0.225268</td>\n",
       "      <td>-0.876040</td>\n",
       "      <td>2.042272</td>\n",
       "      <td>-1.046689</td>\n",
       "      <td>-1.055121</td>\n",
       "      <td>0.426341</td>\n",
       "      <td>-0.091623</td>\n",
       "      <td>0.232271</td>\n",
       "      <td>-1.373602</td>\n",
       "      <td>-1.920561</td>\n",
       "      <td>...</td>\n",
       "      <td>1.107327</td>\n",
       "      <td>-1.223117</td>\n",
       "      <td>-0.175371</td>\n",
       "      <td>1.340502</td>\n",
       "      <td>-2.275469</td>\n",
       "      <td>-0.385797</td>\n",
       "      <td>-1.221569</td>\n",
       "      <td>-1.334036</td>\n",
       "      <td>0.298287</td>\n",
       "      <td>0</td>\n",
       "    </tr>\n",
       "    <tr>\n",
       "      <th>2</th>\n",
       "      <td>-0.734292</td>\n",
       "      <td>-1.233739</td>\n",
       "      <td>0.365817</td>\n",
       "      <td>-0.966814</td>\n",
       "      <td>-1.137032</td>\n",
       "      <td>0.781145</td>\n",
       "      <td>0.302608</td>\n",
       "      <td>0.266099</td>\n",
       "      <td>0.961998</td>\n",
       "      <td>-0.070095</td>\n",
       "      <td>...</td>\n",
       "      <td>-0.053908</td>\n",
       "      <td>-1.558002</td>\n",
       "      <td>0.092962</td>\n",
       "      <td>2.097762</td>\n",
       "      <td>0.364733</td>\n",
       "      <td>0.907169</td>\n",
       "      <td>-0.156218</td>\n",
       "      <td>0.371795</td>\n",
       "      <td>0.369602</td>\n",
       "      <td>0</td>\n",
       "    </tr>\n",
       "    <tr>\n",
       "      <th>3</th>\n",
       "      <td>-0.330593</td>\n",
       "      <td>-0.012419</td>\n",
       "      <td>-0.568626</td>\n",
       "      <td>1.954051</td>\n",
       "      <td>0.329820</td>\n",
       "      <td>2.863947</td>\n",
       "      <td>-1.223920</td>\n",
       "      <td>-1.728152</td>\n",
       "      <td>-0.264178</td>\n",
       "      <td>-0.868539</td>\n",
       "      <td>...</td>\n",
       "      <td>-0.321510</td>\n",
       "      <td>-0.581781</td>\n",
       "      <td>0.501392</td>\n",
       "      <td>-1.540954</td>\n",
       "      <td>-0.595474</td>\n",
       "      <td>0.345201</td>\n",
       "      <td>1.558028</td>\n",
       "      <td>2.185386</td>\n",
       "      <td>0.984346</td>\n",
       "      <td>0</td>\n",
       "    </tr>\n",
       "    <tr>\n",
       "      <th>4</th>\n",
       "      <td>0.032233</td>\n",
       "      <td>-0.400004</td>\n",
       "      <td>1.608771</td>\n",
       "      <td>2.175877</td>\n",
       "      <td>1.190339</td>\n",
       "      <td>0.857848</td>\n",
       "      <td>1.327916</td>\n",
       "      <td>0.271976</td>\n",
       "      <td>-0.487470</td>\n",
       "      <td>0.598741</td>\n",
       "      <td>...</td>\n",
       "      <td>-1.947290</td>\n",
       "      <td>-0.436910</td>\n",
       "      <td>0.261475</td>\n",
       "      <td>2.103573</td>\n",
       "      <td>-0.491240</td>\n",
       "      <td>0.751774</td>\n",
       "      <td>0.112366</td>\n",
       "      <td>-1.935591</td>\n",
       "      <td>1.100116</td>\n",
       "      <td>0</td>\n",
       "    </tr>\n",
       "  </tbody>\n",
       "</table>\n",
       "<p>5 rows × 101 columns</p>\n",
       "</div>"
      ],
      "text/plain": [
       "         X0        X1        X2        X3        X4        X5        X6  \\\n",
       "0  1.055352  0.330819 -1.683345 -1.464089 -1.922995  0.360842  0.548514   \n",
       "1  0.225268 -0.876040  2.042272 -1.046689 -1.055121  0.426341 -0.091623   \n",
       "2 -0.734292 -1.233739  0.365817 -0.966814 -1.137032  0.781145  0.302608   \n",
       "3 -0.330593 -0.012419 -0.568626  1.954051  0.329820  2.863947 -1.223920   \n",
       "4  0.032233 -0.400004  1.608771  2.175877  1.190339  0.857848  1.327916   \n",
       "\n",
       "         X7        X8        X9  ...       X91       X92       X93       X94  \\\n",
       "0  0.542992  0.691414  1.290870  ...  0.621125  0.566242 -1.219080 -1.383944   \n",
       "1  0.232271 -1.373602 -1.920561  ...  1.107327 -1.223117 -0.175371  1.340502   \n",
       "2  0.266099  0.961998 -0.070095  ... -0.053908 -1.558002  0.092962  2.097762   \n",
       "3 -1.728152 -0.264178 -0.868539  ... -0.321510 -0.581781  0.501392 -1.540954   \n",
       "4  0.271976 -0.487470  0.598741  ... -1.947290 -0.436910  0.261475  2.103573   \n",
       "\n",
       "        X95       X96       X97       X98       X99  Class  \n",
       "0  2.396040  0.008449  0.387959  0.924071 -0.949439      0  \n",
       "1 -2.275469 -0.385797 -1.221569 -1.334036  0.298287      0  \n",
       "2  0.364733  0.907169 -0.156218  0.371795  0.369602      0  \n",
       "3 -0.595474  0.345201  1.558028  2.185386  0.984346      0  \n",
       "4 -0.491240  0.751774  0.112366 -1.935591  1.100116      0  \n",
       "\n",
       "[5 rows x 101 columns]"
      ]
     },
     "execution_count": 3,
     "metadata": {},
     "output_type": "execute_result"
    }
   ],
   "source": [
    "# Data\n",
    "X.head()"
   ]
  },
  {
   "cell_type": "code",
   "execution_count": 4,
   "metadata": {},
   "outputs": [],
   "source": [
    "# Center and reduice data\n",
    "X_center = (X.iloc[:,:100] - X.iloc[:,:100].mean())/X.iloc[:,:100].var()"
   ]
  },
  {
   "cell_type": "code",
   "execution_count": 5,
   "metadata": {},
   "outputs": [],
   "source": [
    "X_center['Class'] = X['Class']"
   ]
  },
  {
   "cell_type": "code",
   "execution_count": 6,
   "metadata": {},
   "outputs": [
    {
     "name": "stdout",
     "output_type": "stream",
     "text": [
      "var explained : 0.7936778942000753\n"
     ]
    },
    {
     "data": {
      "text/plain": [
       "array([[-3.02515849, -0.28575002],\n",
       "       [-3.11565127, -0.26149927],\n",
       "       [-3.30295992, -0.24671095],\n",
       "       ...,\n",
       "       [-1.66267161,  0.68446925],\n",
       "       [ 6.09768345, -0.09249041],\n",
       "       [ 5.98277569, -0.1232989 ]])"
      ]
     },
     "execution_count": 6,
     "metadata": {},
     "output_type": "execute_result"
    }
   ],
   "source": [
    "# PCA with 2 components\n",
    "n_components = 2\n",
    "pca = PCA(n_components=n_components,random_state=42)\n",
    "pca_fit = pca.fit(X_center.iloc[:,:100])\n",
    "print(f\"var explained : {np.sum(pca_fit.explained_variance_ratio_)}\")\n",
    "pca_trans = pca.fit_transform(X_center)\n",
    "pca_trans"
   ]
  },
  {
   "cell_type": "code",
   "execution_count": 14,
   "metadata": {},
   "outputs": [
    {
     "data": {
      "text/html": [
       "<div>\n",
       "<style scoped>\n",
       "    .dataframe tbody tr th:only-of-type {\n",
       "        vertical-align: middle;\n",
       "    }\n",
       "\n",
       "    .dataframe tbody tr th {\n",
       "        vertical-align: top;\n",
       "    }\n",
       "\n",
       "    .dataframe thead th {\n",
       "        text-align: right;\n",
       "    }\n",
       "</style>\n",
       "<table border=\"1\" class=\"dataframe\">\n",
       "  <thead>\n",
       "    <tr style=\"text-align: right;\">\n",
       "      <th></th>\n",
       "      <th>0</th>\n",
       "      <th>1</th>\n",
       "    </tr>\n",
       "  </thead>\n",
       "  <tbody>\n",
       "    <tr>\n",
       "      <th>0</th>\n",
       "      <td>-3.025158</td>\n",
       "      <td>-0.285750</td>\n",
       "    </tr>\n",
       "    <tr>\n",
       "      <th>1</th>\n",
       "      <td>-3.115651</td>\n",
       "      <td>-0.261499</td>\n",
       "    </tr>\n",
       "    <tr>\n",
       "      <th>2</th>\n",
       "      <td>-3.302960</td>\n",
       "      <td>-0.246711</td>\n",
       "    </tr>\n",
       "    <tr>\n",
       "      <th>3</th>\n",
       "      <td>-2.939542</td>\n",
       "      <td>-0.217982</td>\n",
       "    </tr>\n",
       "    <tr>\n",
       "      <th>4</th>\n",
       "      <td>-2.784914</td>\n",
       "      <td>-0.222944</td>\n",
       "    </tr>\n",
       "    <tr>\n",
       "      <th>...</th>\n",
       "      <td>...</td>\n",
       "      <td>...</td>\n",
       "    </tr>\n",
       "    <tr>\n",
       "      <th>995</th>\n",
       "      <td>4.002349</td>\n",
       "      <td>0.137999</td>\n",
       "    </tr>\n",
       "    <tr>\n",
       "      <th>996</th>\n",
       "      <td>2.450136</td>\n",
       "      <td>0.325551</td>\n",
       "    </tr>\n",
       "    <tr>\n",
       "      <th>997</th>\n",
       "      <td>-1.662672</td>\n",
       "      <td>0.684469</td>\n",
       "    </tr>\n",
       "    <tr>\n",
       "      <th>998</th>\n",
       "      <td>6.097683</td>\n",
       "      <td>-0.092490</td>\n",
       "    </tr>\n",
       "    <tr>\n",
       "      <th>999</th>\n",
       "      <td>5.982776</td>\n",
       "      <td>-0.123299</td>\n",
       "    </tr>\n",
       "  </tbody>\n",
       "</table>\n",
       "<p>1000 rows × 2 columns</p>\n",
       "</div>"
      ],
      "text/plain": [
       "            0         1\n",
       "0   -3.025158 -0.285750\n",
       "1   -3.115651 -0.261499\n",
       "2   -3.302960 -0.246711\n",
       "3   -2.939542 -0.217982\n",
       "4   -2.784914 -0.222944\n",
       "..        ...       ...\n",
       "995  4.002349  0.137999\n",
       "996  2.450136  0.325551\n",
       "997 -1.662672  0.684469\n",
       "998  6.097683 -0.092490\n",
       "999  5.982776 -0.123299\n",
       "\n",
       "[1000 rows x 2 columns]"
      ]
     },
     "execution_count": 14,
     "metadata": {},
     "output_type": "execute_result"
    }
   ],
   "source": [
    "pd.DataFrame(pca_trans)"
   ]
  },
  {
   "cell_type": "code",
   "execution_count": 11,
   "metadata": {},
   "outputs": [
    {
     "data": {
      "text/plain": [
       "array([-2.85750024e-01, -2.61499271e-01, -2.46710948e-01, -2.17981782e-01,\n",
       "       -2.22943619e-01, -2.01754163e-01, -1.47472838e-01, -1.51182036e-01,\n",
       "       -2.24084527e-01, -1.48019904e-01, -1.41579439e-01, -2.32608975e-01,\n",
       "       -7.13776659e-02, -1.13258910e-01, -1.59489173e-01, -1.80702325e-01,\n",
       "       -1.16658637e-01, -3.74485029e-01, -1.94452525e-01, -2.03184057e-01,\n",
       "       -8.89966530e-02, -7.49849632e-02, -1.95460978e-01, -1.63961019e-01,\n",
       "       -3.79743122e-02, -2.59134537e-01, -1.98582707e-01, -2.95280984e-02,\n",
       "       -2.88108456e-01, -5.42864602e-03, -3.70173283e-01,  2.57922102e-02,\n",
       "       -1.80374424e-01, -1.20952343e-01, -1.51118142e-01, -8.20903361e-02,\n",
       "       -1.82494907e-01, -3.87562739e-01, -3.43684541e-01, -1.97537771e-01,\n",
       "       -1.61220724e-01, -1.68133007e-01, -2.68161284e-01, -3.21643655e-01,\n",
       "       -1.79535403e-01, -1.13075230e-01, -1.86548214e-01, -1.37770126e-01,\n",
       "       -4.20666148e-02, -1.10614466e-01, -1.75478614e-01, -1.47775687e-01,\n",
       "       -1.93552635e-01, -1.73867575e-01, -1.72125737e-01, -1.20243729e-01,\n",
       "       -1.53478597e-01, -9.38616212e-02, -2.61506858e-01, -2.50073405e-01,\n",
       "       -1.38160878e-02, -1.45159745e-01, -3.37362112e-01, -1.33359393e-01,\n",
       "       -1.55251812e-01, -5.18368546e-02, -1.77279937e-01, -9.63845600e-02,\n",
       "       -1.84212581e-01, -1.59938851e-01, -2.07348985e-01, -8.30888064e-02,\n",
       "       -1.27544641e-01, -1.38072736e-01, -1.87053443e-01, -1.65164505e-01,\n",
       "       -2.99970504e-01, -9.99887414e-02, -3.48003561e-01, -1.39339424e-01,\n",
       "       -2.05815185e-01, -1.99028548e-01, -1.66157982e-01, -2.31836036e-01,\n",
       "       -1.70932812e-01, -7.73750792e-02, -1.38843928e-01, -7.52407017e-02,\n",
       "       -2.10421191e-01, -2.51874440e-01, -1.11707144e-01, -1.42675738e-01,\n",
       "       -2.91263969e-01, -3.97685561e-01, -1.70136990e-01, -2.03755853e-01,\n",
       "        5.42511772e-02, -2.06949483e-02, -5.69674938e-02, -3.22859994e-01,\n",
       "       -2.71815517e-01, -1.34803736e-01, -2.37783244e-02, -1.19210371e-01,\n",
       "       -3.11642161e-02, -3.08141587e-01, -3.03548718e-01, -2.03265195e-01,\n",
       "       -2.12825195e-01, -1.13097654e-01, -3.65420563e-01, -1.75087588e-01,\n",
       "       -1.77026599e-01, -3.76223718e-01, -1.60293915e-01, -1.67730308e-01,\n",
       "       -1.54432059e-01, -1.21907821e-01, -1.99805735e-01, -2.46006351e-01,\n",
       "       -9.21611043e-02, -2.06241501e-02, -1.55070912e-01, -1.14577239e-01,\n",
       "       -2.10788405e-01, -3.10151304e-01, -1.11425707e-01, -1.08903055e-01,\n",
       "       -1.69765666e-01, -3.05152750e-01, -2.46097312e-01, -2.34543053e-01,\n",
       "       -2.15668288e-01, -1.84945240e-01, -1.54435530e-01, -2.53807948e-01,\n",
       "       -2.00250200e-01, -2.49865508e-01, -3.72617725e-01, -2.64757524e-01,\n",
       "       -2.81265768e-01, -1.87921098e-01, -1.41962424e-01, -3.18140613e-01,\n",
       "       -2.10705623e-01, -2.03010269e-01, -3.16817760e-01, -4.39460365e-01,\n",
       "       -2.61438504e-01, -1.66664716e-01, -5.99084014e-02, -1.21228690e-01,\n",
       "        2.52594928e-02, -2.71179028e-01, -2.14492616e-01, -1.91093540e-01,\n",
       "       -1.81209412e-01, -1.09687143e-01, -1.50530160e-01, -9.64029980e-02,\n",
       "       -8.06145229e-02, -2.06334693e-01, -1.48608243e-01, -3.32250872e-01,\n",
       "       -1.75034005e-01, -1.64359635e-01, -1.97921023e-01, -2.45321662e-01,\n",
       "       -1.81996361e-01, -3.79741964e-01, -2.42597019e-01, -2.50401867e-01,\n",
       "       -3.16629642e-01, -1.89850981e-01, -2.17883638e-01, -3.51010936e-01,\n",
       "       -1.68597794e-01, -9.80200536e-02, -2.10547858e-01, -2.97945397e-01,\n",
       "       -2.06281566e-01, -5.70652428e-02, -2.14818504e-01, -9.68353638e-02,\n",
       "       -4.45092957e-02, -2.19808321e-01, -1.86810072e-01, -1.90100569e-01,\n",
       "       -3.81707055e-01, -3.06662621e-01, -2.56169012e-01, -9.12730652e-02,\n",
       "       -3.54283521e-01, -1.54455081e-01, -2.89202631e-01, -3.47541333e-01,\n",
       "       -1.17081773e-01, -2.22807899e-01, -2.22869542e-01, -1.94251142e-01,\n",
       "       -1.50027446e-01,  9.41447941e-02, -2.25624117e-01, -3.01777181e-01,\n",
       "       -1.59553572e-01, -1.59683863e-01, -5.69121323e-02, -1.51308494e-01,\n",
       "       -1.83804731e-01, -1.27790249e-01, -1.29088466e-01, -3.61571184e-01,\n",
       "       -6.22372336e-02, -6.34697324e-02, -1.33690899e-01, -5.98447358e-02,\n",
       "       -2.05294687e-01, -1.74040467e-01, -2.18341313e-01, -1.02715529e-01,\n",
       "       -8.18437831e-02, -2.50602657e-01, -1.38373085e-01, -7.29085320e-02,\n",
       "       -1.27495169e-01, -1.29104214e-01, -1.50437183e-01, -2.04208469e-01,\n",
       "       -3.61055117e-02, -1.40326098e-01, -1.79706436e-01, -4.06712422e-02,\n",
       "       -2.12180331e-01, -2.81366021e-01, -1.89047402e-01, -1.27329760e-01,\n",
       "       -1.79618023e-01, -4.35132483e-01, -1.21910026e-01, -2.27860197e-01,\n",
       "       -3.08153982e-02, -2.63249952e-01, -1.89653110e-01, -3.88623854e-01,\n",
       "       -2.45592977e-01, -1.20065334e-01, -2.38233746e-01, -9.98484420e-02,\n",
       "       -2.29129977e-01, -1.06844430e-01, -1.90607885e-01, -1.32606953e-01,\n",
       "       -2.43022871e-01, -2.09643453e-01, -1.61163719e-01, -2.94174643e-02,\n",
       "       -5.57755295e-02, -2.77089989e-01, -2.93913398e-01, -6.93950183e-02,\n",
       "       -9.77804241e-02, -2.89776545e-01, -3.55814683e-02, -2.94857660e-01,\n",
       "       -3.05051297e-01, -2.06427438e-01, -3.54964323e-02, -2.00470746e-01,\n",
       "       -1.31791679e-01, -8.83166717e-02, -1.50393877e-01, -2.73857032e-01,\n",
       "       -1.17798673e-01, -3.32341714e-01, -2.23274687e-01, -1.02359552e-01,\n",
       "       -2.48032242e-01, -9.47368579e-02, -1.02246091e-01, -4.78317830e-02,\n",
       "       -1.13410946e-01, -2.32130993e-01, -2.26152359e-01, -2.48127011e-01,\n",
       "       -1.13719017e-01, -7.51567487e-02, -5.32148272e-02, -1.34877614e-01,\n",
       "       -4.41426311e-01, -2.08298097e-01, -4.02840139e-01, -2.50550552e-01,\n",
       "       -2.09637402e-01, -4.75265282e-02, -2.72616802e-01, -2.49958433e-01,\n",
       "       -3.70661392e-01, -2.27522542e-01, -1.93052997e-01, -1.50573098e-01,\n",
       "       -1.36420801e-01,  5.97217757e-03, -2.82905449e-01, -1.34126080e-01,\n",
       "       -2.49157219e-01, -1.47002800e-01, -1.81275720e-01, -2.40678334e-01,\n",
       "       -1.82694017e-01, -1.81253527e-01, -3.30514856e-01, -9.15854715e-02,\n",
       "       -2.65890488e-01, -1.17351992e-01, -4.09097699e-01, -1.04519529e-01,\n",
       "       -1.99620753e-01, -1.94674963e-01, -4.11742040e-01, -1.32343066e-01,\n",
       "       -1.94800791e-01, -1.70987204e-01, -2.70470288e-01, -2.01970214e-01,\n",
       "       -2.32082843e-01, -1.09846382e-01, -2.61525852e-01, -1.32086928e-01,\n",
       "       -1.90222975e-01, -2.39635185e-01, -9.99538173e-02, -1.91278688e-01,\n",
       "       -1.63370287e-01, -1.54862905e-01, -1.93274250e-01, -1.16957485e-01,\n",
       "       -1.88648653e-01, -2.30234985e-01, -8.93466070e-02, -5.82774577e-02,\n",
       "       -2.11801806e-01, -2.21114007e-01, -1.45931235e-01, -3.71816247e-01,\n",
       "       -2.99648870e-01, -1.37839450e-01, -3.02064298e-01, -1.17749649e-01,\n",
       "       -1.96559691e-01, -2.48849977e-01, -4.11750353e-01, -1.28226638e-01,\n",
       "       -1.82604254e-01, -2.78168355e-01, -4.39764974e-01, -1.66602743e-01,\n",
       "       -1.40207882e-01, -3.21190372e-01, -1.72488713e-01,  1.95388406e-02,\n",
       "       -2.82579604e-01, -1.87990524e-01, -3.06354200e-01,  3.05719034e-02,\n",
       "       -7.66508648e-02, -2.59498837e-01, -2.57598262e-01, -3.22314679e-01,\n",
       "       -2.14847403e-01, -2.54057567e-01, -1.96759305e-01, -1.16974552e-01,\n",
       "       -2.35280998e-01, -2.94424809e-02, -2.10534322e-01, -3.29530478e-01,\n",
       "       -1.73384380e-01,  4.53930988e-02, -4.40199400e-02, -3.10222077e-02,\n",
       "       -2.13065093e-01, -3.33259358e-01, -1.71332410e-01, -1.00449243e-01,\n",
       "       -2.92885449e-01, -2.46406498e-01, -3.17221726e-01, -2.55003288e-04,\n",
       "       -1.98558933e-01, -2.59509480e-01, -3.06555703e-01, -3.57102400e-01,\n",
       "       -3.24956126e-01, -3.08481471e-01, -1.53371502e-01, -2.18899266e-01,\n",
       "       -2.05252224e-01, -1.83728608e-01, -3.08510950e-01, -2.42451365e-01,\n",
       "       -6.32443608e-02, -3.71565435e-01, -2.73659709e-01, -2.01768989e-01,\n",
       "       -2.48616981e-01, -1.02225704e-01, -1.80989399e-01, -1.99788687e-01,\n",
       "       -1.87821693e-01, -2.12393563e-01, -1.14647364e-01, -1.60739048e-01,\n",
       "       -2.51504277e-01, -2.16975498e-01, -8.38926211e-02, -1.03942805e-01,\n",
       "       -2.00459195e-01, -1.63938097e-01, -1.19496314e-01, -2.49002500e-01,\n",
       "       -1.83897918e-01, -1.95845876e-01, -2.84216995e-01, -1.81169135e-01,\n",
       "       -1.28282367e-01, -1.70501520e-01, -2.96496428e-01, -1.20425048e-01,\n",
       "       -4.73232155e-03, -8.71264110e-02, -2.20474691e-01, -2.29971291e-01,\n",
       "       -1.28809153e-01, -4.76185766e-02, -3.47834897e-01, -1.80859318e-01,\n",
       "       -2.80414554e-01, -1.95253730e-01, -1.06094247e-01, -2.62601742e-01,\n",
       "       -9.50358366e-02, -2.42727780e-01,  3.88247562e-02, -2.62962364e-01,\n",
       "       -3.83219745e-01, -3.29441112e-01, -1.86669703e-01, -3.61903430e-01,\n",
       "       -1.97100942e-01, -1.49836900e-01, -2.19493709e-01, -2.62747939e-01,\n",
       "       -3.50968402e-01, -7.74273810e-02, -3.01619335e-01, -1.36209111e-01,\n",
       "       -6.88453882e-02,  2.41441962e-02, -1.01245482e-01, -1.56977145e-01,\n",
       "       -1.18500057e-01, -2.90150659e-01, -9.58712090e-02, -9.74238321e-02,\n",
       "       -2.05293939e-01, -5.69401972e-02, -2.81324194e-01, -1.59177129e-01,\n",
       "       -8.13778830e-02, -3.87686455e-02, -3.02365026e-01, -2.92050226e-01,\n",
       "       -1.54068371e-01, -2.03251108e-01, -1.69247897e-01, -2.58487712e-01,\n",
       "       -1.97675818e-01, -2.07381958e-01, -2.25543997e-01, -5.51427997e-02,\n",
       "       -3.09319929e-01, -1.95836209e-01, -1.38973465e-01, -1.20628033e-01,\n",
       "       -2.37872864e-01, -1.23297660e-01, -2.10034533e-01, -3.43712388e-01,\n",
       "       -2.88366195e-01, -3.10753543e-01, -3.79480909e-01, -2.26337848e-01,\n",
       "       -1.31346094e-01, -1.54838387e-01, -2.52643074e-01, -1.24388146e-01,\n",
       "       -4.04447588e-02, -1.82456648e-01, -1.23544965e-01, -3.98915965e-01])"
      ]
     },
     "execution_count": 11,
     "metadata": {},
     "output_type": "execute_result"
    }
   ],
   "source": [
    "pca_trans[:500,1]"
   ]
  },
  {
   "cell_type": "code",
   "execution_count": 16,
   "metadata": {},
   "outputs": [
    {
     "data": {
      "text/plain": [
       "<matplotlib.collections.PathCollection at 0x7feaeaf3ffd0>"
      ]
     },
     "execution_count": 16,
     "metadata": {},
     "output_type": "execute_result"
    },
    {
     "data": {
      "image/png": "[encoded data removed]",
      "text/plain": [
       "<Figure size 432x288 with 1 Axes>"
      ]
     },
     "metadata": {
      "needs_background": "light"
     },
     "output_type": "display_data"
    }
   ],
   "source": [
    "# Plot result\n",
    "plt.scatter(x=pca_trans[:500,0],y=pca_trans[:500,1],c=\"red\")\n",
    "plt.scatter(x=pca_trans[500:,0],y=pca_trans[500:,1],c=\"blue\")"
   ]
  },
  {
   "cell_type": "code",
   "execution_count": 8,
   "metadata": {},
   "outputs": [],
   "source": [
    "# Search for the best number of components based on the explained variance\n",
    "var_explained = []\n",
    "n_comp = []\n",
    "for i in range(2,50):\n",
    "    n_components = i\n",
    "    pca_i = PCA(n_components=n_components,random_state=42)\n",
    "    pca_fit_i = pca_i.fit(X_center.iloc[:,:100])\n",
    "    var_explained.append(np.sum(pca_fit_i.explained_variance_ratio_))\n",
    "    n_comp.append(i)"
   ]
  },
  {
   "cell_type": "code",
   "execution_count": 9,
   "metadata": {},
   "outputs": [
    {
     "data": {
      "text/plain": [
       "[<matplotlib.lines.Line2D at 0x7fe5d52d7690>]"
      ]
     },
     "execution_count": 9,
     "metadata": {},
     "output_type": "execute_result"
    },
    {
     "data": {
      "image/png": "[encoded data removed]",
      "text/plain": [
       "<Figure size 432x288 with 1 Axes>"
      ]
     },
     "metadata": {
      "needs_background": "light"
     },
     "output_type": "display_data"
    }
   ],
   "source": [
    "plt.plot(n_comp,var_explained)"
   ]
  },
  {
   "cell_type": "markdown",
   "metadata": {},
   "source": [
    "## t-SNE"
   ]
  },
  {
   "cell_type": "code",
   "execution_count": 18,
   "metadata": {},
   "outputs": [],
   "source": [
    "tsne = TSNE(n_components=2)"
   ]
  },
  {
   "cell_type": "code",
   "execution_count": 19,
   "metadata": {},
   "outputs": [],
   "source": [
    "tsne_fit = tsne.fit_transform(X.iloc[:,:100])"
   ]
  },
  {
   "cell_type": "code",
   "execution_count": 20,
   "metadata": {},
   "outputs": [
    {
     "data": {
      "text/plain": [
       "<matplotlib.collections.PathCollection at 0x7feaeb17ac90>"
      ]
     },
     "execution_count": 20,
     "metadata": {},
     "output_type": "execute_result"
    },
    {
     "data": {
      "image/png": "[encoded data removed]",
      "text/plain": [
       "<Figure size 432x288 with 1 Axes>"
      ]
     },
     "metadata": {
      "needs_background": "light"
     },
     "output_type": "display_data"
    }
   ],
   "source": [
    "tsne_fit_center = tsne.fit_transform(X_center.iloc[:,:100])\n",
    "plt.scatter(x=tsne_fit_center[:500,0],y=tsne_fit_center[:500,1],c=\"red\")\n",
    "plt.scatter(x=tsne_fit_center[500:,0],y=tsne_fit_center[500:,1],c=\"blue\")"
   ]
  },
  {
   "cell_type": "code",
   "execution_count": null,
   "metadata": {},
   "outputs": [],
   "source": []
  }
 ],
 "metadata": {
  "kernelspec": {
   "display_name": "Python 3",
   "language": "python",
   "name": "python3"
  },
  "language_info": {
   "codemirror_mode": {
    "name": "ipython",
    "version": 3
   },
   "file_extension": ".py",
   "mimetype": "text/x-python",
   "name": "python",
   "nbconvert_exporter": "python",
   "pygments_lexer": "ipython3",
   "version": "3.7.6"
  }
 },
 "nbformat": 4,
 "nbformat_minor": 4
}
