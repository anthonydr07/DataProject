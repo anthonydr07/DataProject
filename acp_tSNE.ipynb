{
 "cells": [
  {
   "cell_type": "markdown",
   "metadata": {},
   "source": [
    "# <center>  ACP and T-SNE"
   ]
  },
  {
   "cell_type": "code",
   "execution_count": 29,
   "metadata": {},
   "outputs": [],
   "source": [
    "# Librairies\n",
    "\n",
    "import pandas as pd\n",
    "import numpy as np\n",
    "from scipy.stats import norm, multivariate_normal  \n",
    "from sklearn.decomposition import PCA\n",
    "from sklearn.manifold import TSNE\n",
    "import matplotlib.pyplot as plt\n",
    "from mpl_toolkits.mplot3d import Axes3D"
   ]
  },
  {
   "cell_type": "markdown",
   "metadata": {},
   "source": [
    "## PCA"
   ]
  },
  {
   "cell_type": "code",
   "execution_count": 22,
   "metadata": {},
   "outputs": [],
   "source": [
    "n = 100\n",
    "mean = np.array([0 for i in range(n)])\n",
    "cov = np.eye(n) \n",
    "col = ['X'+str(i) for i in range(n)]\n",
    "X_1 = pd.DataFrame(np.random.multivariate_normal(mean, cov, (500)),columns=col)\n",
    "X_1['Class'] = 0\n",
    "X_2 = pd.DataFrame(np.random.multivariate_normal(mean+3, cov+3, (500)),columns=col)\n",
    "X_2['Class'] = 1\n",
    "X = X_1.append(X_2).reset_index(drop=True)"
   ]
  },
  {
   "cell_type": "code",
   "execution_count": 28,
   "metadata": {},
   "outputs": [
    {
     "data": {
      "text/html": [
       "<div>\n",
       "<style scoped>\n",
       "    .dataframe tbody tr th:only-of-type {\n",
       "        vertical-align: middle;\n",
       "    }\n",
       "\n",
       "    .dataframe tbody tr th {\n",
       "        vertical-align: top;\n",
       "    }\n",
       "\n",
       "    .dataframe thead th {\n",
       "        text-align: right;\n",
       "    }\n",
       "</style>\n",
       "<table border=\"1\" class=\"dataframe\">\n",
       "  <thead>\n",
       "    <tr style=\"text-align: right;\">\n",
       "      <th></th>\n",
       "      <th>X0</th>\n",
       "      <th>X1</th>\n",
       "      <th>X2</th>\n",
       "      <th>X3</th>\n",
       "      <th>X4</th>\n",
       "      <th>X5</th>\n",
       "      <th>X6</th>\n",
       "      <th>X7</th>\n",
       "      <th>X8</th>\n",
       "      <th>X9</th>\n",
       "      <th>...</th>\n",
       "      <th>X91</th>\n",
       "      <th>X92</th>\n",
       "      <th>X93</th>\n",
       "      <th>X94</th>\n",
       "      <th>X95</th>\n",
       "      <th>X96</th>\n",
       "      <th>X97</th>\n",
       "      <th>X98</th>\n",
       "      <th>X99</th>\n",
       "      <th>Class</th>\n",
       "    </tr>\n",
       "  </thead>\n",
       "  <tbody>\n",
       "    <tr>\n",
       "      <th>0</th>\n",
       "      <td>0.992677</td>\n",
       "      <td>1.024940</td>\n",
       "      <td>-1.004679</td>\n",
       "      <td>-1.784244</td>\n",
       "      <td>-0.454274</td>\n",
       "      <td>0.652249</td>\n",
       "      <td>0.082473</td>\n",
       "      <td>-0.825379</td>\n",
       "      <td>1.027279</td>\n",
       "      <td>-0.782146</td>\n",
       "      <td>...</td>\n",
       "      <td>1.474556</td>\n",
       "      <td>0.548920</td>\n",
       "      <td>0.348400</td>\n",
       "      <td>0.342333</td>\n",
       "      <td>-0.375394</td>\n",
       "      <td>0.643337</td>\n",
       "      <td>0.767421</td>\n",
       "      <td>1.000767</td>\n",
       "      <td>0.654833</td>\n",
       "      <td>0</td>\n",
       "    </tr>\n",
       "    <tr>\n",
       "      <th>1</th>\n",
       "      <td>-0.221897</td>\n",
       "      <td>0.586789</td>\n",
       "      <td>-2.229145</td>\n",
       "      <td>0.530946</td>\n",
       "      <td>0.137941</td>\n",
       "      <td>0.895821</td>\n",
       "      <td>-1.372307</td>\n",
       "      <td>0.330258</td>\n",
       "      <td>-0.422424</td>\n",
       "      <td>0.909893</td>\n",
       "      <td>...</td>\n",
       "      <td>-0.622982</td>\n",
       "      <td>0.578996</td>\n",
       "      <td>1.406149</td>\n",
       "      <td>-0.194096</td>\n",
       "      <td>-0.298877</td>\n",
       "      <td>0.954066</td>\n",
       "      <td>-1.108368</td>\n",
       "      <td>-1.031375</td>\n",
       "      <td>0.526568</td>\n",
       "      <td>0</td>\n",
       "    </tr>\n",
       "    <tr>\n",
       "      <th>2</th>\n",
       "      <td>0.358967</td>\n",
       "      <td>-1.325310</td>\n",
       "      <td>-0.183990</td>\n",
       "      <td>-1.027018</td>\n",
       "      <td>0.001310</td>\n",
       "      <td>0.879910</td>\n",
       "      <td>-0.542977</td>\n",
       "      <td>-0.583433</td>\n",
       "      <td>0.549300</td>\n",
       "      <td>0.057313</td>\n",
       "      <td>...</td>\n",
       "      <td>-0.407905</td>\n",
       "      <td>0.732545</td>\n",
       "      <td>-0.209770</td>\n",
       "      <td>0.673910</td>\n",
       "      <td>-0.201056</td>\n",
       "      <td>1.407571</td>\n",
       "      <td>0.404517</td>\n",
       "      <td>1.274961</td>\n",
       "      <td>-0.518904</td>\n",
       "      <td>0</td>\n",
       "    </tr>\n",
       "    <tr>\n",
       "      <th>3</th>\n",
       "      <td>0.401007</td>\n",
       "      <td>0.608645</td>\n",
       "      <td>-0.793395</td>\n",
       "      <td>-1.424154</td>\n",
       "      <td>1.054129</td>\n",
       "      <td>-0.048131</td>\n",
       "      <td>0.851514</td>\n",
       "      <td>-0.365750</td>\n",
       "      <td>-0.656757</td>\n",
       "      <td>-0.222221</td>\n",
       "      <td>...</td>\n",
       "      <td>1.478722</td>\n",
       "      <td>-1.315177</td>\n",
       "      <td>-0.812957</td>\n",
       "      <td>1.629580</td>\n",
       "      <td>-1.104492</td>\n",
       "      <td>-0.630971</td>\n",
       "      <td>1.225385</td>\n",
       "      <td>0.231983</td>\n",
       "      <td>0.152369</td>\n",
       "      <td>0</td>\n",
       "    </tr>\n",
       "    <tr>\n",
       "      <th>4</th>\n",
       "      <td>-0.209961</td>\n",
       "      <td>-0.404783</td>\n",
       "      <td>-0.739106</td>\n",
       "      <td>-0.302144</td>\n",
       "      <td>0.513469</td>\n",
       "      <td>1.095770</td>\n",
       "      <td>0.069271</td>\n",
       "      <td>0.207066</td>\n",
       "      <td>-1.432717</td>\n",
       "      <td>-1.256185</td>\n",
       "      <td>...</td>\n",
       "      <td>-0.953320</td>\n",
       "      <td>-0.777806</td>\n",
       "      <td>1.121742</td>\n",
       "      <td>1.104049</td>\n",
       "      <td>-0.696823</td>\n",
       "      <td>0.150298</td>\n",
       "      <td>1.264345</td>\n",
       "      <td>1.702576</td>\n",
       "      <td>-1.268292</td>\n",
       "      <td>0</td>\n",
       "    </tr>\n",
       "  </tbody>\n",
       "</table>\n",
       "<p>5 rows × 101 columns</p>\n",
       "</div>"
      ],
      "text/plain": [
       "         X0        X1        X2        X3        X4        X5        X6  \\\n",
       "0  0.992677  1.024940 -1.004679 -1.784244 -0.454274  0.652249  0.082473   \n",
       "1 -0.221897  0.586789 -2.229145  0.530946  0.137941  0.895821 -1.372307   \n",
       "2  0.358967 -1.325310 -0.183990 -1.027018  0.001310  0.879910 -0.542977   \n",
       "3  0.401007  0.608645 -0.793395 -1.424154  1.054129 -0.048131  0.851514   \n",
       "4 -0.209961 -0.404783 -0.739106 -0.302144  0.513469  1.095770  0.069271   \n",
       "\n",
       "         X7        X8        X9  ...       X91       X92       X93       X94  \\\n",
       "0 -0.825379  1.027279 -0.782146  ...  1.474556  0.548920  0.348400  0.342333   \n",
       "1  0.330258 -0.422424  0.909893  ... -0.622982  0.578996  1.406149 -0.194096   \n",
       "2 -0.583433  0.549300  0.057313  ... -0.407905  0.732545 -0.209770  0.673910   \n",
       "3 -0.365750 -0.656757 -0.222221  ...  1.478722 -1.315177 -0.812957  1.629580   \n",
       "4  0.207066 -1.432717 -1.256185  ... -0.953320 -0.777806  1.121742  1.104049   \n",
       "\n",
       "        X95       X96       X97       X98       X99  Class  \n",
       "0 -0.375394  0.643337  0.767421  1.000767  0.654833      0  \n",
       "1 -0.298877  0.954066 -1.108368 -1.031375  0.526568      0  \n",
       "2 -0.201056  1.407571  0.404517  1.274961 -0.518904      0  \n",
       "3 -1.104492 -0.630971  1.225385  0.231983  0.152369      0  \n",
       "4 -0.696823  0.150298  1.264345  1.702576 -1.268292      0  \n",
       "\n",
       "[5 rows x 101 columns]"
      ]
     },
     "execution_count": 28,
     "metadata": {},
     "output_type": "execute_result"
    }
   ],
   "source": [
    "X.head()"
   ]
  },
  {
   "cell_type": "code",
   "execution_count": 24,
   "metadata": {},
   "outputs": [
    {
     "name": "stdout",
     "output_type": "stream",
     "text": [
      "var explained : 0.7925906986193905\n"
     ]
    },
    {
     "data": {
      "text/plain": [
       "array([[-14.49227702,  -0.37042734],\n",
       "       [-14.59006876,  -0.16379936],\n",
       "       [-15.45934118,  -1.40132208],\n",
       "       ...,\n",
       "       [ 18.98422906,   0.18939001],\n",
       "       [ 19.35947347,   0.9171924 ],\n",
       "       [ -7.242631  ,  -0.86336643]])"
      ]
     },
     "execution_count": 24,
     "metadata": {},
     "output_type": "execute_result"
    }
   ],
   "source": [
    "n_components = 2\n",
    "pca = PCA(n_components=n_components,random_state=42)\n",
    "pca_fit = pca.fit(X.iloc[:,:100])\n",
    "print(f\"var explained : {np.sum(pca_fit.explained_variance_ratio_)}\")\n",
    "pca_trans = pca.fit_transform(X)\n",
    "pca_trans"
   ]
  },
  {
   "cell_type": "code",
   "execution_count": 25,
   "metadata": {},
   "outputs": [
    {
     "data": {
      "text/plain": [
       "<matplotlib.collections.PathCollection at 0x7ff9cc787f10>"
      ]
     },
     "execution_count": 25,
     "metadata": {},
     "output_type": "execute_result"
    },
    {
     "data": {
      "image/png": "[encoded data removed]",
      "text/plain": [
       "<Figure size 432x288 with 1 Axes>"
      ]
     },
     "metadata": {
      "needs_background": "light"
     },
     "output_type": "display_data"
    }
   ],
   "source": [
    "plt.scatter(x=pca_trans[:500,:1],y=pca_trans[:500,1:2],c=\"red\")\n",
    "plt.scatter(x=pca_trans[500:,:1],y=pca_trans[500:,1:2],c=\"blue\")"
   ]
  },
  {
   "cell_type": "code",
   "execution_count": 26,
   "metadata": {},
   "outputs": [],
   "source": [
    "var_explained = []\n",
    "n_comp = []\n",
    "for i in range(2,50):\n",
    "    n_components = i\n",
    "    pca_i = PCA(n_components=n_components,random_state=42)\n",
    "    pca_fit_i = pca_i.fit(X.iloc[:,:100])\n",
    "    var_explained.append(np.sum(pca_fit_i.explained_variance_ratio_))\n",
    "    n_comp.append(i)"
   ]
  },
  {
   "cell_type": "code",
   "execution_count": 27,
   "metadata": {},
   "outputs": [
    {
     "data": {
      "text/plain": [
       "[<matplotlib.lines.Line2D at 0x7ff9d27a5810>]"
      ]
     },
     "execution_count": 27,
     "metadata": {},
     "output_type": "execute_result"
    },
    {
     "data": {
      "image/png": "[encoded data removed]",
      "text/plain": [
       "<Figure size 432x288 with 1 Axes>"
      ]
     },
     "metadata": {
      "needs_background": "light"
     },
     "output_type": "display_data"
    }
   ],
   "source": [
    "plt.plot(n_comp,var_explained)"
   ]
  },
  {
   "cell_type": "markdown",
   "metadata": {},
   "source": [
    "## t-SNE"
   ]
  },
  {
   "cell_type": "code",
   "execution_count": 30,
   "metadata": {},
   "outputs": [],
   "source": [
    "tsne = TSNE(n_components=2)"
   ]
  },
  {
   "cell_type": "code",
   "execution_count": 33,
   "metadata": {},
   "outputs": [],
   "source": [
    "tsne_fit = tsne.fit_transform(X.iloc[:,:100])"
   ]
  },
  {
   "cell_type": "code",
   "execution_count": 35,
   "metadata": {},
   "outputs": [
    {
     "data": {
      "text/plain": [
       "<matplotlib.collections.PathCollection at 0x7ff9b3b97e50>"
      ]
     },
     "execution_count": 35,
     "metadata": {},
     "output_type": "execute_result"
    },
    {
     "data": {
      "image/png": "[encoded data removed]",
      "text/plain": [
       "<Figure size 432x288 with 1 Axes>"
      ]
     },
     "metadata": {
      "needs_background": "light"
     },
     "output_type": "display_data"
    }
   ],
   "source": [
    "plt.scatter(x=tsne_fit[:500,:1],y=tsne_fit[:500,1:2],c=\"red\")\n",
    "plt.scatter(x=tsne_fit[500:,:1],y=tsne_fit[500:,1:2],c=\"blue\")"
   ]
  }
 ],
 "metadata": {
  "kernelspec": {
   "display_name": "Python 3",
   "language": "python",
   "name": "python3"
  },
  "language_info": {
   "codemirror_mode": {
    "name": "ipython",
    "version": 3
   },
   "file_extension": ".py",
   "mimetype": "text/x-python",
   "name": "python",
   "nbconvert_exporter": "python",
   "pygments_lexer": "ipython3",
   "version": "3.7.6"
  }
 },
 "nbformat": 4,
 "nbformat_minor": 4
}
